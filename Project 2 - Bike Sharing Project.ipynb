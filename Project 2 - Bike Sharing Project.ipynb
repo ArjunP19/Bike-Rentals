{
 "cells": [
  {
   "cell_type": "code",
   "execution_count": 3,
   "metadata": {},
   "outputs": [],
   "source": [
    "#Importing the basic library's\n",
    "import numpy as np\n",
    "import pandas as pd\n",
    "import matplotlib.pyplot as plt\n",
    "%matplotlib inline \n",
    "import seaborn as sns\n"
   ]
  },
  {
   "cell_type": "code",
   "execution_count": 4,
   "metadata": {},
   "outputs": [],
   "source": [
    "#Read the bike rent dataset\n",
    "bike_df = pd.read_csv(\"day.csv\")"
   ]
  },
  {
   "cell_type": "code",
   "execution_count": 5,
   "metadata": {},
   "outputs": [
    {
     "data": {
      "text/html": [
       "<div>\n",
       "<style scoped>\n",
       "    .dataframe tbody tr th:only-of-type {\n",
       "        vertical-align: middle;\n",
       "    }\n",
       "\n",
       "    .dataframe tbody tr th {\n",
       "        vertical-align: top;\n",
       "    }\n",
       "\n",
       "    .dataframe thead th {\n",
       "        text-align: right;\n",
       "    }\n",
       "</style>\n",
       "<table border=\"1\" class=\"dataframe\">\n",
       "  <thead>\n",
       "    <tr style=\"text-align: right;\">\n",
       "      <th></th>\n",
       "      <th>instant</th>\n",
       "      <th>dteday</th>\n",
       "      <th>season</th>\n",
       "      <th>yr</th>\n",
       "      <th>mnth</th>\n",
       "      <th>holiday</th>\n",
       "      <th>weekday</th>\n",
       "      <th>workingday</th>\n",
       "      <th>weathersit</th>\n",
       "      <th>temp</th>\n",
       "      <th>atemp</th>\n",
       "      <th>hum</th>\n",
       "      <th>windspeed</th>\n",
       "      <th>casual</th>\n",
       "      <th>registered</th>\n",
       "      <th>cnt</th>\n",
       "    </tr>\n",
       "  </thead>\n",
       "  <tbody>\n",
       "    <tr>\n",
       "      <th>0</th>\n",
       "      <td>1</td>\n",
       "      <td>1/1/2011</td>\n",
       "      <td>1</td>\n",
       "      <td>0</td>\n",
       "      <td>1</td>\n",
       "      <td>0</td>\n",
       "      <td>6</td>\n",
       "      <td>0</td>\n",
       "      <td>2</td>\n",
       "      <td>0.344167</td>\n",
       "      <td>0.363625</td>\n",
       "      <td>0.805833</td>\n",
       "      <td>0.160446</td>\n",
       "      <td>331</td>\n",
       "      <td>654</td>\n",
       "      <td>985</td>\n",
       "    </tr>\n",
       "    <tr>\n",
       "      <th>1</th>\n",
       "      <td>2</td>\n",
       "      <td>1/2/2011</td>\n",
       "      <td>1</td>\n",
       "      <td>0</td>\n",
       "      <td>1</td>\n",
       "      <td>0</td>\n",
       "      <td>0</td>\n",
       "      <td>0</td>\n",
       "      <td>2</td>\n",
       "      <td>0.363478</td>\n",
       "      <td>0.353739</td>\n",
       "      <td>0.696087</td>\n",
       "      <td>0.248539</td>\n",
       "      <td>131</td>\n",
       "      <td>670</td>\n",
       "      <td>801</td>\n",
       "    </tr>\n",
       "    <tr>\n",
       "      <th>2</th>\n",
       "      <td>3</td>\n",
       "      <td>1/3/2011</td>\n",
       "      <td>1</td>\n",
       "      <td>0</td>\n",
       "      <td>1</td>\n",
       "      <td>0</td>\n",
       "      <td>1</td>\n",
       "      <td>1</td>\n",
       "      <td>1</td>\n",
       "      <td>0.196364</td>\n",
       "      <td>0.189405</td>\n",
       "      <td>0.437273</td>\n",
       "      <td>0.248309</td>\n",
       "      <td>120</td>\n",
       "      <td>1229</td>\n",
       "      <td>1349</td>\n",
       "    </tr>\n",
       "    <tr>\n",
       "      <th>3</th>\n",
       "      <td>4</td>\n",
       "      <td>1/4/2011</td>\n",
       "      <td>1</td>\n",
       "      <td>0</td>\n",
       "      <td>1</td>\n",
       "      <td>0</td>\n",
       "      <td>2</td>\n",
       "      <td>1</td>\n",
       "      <td>1</td>\n",
       "      <td>0.200000</td>\n",
       "      <td>0.212122</td>\n",
       "      <td>0.590435</td>\n",
       "      <td>0.160296</td>\n",
       "      <td>108</td>\n",
       "      <td>1454</td>\n",
       "      <td>1562</td>\n",
       "    </tr>\n",
       "    <tr>\n",
       "      <th>4</th>\n",
       "      <td>5</td>\n",
       "      <td>1/5/2011</td>\n",
       "      <td>1</td>\n",
       "      <td>0</td>\n",
       "      <td>1</td>\n",
       "      <td>0</td>\n",
       "      <td>3</td>\n",
       "      <td>1</td>\n",
       "      <td>1</td>\n",
       "      <td>0.226957</td>\n",
       "      <td>0.229270</td>\n",
       "      <td>0.436957</td>\n",
       "      <td>0.186900</td>\n",
       "      <td>82</td>\n",
       "      <td>1518</td>\n",
       "      <td>1600</td>\n",
       "    </tr>\n",
       "  </tbody>\n",
       "</table>\n",
       "</div>"
      ],
      "text/plain": [
       "   instant    dteday  season  yr  mnth  holiday  weekday  workingday  \\\n",
       "0        1  1/1/2011       1   0     1        0        6           0   \n",
       "1        2  1/2/2011       1   0     1        0        0           0   \n",
       "2        3  1/3/2011       1   0     1        0        1           1   \n",
       "3        4  1/4/2011       1   0     1        0        2           1   \n",
       "4        5  1/5/2011       1   0     1        0        3           1   \n",
       "\n",
       "   weathersit      temp     atemp       hum  windspeed  casual  registered  \\\n",
       "0           2  0.344167  0.363625  0.805833   0.160446     331         654   \n",
       "1           2  0.363478  0.353739  0.696087   0.248539     131         670   \n",
       "2           1  0.196364  0.189405  0.437273   0.248309     120        1229   \n",
       "3           1  0.200000  0.212122  0.590435   0.160296     108        1454   \n",
       "4           1  0.226957  0.229270  0.436957   0.186900      82        1518   \n",
       "\n",
       "    cnt  \n",
       "0   985  \n",
       "1   801  \n",
       "2  1349  \n",
       "3  1562  \n",
       "4  1600  "
      ]
     },
     "execution_count": 5,
     "metadata": {},
     "output_type": "execute_result"
    }
   ],
   "source": [
    "#display the dataset\n",
    "bike_df.head()"
   ]
  },
  {
   "cell_type": "markdown",
   "metadata": {},
   "source": [
    "# Explore the dataset "
   ]
  },
  {
   "cell_type": "code",
   "execution_count": 6,
   "metadata": {},
   "outputs": [
    {
     "data": {
      "text/plain": [
       "(731, 16)"
      ]
     },
     "execution_count": 6,
     "metadata": {},
     "output_type": "execute_result"
    }
   ],
   "source": [
    "#Display the dataset dimension\n",
    "bike_df.shape"
   ]
  },
  {
   "cell_type": "code",
   "execution_count": 7,
   "metadata": {},
   "outputs": [
    {
     "data": {
      "text/plain": [
       "Index(['instant', 'dteday', 'season', 'yr', 'mnth', 'holiday', 'weekday',\n",
       "       'workingday', 'weathersit', 'temp', 'atemp', 'hum', 'windspeed',\n",
       "       'casual', 'registered', 'cnt'],\n",
       "      dtype='object')"
      ]
     },
     "execution_count": 7,
     "metadata": {},
     "output_type": "execute_result"
    }
   ],
   "source": [
    "#Display the column name\n",
    "bike_df.columns"
   ]
  },
  {
   "cell_type": "code",
   "execution_count": 8,
   "metadata": {},
   "outputs": [
    {
     "data": {
      "text/plain": [
       "instant         int64\n",
       "dteday         object\n",
       "season          int64\n",
       "yr              int64\n",
       "mnth            int64\n",
       "holiday         int64\n",
       "weekday         int64\n",
       "workingday      int64\n",
       "weathersit      int64\n",
       "temp          float64\n",
       "atemp         float64\n",
       "hum           float64\n",
       "windspeed     float64\n",
       "casual          int64\n",
       "registered      int64\n",
       "cnt             int64\n",
       "dtype: object"
      ]
     },
     "execution_count": 8,
     "metadata": {},
     "output_type": "execute_result"
    }
   ],
   "source": [
    "#Display the columns data type\n",
    "bike_df.dtypes"
   ]
  },
  {
   "cell_type": "code",
   "execution_count": 9,
   "metadata": {},
   "outputs": [
    {
     "data": {
      "text/html": [
       "<div>\n",
       "<style scoped>\n",
       "    .dataframe tbody tr th:only-of-type {\n",
       "        vertical-align: middle;\n",
       "    }\n",
       "\n",
       "    .dataframe tbody tr th {\n",
       "        vertical-align: top;\n",
       "    }\n",
       "\n",
       "    .dataframe thead th {\n",
       "        text-align: right;\n",
       "    }\n",
       "</style>\n",
       "<table border=\"1\" class=\"dataframe\">\n",
       "  <thead>\n",
       "    <tr style=\"text-align: right;\">\n",
       "      <th></th>\n",
       "      <th>instant</th>\n",
       "      <th>season</th>\n",
       "      <th>yr</th>\n",
       "      <th>mnth</th>\n",
       "      <th>holiday</th>\n",
       "      <th>weekday</th>\n",
       "      <th>workingday</th>\n",
       "      <th>weathersit</th>\n",
       "      <th>temp</th>\n",
       "      <th>atemp</th>\n",
       "      <th>hum</th>\n",
       "      <th>windspeed</th>\n",
       "      <th>casual</th>\n",
       "      <th>registered</th>\n",
       "      <th>cnt</th>\n",
       "    </tr>\n",
       "  </thead>\n",
       "  <tbody>\n",
       "    <tr>\n",
       "      <th>count</th>\n",
       "      <td>731.000000</td>\n",
       "      <td>731.000000</td>\n",
       "      <td>731.000000</td>\n",
       "      <td>731.000000</td>\n",
       "      <td>731.000000</td>\n",
       "      <td>731.000000</td>\n",
       "      <td>731.000000</td>\n",
       "      <td>731.000000</td>\n",
       "      <td>731.000000</td>\n",
       "      <td>731.000000</td>\n",
       "      <td>731.000000</td>\n",
       "      <td>731.000000</td>\n",
       "      <td>731.000000</td>\n",
       "      <td>731.000000</td>\n",
       "      <td>731.000000</td>\n",
       "    </tr>\n",
       "    <tr>\n",
       "      <th>mean</th>\n",
       "      <td>366.000000</td>\n",
       "      <td>2.496580</td>\n",
       "      <td>0.500684</td>\n",
       "      <td>6.519836</td>\n",
       "      <td>0.028728</td>\n",
       "      <td>2.997264</td>\n",
       "      <td>0.683995</td>\n",
       "      <td>1.395349</td>\n",
       "      <td>0.495385</td>\n",
       "      <td>0.474354</td>\n",
       "      <td>0.627894</td>\n",
       "      <td>0.190486</td>\n",
       "      <td>848.176471</td>\n",
       "      <td>3656.172367</td>\n",
       "      <td>4504.348837</td>\n",
       "    </tr>\n",
       "    <tr>\n",
       "      <th>std</th>\n",
       "      <td>211.165812</td>\n",
       "      <td>1.110807</td>\n",
       "      <td>0.500342</td>\n",
       "      <td>3.451913</td>\n",
       "      <td>0.167155</td>\n",
       "      <td>2.004787</td>\n",
       "      <td>0.465233</td>\n",
       "      <td>0.544894</td>\n",
       "      <td>0.183051</td>\n",
       "      <td>0.162961</td>\n",
       "      <td>0.142429</td>\n",
       "      <td>0.077498</td>\n",
       "      <td>686.622488</td>\n",
       "      <td>1560.256377</td>\n",
       "      <td>1937.211452</td>\n",
       "    </tr>\n",
       "    <tr>\n",
       "      <th>min</th>\n",
       "      <td>1.000000</td>\n",
       "      <td>1.000000</td>\n",
       "      <td>0.000000</td>\n",
       "      <td>1.000000</td>\n",
       "      <td>0.000000</td>\n",
       "      <td>0.000000</td>\n",
       "      <td>0.000000</td>\n",
       "      <td>1.000000</td>\n",
       "      <td>0.059130</td>\n",
       "      <td>0.079070</td>\n",
       "      <td>0.000000</td>\n",
       "      <td>0.022392</td>\n",
       "      <td>2.000000</td>\n",
       "      <td>20.000000</td>\n",
       "      <td>22.000000</td>\n",
       "    </tr>\n",
       "    <tr>\n",
       "      <th>25%</th>\n",
       "      <td>183.500000</td>\n",
       "      <td>2.000000</td>\n",
       "      <td>0.000000</td>\n",
       "      <td>4.000000</td>\n",
       "      <td>0.000000</td>\n",
       "      <td>1.000000</td>\n",
       "      <td>0.000000</td>\n",
       "      <td>1.000000</td>\n",
       "      <td>0.337083</td>\n",
       "      <td>0.337842</td>\n",
       "      <td>0.520000</td>\n",
       "      <td>0.134950</td>\n",
       "      <td>315.500000</td>\n",
       "      <td>2497.000000</td>\n",
       "      <td>3152.000000</td>\n",
       "    </tr>\n",
       "    <tr>\n",
       "      <th>50%</th>\n",
       "      <td>366.000000</td>\n",
       "      <td>3.000000</td>\n",
       "      <td>1.000000</td>\n",
       "      <td>7.000000</td>\n",
       "      <td>0.000000</td>\n",
       "      <td>3.000000</td>\n",
       "      <td>1.000000</td>\n",
       "      <td>1.000000</td>\n",
       "      <td>0.498333</td>\n",
       "      <td>0.486733</td>\n",
       "      <td>0.626667</td>\n",
       "      <td>0.180975</td>\n",
       "      <td>713.000000</td>\n",
       "      <td>3662.000000</td>\n",
       "      <td>4548.000000</td>\n",
       "    </tr>\n",
       "    <tr>\n",
       "      <th>75%</th>\n",
       "      <td>548.500000</td>\n",
       "      <td>3.000000</td>\n",
       "      <td>1.000000</td>\n",
       "      <td>10.000000</td>\n",
       "      <td>0.000000</td>\n",
       "      <td>5.000000</td>\n",
       "      <td>1.000000</td>\n",
       "      <td>2.000000</td>\n",
       "      <td>0.655417</td>\n",
       "      <td>0.608602</td>\n",
       "      <td>0.730209</td>\n",
       "      <td>0.233214</td>\n",
       "      <td>1096.000000</td>\n",
       "      <td>4776.500000</td>\n",
       "      <td>5956.000000</td>\n",
       "    </tr>\n",
       "    <tr>\n",
       "      <th>max</th>\n",
       "      <td>731.000000</td>\n",
       "      <td>4.000000</td>\n",
       "      <td>1.000000</td>\n",
       "      <td>12.000000</td>\n",
       "      <td>1.000000</td>\n",
       "      <td>6.000000</td>\n",
       "      <td>1.000000</td>\n",
       "      <td>3.000000</td>\n",
       "      <td>0.861667</td>\n",
       "      <td>0.840896</td>\n",
       "      <td>0.972500</td>\n",
       "      <td>0.507463</td>\n",
       "      <td>3410.000000</td>\n",
       "      <td>6946.000000</td>\n",
       "      <td>8714.000000</td>\n",
       "    </tr>\n",
       "  </tbody>\n",
       "</table>\n",
       "</div>"
      ],
      "text/plain": [
       "          instant      season          yr        mnth     holiday     weekday  \\\n",
       "count  731.000000  731.000000  731.000000  731.000000  731.000000  731.000000   \n",
       "mean   366.000000    2.496580    0.500684    6.519836    0.028728    2.997264   \n",
       "std    211.165812    1.110807    0.500342    3.451913    0.167155    2.004787   \n",
       "min      1.000000    1.000000    0.000000    1.000000    0.000000    0.000000   \n",
       "25%    183.500000    2.000000    0.000000    4.000000    0.000000    1.000000   \n",
       "50%    366.000000    3.000000    1.000000    7.000000    0.000000    3.000000   \n",
       "75%    548.500000    3.000000    1.000000   10.000000    0.000000    5.000000   \n",
       "max    731.000000    4.000000    1.000000   12.000000    1.000000    6.000000   \n",
       "\n",
       "       workingday  weathersit        temp       atemp         hum   windspeed  \\\n",
       "count  731.000000  731.000000  731.000000  731.000000  731.000000  731.000000   \n",
       "mean     0.683995    1.395349    0.495385    0.474354    0.627894    0.190486   \n",
       "std      0.465233    0.544894    0.183051    0.162961    0.142429    0.077498   \n",
       "min      0.000000    1.000000    0.059130    0.079070    0.000000    0.022392   \n",
       "25%      0.000000    1.000000    0.337083    0.337842    0.520000    0.134950   \n",
       "50%      1.000000    1.000000    0.498333    0.486733    0.626667    0.180975   \n",
       "75%      1.000000    2.000000    0.655417    0.608602    0.730209    0.233214   \n",
       "max      1.000000    3.000000    0.861667    0.840896    0.972500    0.507463   \n",
       "\n",
       "            casual   registered          cnt  \n",
       "count   731.000000   731.000000   731.000000  \n",
       "mean    848.176471  3656.172367  4504.348837  \n",
       "std     686.622488  1560.256377  1937.211452  \n",
       "min       2.000000    20.000000    22.000000  \n",
       "25%     315.500000  2497.000000  3152.000000  \n",
       "50%     713.000000  3662.000000  4548.000000  \n",
       "75%    1096.000000  4776.500000  5956.000000  \n",
       "max    3410.000000  6946.000000  8714.000000  "
      ]
     },
     "execution_count": 9,
     "metadata": {},
     "output_type": "execute_result"
    }
   ],
   "source": [
    "#Display the stats of the dataset\n",
    "bike_df.describe()"
   ]
  },
  {
   "cell_type": "markdown",
   "metadata": {},
   "source": [
    "# Univariate analysis"
   ]
  },
  {
   "cell_type": "markdown",
   "metadata": {},
   "source": [
    "# Continues variable"
   ]
  },
  {
   "cell_type": "code",
   "execution_count": 10,
   "metadata": {},
   "outputs": [
    {
     "data": {
      "text/plain": [
       "<matplotlib.axes._subplots.AxesSubplot at 0x25be6608470>"
      ]
     },
     "execution_count": 10,
     "metadata": {},
     "output_type": "execute_result"
    },
    {
     "data": {
      "image/png": "[encoded data removed]",
      "text/plain": [
       "<Figure size 432x288 with 1 Axes>"
      ]
     },
     "metadata": {
      "needs_background": "light"
     },
     "output_type": "display_data"
    }
   ],
   "source": [
    "#Plot histogram for \"temp\"\n",
    "bike_df['temp'].hist(bins=20)"
   ]
  },
  {
   "cell_type": "markdown",
   "metadata": {},
   "source": [
    "From above graph, we can say that bikes were rented more when temprature is moderate or average, compare to temprature when it is too cold or hot"
   ]
  },
  {
   "cell_type": "code",
   "execution_count": 11,
   "metadata": {},
   "outputs": [
    {
     "data": {
      "text/plain": [
       "<matplotlib.axes._subplots.AxesSubplot at 0x25be6dbf898>"
      ]
     },
     "execution_count": 11,
     "metadata": {},
     "output_type": "execute_result"
    },
    {
     "data": {
      "image/png": "[encoded data removed]",
      "text/plain": [
       "<Figure size 432x288 with 1 Axes>"
      ]
     },
     "metadata": {
      "needs_background": "light"
     },
     "output_type": "display_data"
    }
   ],
   "source": [
    "#Plot histogram for \"atemp\" \n",
    "bike_df['atemp'].hist(bins=20)"
   ]
  },
  {
   "cell_type": "markdown",
   "metadata": {},
   "source": [
    "From above graph, we can say that bikes were rented more when feeling temprature is moderate or average, compare to feeling temprature when it is too cold or hot"
   ]
  },
  {
   "cell_type": "markdown",
   "metadata": {},
   "source": [
    "Also we can notice that both temp and atemp distribution are alomst similar"
   ]
  },
  {
   "cell_type": "markdown",
   "metadata": {},
   "source": [
    "# Categorical variable"
   ]
  },
  {
   "cell_type": "code",
   "execution_count": 12,
   "metadata": {},
   "outputs": [
    {
     "data": {
      "text/plain": [
       "array([1, 2, 3, 4], dtype=int64)"
      ]
     },
     "execution_count": 12,
     "metadata": {},
     "output_type": "execute_result"
    }
   ],
   "source": [
    "#Plot a graph on \"season\" \n",
    "bike_df['season'].unique()"
   ]
  },
  {
   "cell_type": "markdown",
   "metadata": {},
   "source": [
    "From dataset description - Season (1:spring, 2:summer, 3:fall, 4:winter)"
   ]
  },
  {
   "cell_type": "code",
   "execution_count": 13,
   "metadata": {},
   "outputs": [
    {
     "data": {
      "text/plain": [
       "3    188\n",
       "2    184\n",
       "1    181\n",
       "4    178\n",
       "Name: season, dtype: int64"
      ]
     },
     "execution_count": 13,
     "metadata": {},
     "output_type": "execute_result"
    }
   ],
   "source": [
    "bike_df['season'].value_counts()"
   ]
  },
  {
   "cell_type": "code",
   "execution_count": 14,
   "metadata": {},
   "outputs": [
    {
     "data": {
      "text/plain": [
       "<matplotlib.legend.Legend at 0x25be6eb0b38>"
      ]
     },
     "execution_count": 14,
     "metadata": {},
     "output_type": "execute_result"
    },
    {
     "data": {
      "image/png": "[encoded data removed]",
      "text/plain": [
       "<Figure size 504x504 with 1 Axes>"
      ]
     },
     "metadata": {},
     "output_type": "display_data"
    }
   ],
   "source": [
    "plt.figure(figsize=(7,7))\n",
    "season_count = bike_df['season'].value_counts()\n",
    "labels = season_count.index\n",
    "values = season_count.values\n",
    "bike_df['season'].value_counts().plot(kind='pie',labels=values)\n",
    "plt.legend(labels)"
   ]
  },
  {
   "cell_type": "markdown",
   "metadata": {},
   "source": [
    "From above plot, we can say that bike were rented almost equally in all the season((1:spring, 2:summer, 3:fall, 4:winter))"
   ]
  },
  {
   "cell_type": "code",
   "execution_count": 15,
   "metadata": {},
   "outputs": [
    {
     "data": {
      "text/plain": [
       "array([0, 1], dtype=int64)"
      ]
     },
     "execution_count": 15,
     "metadata": {},
     "output_type": "execute_result"
    }
   ],
   "source": [
    "#Plot a graph on \"workingday\"\n",
    "bike_df['workingday'].unique()"
   ]
  },
  {
   "cell_type": "markdown",
   "metadata": {},
   "source": [
    "day is neither weekend nor holiday is 1, otherwise is 0"
   ]
  },
  {
   "cell_type": "code",
   "execution_count": 16,
   "metadata": {},
   "outputs": [
    {
     "data": {
      "text/plain": [
       "1    500\n",
       "0    231\n",
       "Name: workingday, dtype: int64"
      ]
     },
     "execution_count": 16,
     "metadata": {},
     "output_type": "execute_result"
    }
   ],
   "source": [
    "bike_df['workingday'].value_counts()"
   ]
  },
  {
   "cell_type": "code",
   "execution_count": 17,
   "metadata": {},
   "outputs": [
    {
     "data": {
      "text/plain": [
       "<matplotlib.axes._subplots.AxesSubplot at 0x25be6efecf8>"
      ]
     },
     "execution_count": 17,
     "metadata": {},
     "output_type": "execute_result"
    },
    {
     "data": {
      "image/png": "[encoded data removed]",
      "text/plain": [
       "<Figure size 432x288 with 1 Axes>"
      ]
     },
     "metadata": {
      "needs_background": "light"
     },
     "output_type": "display_data"
    }
   ],
   "source": [
    "sns.countplot(x='workingday', data=bike_df)"
   ]
  },
  {
   "cell_type": "markdown",
   "metadata": {},
   "source": [
    "From above plot, we can say that bike were rented more on weekend or on holiday compare to working day"
   ]
  },
  {
   "cell_type": "markdown",
   "metadata": {},
   "source": [
    "# Bivariate analysis"
   ]
  },
  {
   "cell_type": "markdown",
   "metadata": {},
   "source": [
    "# Continous variables"
   ]
  },
  {
   "cell_type": "code",
   "execution_count": 18,
   "metadata": {
    "scrolled": true
   },
   "outputs": [
    {
     "data": {
      "text/plain": [
       "<matplotlib.axes._subplots.AxesSubplot at 0x25be6f4ea58>"
      ]
     },
     "execution_count": 18,
     "metadata": {},
     "output_type": "execute_result"
    },
    {
     "data": {
      "image/png": "[encoded data removed]",
      "text/plain": [
       "<Figure size 432x288 with 1 Axes>"
      ]
     },
     "metadata": {
      "needs_background": "light"
     },
     "output_type": "display_data"
    }
   ],
   "source": [
    "bike_df.plot.scatter('temp','atemp', color='blue')"
   ]
  },
  {
   "cell_type": "markdown",
   "metadata": {},
   "source": [
    "From the above graph, we can observer temp and atemp has a positve linear relation. "
   ]
  },
  {
   "cell_type": "markdown",
   "metadata": {},
   "source": [
    "Correlation give us idea about Linear relpationship b/w 2 continous variables"
   ]
  },
  {
   "cell_type": "code",
   "execution_count": 19,
   "metadata": {},
   "outputs": [
    {
     "data": {
      "text/plain": [
       "0.9917015532294641"
      ]
     },
     "execution_count": 19,
     "metadata": {},
     "output_type": "execute_result"
    }
   ],
   "source": [
    "bike_df.temp.corr(bike_df.atemp)"
   ]
  },
  {
   "cell_type": "markdown",
   "metadata": {},
   "source": [
    "# Continous and Categorical "
   ]
  },
  {
   "cell_type": "code",
   "execution_count": 20,
   "metadata": {},
   "outputs": [
    {
     "data": {
      "text/plain": [
       "<matplotlib.axes._subplots.AxesSubplot at 0x25be6f9e630>"
      ]
     },
     "execution_count": 20,
     "metadata": {},
     "output_type": "execute_result"
    },
    {
     "data": {
      "image/png": "[encoded data removed]",
      "text/plain": [
       "<Figure size 576x432 with 1 Axes>"
      ]
     },
     "metadata": {
      "needs_background": "light"
     },
     "output_type": "display_data"
    }
   ],
   "source": [
    "bike_df.boxplot(column='temp', by='season', figsize=(8,6))"
   ]
  },
  {
   "cell_type": "markdown",
   "metadata": {},
   "source": [
    "# Categorical"
   ]
  },
  {
   "cell_type": "code",
   "execution_count": 21,
   "metadata": {},
   "outputs": [
    {
     "ename": "NameError",
     "evalue": "name 'plot' is not defined",
     "output_type": "error",
     "traceback": [
      "\u001b[1;31m---------------------------------------------------------------------------\u001b[0m",
      "\u001b[1;31mNameError\u001b[0m                                 Traceback (most recent call last)",
      "\u001b[1;32m<ipython-input-21-e0669d8df34e>\u001b[0m in \u001b[0;36m<module>\u001b[1;34m\u001b[0m\n\u001b[0;32m      3\u001b[0m \u001b[0mtemp_pivot\u001b[0m \u001b[1;33m=\u001b[0m \u001b[0mbike_df\u001b[0m\u001b[1;33m.\u001b[0m\u001b[0mpivot_table\u001b[0m\u001b[1;33m(\u001b[0m\u001b[0mvalues\u001b[0m\u001b[1;33m=\u001b[0m\u001b[1;34m'cnt'\u001b[0m\u001b[1;33m,\u001b[0m \u001b[0mindex\u001b[0m\u001b[1;33m=\u001b[0m\u001b[1;34m'mnth'\u001b[0m\u001b[1;33m,\u001b[0m \u001b[0mcolumns\u001b[0m\u001b[1;33m=\u001b[0m\u001b[1;34m'workingday'\u001b[0m\u001b[1;33m,\u001b[0m \u001b[0maggfunc\u001b[0m\u001b[1;33m=\u001b[0m\u001b[1;34m'mean'\u001b[0m\u001b[1;33m)\u001b[0m\u001b[1;33m\u001b[0m\u001b[1;33m\u001b[0m\u001b[0m\n\u001b[0;32m      4\u001b[0m \u001b[0mtemp_pivot\u001b[0m\u001b[1;33m.\u001b[0m\u001b[0mplot\u001b[0m\u001b[1;33m(\u001b[0m\u001b[0mkind\u001b[0m\u001b[1;33m=\u001b[0m\u001b[1;34m'bar'\u001b[0m\u001b[1;33m,\u001b[0m \u001b[0mstacked\u001b[0m\u001b[1;33m=\u001b[0m\u001b[1;32mTrue\u001b[0m\u001b[1;33m,\u001b[0m \u001b[0mfigsize\u001b[0m\u001b[1;33m=\u001b[0m\u001b[1;33m(\u001b[0m\u001b[1;36m10\u001b[0m\u001b[1;33m,\u001b[0m\u001b[1;36m8\u001b[0m\u001b[1;33m)\u001b[0m\u001b[1;33m)\u001b[0m\u001b[1;33m\u001b[0m\u001b[1;33m\u001b[0m\u001b[0m\n\u001b[1;32m----> 5\u001b[1;33m \u001b[0mplot\u001b[0m\u001b[1;33m.\u001b[0m\u001b[0mxla\u001b[0m\u001b[1;33m\u001b[0m\u001b[1;33m\u001b[0m\u001b[0m\n\u001b[0m\u001b[0;32m      6\u001b[0m \u001b[0mplt\u001b[0m\u001b[1;33m.\u001b[0m\u001b[0mshow\u001b[0m\u001b[1;33m(\u001b[0m\u001b[1;33m)\u001b[0m\u001b[1;33m\u001b[0m\u001b[1;33m\u001b[0m\u001b[0m\n",
      "\u001b[1;31mNameError\u001b[0m: name 'plot' is not defined"
     ]
    },
    {
     "data": {
      "image/png": "[encoded data removed]",
      "text/plain": [
       "<Figure size 720x576 with 1 Axes>"
      ]
     },
     "metadata": {
      "needs_background": "light"
     },
     "output_type": "display_data"
    }
   ],
   "source": [
    "# creating a pivot table on categorical variable and draw a plot\n",
    "\n",
    "temp_pivot = bike_df.pivot_table(values='cnt', index='mnth', columns='workingday', aggfunc='mean')\n",
    "temp_pivot.plot(kind='bar', stacked=True, figsize=(10,8))\n",
    "plot.xla\n",
    "plt.show()"
   ]
  },
  {
   "cell_type": "markdown",
   "metadata": {},
   "source": [
    "# Pre-Processing "
   ]
  },
  {
   "cell_type": "code",
   "execution_count": 22,
   "metadata": {},
   "outputs": [
    {
     "data": {
      "text/plain": [
       "instant       0\n",
       "dteday        0\n",
       "season        0\n",
       "yr            0\n",
       "mnth          0\n",
       "holiday       0\n",
       "weekday       0\n",
       "workingday    0\n",
       "weathersit    0\n",
       "temp          0\n",
       "atemp         0\n",
       "hum           0\n",
       "windspeed     0\n",
       "casual        0\n",
       "registered    0\n",
       "cnt           0\n",
       "dtype: int64"
      ]
     },
     "execution_count": 22,
     "metadata": {},
     "output_type": "execute_result"
    }
   ],
   "source": [
    "#Finding missing values\n",
    "sum_null=bike_df.isnull().sum()\n",
    "sum_null"
   ]
  },
  {
   "cell_type": "markdown",
   "metadata": {},
   "source": [
    "No missing values found in the dataset"
   ]
  },
  {
   "cell_type": "code",
   "execution_count": 23,
   "metadata": {},
   "outputs": [
    {
     "data": {
      "text/plain": [
       "<matplotlib.axes._subplots.AxesSubplot at 0x25be6d714a8>"
      ]
     },
     "execution_count": 23,
     "metadata": {},
     "output_type": "execute_result"
    },
    {
     "data": {
      "image/png": "[encoded data removed]",
      "text/plain": [
       "<Figure size 936x720 with 2 Axes>"
      ]
     },
     "metadata": {
      "needs_background": "light"
     },
     "output_type": "display_data"
    }
   ],
   "source": [
    "#Let's plot an Heat map to see how the columns in the dataset are correlated\n",
    "\n",
    "corr = bike_df.corr()\n",
    "plt.figure(figsize=(13,10))\n",
    "sns.heatmap(corr,linewidths=0.4, annot=True)"
   ]
  },
  {
   "cell_type": "markdown",
   "metadata": {},
   "source": [
    "From the above heatmap, we do see temp and atemp were highly correlated, temp and atemp are having 0.99"
   ]
  },
  {
   "cell_type": "markdown",
   "metadata": {},
   "source": [
    "# Outlier detection"
   ]
  },
  {
   "cell_type": "code",
   "execution_count": 24,
   "metadata": {},
   "outputs": [
    {
     "data": {
      "text/plain": [
       "<matplotlib.axes._subplots.AxesSubplot at 0x25be7cee470>"
      ]
     },
     "execution_count": 24,
     "metadata": {},
     "output_type": "execute_result"
    },
    {
     "data": {
      "image/png": "[encoded data removed]",
      "text/plain": [
       "<Figure size 720x576 with 1 Axes>"
      ]
     },
     "metadata": {
      "needs_background": "light"
     },
     "output_type": "display_data"
    }
   ],
   "source": [
    "#Checking outliers in the dataset on continues variables\n",
    "plt.figure(figsize=(10,8))\n",
    "sns.boxplot(data=bike_df[['temp', 'atemp', 'hum', 'windspeed']])"
   ]
  },
  {
   "cell_type": "markdown",
   "metadata": {},
   "source": [
    "From the above boxplot we can observer that some Outliers in the variables hum (HUMIDITY) and windspeed"
   ]
  },
  {
   "cell_type": "code",
   "execution_count": 25,
   "metadata": {},
   "outputs": [
    {
     "data": {
      "text/plain": [
       "<matplotlib.axes._subplots.AxesSubplot at 0x25be78ca5c0>"
      ]
     },
     "execution_count": 25,
     "metadata": {},
     "output_type": "execute_result"
    },
    {
     "data": {
      "image/png": "[encoded data removed]",
      "text/plain": [
       "<Figure size 432x288 with 1 Axes>"
      ]
     },
     "metadata": {
      "needs_background": "light"
     },
     "output_type": "display_data"
    }
   ],
   "source": [
    "#view of the outliers in \"hum\" using scatter plot\n",
    "bike_df.plot.scatter('hum', 'instant')"
   ]
  },
  {
   "cell_type": "code",
   "execution_count": 26,
   "metadata": {},
   "outputs": [
    {
     "data": {
      "text/plain": [
       "<matplotlib.axes._subplots.AxesSubplot at 0x25be78e56a0>"
      ]
     },
     "execution_count": 26,
     "metadata": {},
     "output_type": "execute_result"
    },
    {
     "data": {
      "image/png": "[encoded data removed]",
      "text/plain": [
       "<Figure size 432x288 with 1 Axes>"
      ]
     },
     "metadata": {
      "needs_background": "light"
     },
     "output_type": "display_data"
    }
   ],
   "source": [
    "#view of the outliers in \"windspeed\" using scatter plot\n",
    "bike_df.plot.scatter('windspeed', 'instant')"
   ]
  },
  {
   "cell_type": "code",
   "execution_count": 27,
   "metadata": {},
   "outputs": [
    {
     "name": "stdout",
     "output_type": "stream",
     "text": [
      " Lower bound            -  0.20468725\n",
      " Q25  (25% percentile)  -  0.52\n",
      " IQR  (50% Middle)      -  0.21020850000000002\n",
      " Q75  (75% percentile)  -  0.7302085\n",
      " Upper bound            -  1.0455212500000002\n",
      "(731, 16)\n"
     ]
    }
   ],
   "source": [
    "#Removing the outlier from \"hum\" using the IQR method\n",
    "Q25 = bike_df['hum'].quantile(0.25)\n",
    "Q75 = bike_df['hum'].quantile(0.75)\n",
    "IQR = Q75 - Q25\n",
    "\n",
    "lower_bound = Q25 - (1.5 * IQR)\n",
    "upper_bound = Q75 + (1.5 * IQR)\n",
    "\n",
    "print(\" Lower bound            - \", lower_bound)\n",
    "print(\" Q25  (25% percentile)  - \", Q25)\n",
    "print(\" IQR  (50% Middle)      - \", IQR)\n",
    "print(\" Q75  (75% percentile)  - \", Q75)\n",
    "print(\" Upper bound            - \", upper_bound)\n",
    "print(bike_df.shape)\n",
    "\n"
   ]
  },
  {
   "cell_type": "code",
   "execution_count": 28,
   "metadata": {},
   "outputs": [
    {
     "data": {
      "text/html": [
       "<div>\n",
       "<style scoped>\n",
       "    .dataframe tbody tr th:only-of-type {\n",
       "        vertical-align: middle;\n",
       "    }\n",
       "\n",
       "    .dataframe tbody tr th {\n",
       "        vertical-align: top;\n",
       "    }\n",
       "\n",
       "    .dataframe thead th {\n",
       "        text-align: right;\n",
       "    }\n",
       "</style>\n",
       "<table border=\"1\" class=\"dataframe\">\n",
       "  <thead>\n",
       "    <tr style=\"text-align: right;\">\n",
       "      <th></th>\n",
       "      <th>instant</th>\n",
       "      <th>dteday</th>\n",
       "      <th>season</th>\n",
       "      <th>yr</th>\n",
       "      <th>mnth</th>\n",
       "      <th>holiday</th>\n",
       "      <th>weekday</th>\n",
       "      <th>workingday</th>\n",
       "      <th>weathersit</th>\n",
       "      <th>temp</th>\n",
       "      <th>atemp</th>\n",
       "      <th>hum</th>\n",
       "      <th>windspeed</th>\n",
       "      <th>casual</th>\n",
       "      <th>registered</th>\n",
       "      <th>cnt</th>\n",
       "    </tr>\n",
       "  </thead>\n",
       "  <tbody>\n",
       "    <tr>\n",
       "      <th>49</th>\n",
       "      <td>50</td>\n",
       "      <td>2/19/2011</td>\n",
       "      <td>1</td>\n",
       "      <td>0</td>\n",
       "      <td>2</td>\n",
       "      <td>0</td>\n",
       "      <td>6</td>\n",
       "      <td>0</td>\n",
       "      <td>1</td>\n",
       "      <td>0.399167</td>\n",
       "      <td>0.391404</td>\n",
       "      <td>0.187917</td>\n",
       "      <td>0.507463</td>\n",
       "      <td>532</td>\n",
       "      <td>1103</td>\n",
       "      <td>1635</td>\n",
       "    </tr>\n",
       "    <tr>\n",
       "      <th>68</th>\n",
       "      <td>69</td>\n",
       "      <td>3/10/2011</td>\n",
       "      <td>1</td>\n",
       "      <td>0</td>\n",
       "      <td>3</td>\n",
       "      <td>0</td>\n",
       "      <td>4</td>\n",
       "      <td>1</td>\n",
       "      <td>3</td>\n",
       "      <td>0.389091</td>\n",
       "      <td>0.385668</td>\n",
       "      <td>0.000000</td>\n",
       "      <td>0.261877</td>\n",
       "      <td>46</td>\n",
       "      <td>577</td>\n",
       "      <td>623</td>\n",
       "    </tr>\n",
       "  </tbody>\n",
       "</table>\n",
       "</div>"
      ],
      "text/plain": [
       "    instant     dteday  season  yr  mnth  holiday  weekday  workingday  \\\n",
       "49       50  2/19/2011       1   0     2        0        6           0   \n",
       "68       69  3/10/2011       1   0     3        0        4           1   \n",
       "\n",
       "    weathersit      temp     atemp       hum  windspeed  casual  registered  \\\n",
       "49           1  0.399167  0.391404  0.187917   0.507463     532        1103   \n",
       "68           3  0.389091  0.385668  0.000000   0.261877      46         577   \n",
       "\n",
       "     cnt  \n",
       "49  1635  \n",
       "68   623  "
      ]
     },
     "execution_count": 28,
     "metadata": {},
     "output_type": "execute_result"
    }
   ],
   "source": [
    "#Display the outlier vaules\n",
    "bike_df[(bike_df.hum < lower_bound) | (bike_df.hum > upper_bound)]"
   ]
  },
  {
   "cell_type": "code",
   "execution_count": 29,
   "metadata": {},
   "outputs": [
    {
     "data": {
      "text/plain": [
       "(729, 16)"
      ]
     },
     "execution_count": 29,
     "metadata": {},
     "output_type": "execute_result"
    }
   ],
   "source": [
    "bike_df.drop(bike_df[(bike_df.hum < lower_bound) | (bike_df.hum > upper_bound)].index, inplace=True)\n",
    "bike_df.shape"
   ]
  },
  {
   "cell_type": "markdown",
   "metadata": {},
   "source": [
    "Number of rows and columns after dropping outliers on columns \"hum\" (Humidity)"
   ]
  },
  {
   "cell_type": "code",
   "execution_count": 30,
   "metadata": {},
   "outputs": [
    {
     "data": {
      "text/plain": [
       "<matplotlib.axes._subplots.AxesSubplot at 0x25be796ae80>"
      ]
     },
     "execution_count": 30,
     "metadata": {},
     "output_type": "execute_result"
    },
    {
     "data": {
      "image/png": "[encoded data removed]",
      "text/plain": [
       "<Figure size 432x288 with 1 Axes>"
      ]
     },
     "metadata": {
      "needs_background": "light"
     },
     "output_type": "display_data"
    }
   ],
   "source": [
    "#view of the outliers in \"hum\" using scatter plot after dropping outliers\n",
    "bike_df.plot.scatter('hum', 'instant')"
   ]
  },
  {
   "cell_type": "code",
   "execution_count": 31,
   "metadata": {},
   "outputs": [
    {
     "name": "stdout",
     "output_type": "stream",
     "text": [
      " Lower bound            -  -0.012431000000000025\n",
      " Q25  (25% percentile)  -  0.13495\n",
      " IQR  (50% Middle)      -  0.09825400000000001\n",
      " Q75  (75% percentile)  -  0.233204\n",
      " Upper bound            -  0.380585\n",
      "(729, 16)\n"
     ]
    }
   ],
   "source": [
    "#Removing the outlier from \"windspeed\" using the IQR method\n",
    "Q25 = bike_df['windspeed'].quantile(0.25)\n",
    "Q75 = bike_df['windspeed'].quantile(0.75)\n",
    "IQR = Q75 - Q25\n",
    "\n",
    "lower_bound = Q25 - (1.5 * IQR)\n",
    "upper_bound = Q75 + (1.5 * IQR)\n",
    "\n",
    "print(\" Lower bound            - \", lower_bound)\n",
    "print(\" Q25  (25% percentile)  - \", Q25)\n",
    "print(\" IQR  (50% Middle)      - \", IQR)\n",
    "print(\" Q75  (75% percentile)  - \", Q75)\n",
    "print(\" Upper bound            - \", upper_bound)\n",
    "print(bike_df.shape)\n"
   ]
  },
  {
   "cell_type": "code",
   "execution_count": 32,
   "metadata": {
    "scrolled": true
   },
   "outputs": [
    {
     "data": {
      "text/html": [
       "<div>\n",
       "<style scoped>\n",
       "    .dataframe tbody tr th:only-of-type {\n",
       "        vertical-align: middle;\n",
       "    }\n",
       "\n",
       "    .dataframe tbody tr th {\n",
       "        vertical-align: top;\n",
       "    }\n",
       "\n",
       "    .dataframe thead th {\n",
       "        text-align: right;\n",
       "    }\n",
       "</style>\n",
       "<table border=\"1\" class=\"dataframe\">\n",
       "  <thead>\n",
       "    <tr style=\"text-align: right;\">\n",
       "      <th></th>\n",
       "      <th>instant</th>\n",
       "      <th>dteday</th>\n",
       "      <th>season</th>\n",
       "      <th>yr</th>\n",
       "      <th>mnth</th>\n",
       "      <th>holiday</th>\n",
       "      <th>weekday</th>\n",
       "      <th>workingday</th>\n",
       "      <th>weathersit</th>\n",
       "      <th>temp</th>\n",
       "      <th>atemp</th>\n",
       "      <th>hum</th>\n",
       "      <th>windspeed</th>\n",
       "      <th>casual</th>\n",
       "      <th>registered</th>\n",
       "      <th>cnt</th>\n",
       "    </tr>\n",
       "  </thead>\n",
       "  <tbody>\n",
       "    <tr>\n",
       "      <th>44</th>\n",
       "      <td>45</td>\n",
       "      <td>2/14/2011</td>\n",
       "      <td>1</td>\n",
       "      <td>0</td>\n",
       "      <td>2</td>\n",
       "      <td>0</td>\n",
       "      <td>1</td>\n",
       "      <td>1</td>\n",
       "      <td>1</td>\n",
       "      <td>0.415000</td>\n",
       "      <td>0.398350</td>\n",
       "      <td>0.375833</td>\n",
       "      <td>0.417908</td>\n",
       "      <td>208</td>\n",
       "      <td>1705</td>\n",
       "      <td>1913</td>\n",
       "    </tr>\n",
       "    <tr>\n",
       "      <th>93</th>\n",
       "      <td>94</td>\n",
       "      <td>4/4/2011</td>\n",
       "      <td>2</td>\n",
       "      <td>0</td>\n",
       "      <td>4</td>\n",
       "      <td>0</td>\n",
       "      <td>1</td>\n",
       "      <td>1</td>\n",
       "      <td>1</td>\n",
       "      <td>0.573333</td>\n",
       "      <td>0.542929</td>\n",
       "      <td>0.426250</td>\n",
       "      <td>0.385571</td>\n",
       "      <td>734</td>\n",
       "      <td>2381</td>\n",
       "      <td>3115</td>\n",
       "    </tr>\n",
       "    <tr>\n",
       "      <th>94</th>\n",
       "      <td>95</td>\n",
       "      <td>4/5/2011</td>\n",
       "      <td>2</td>\n",
       "      <td>0</td>\n",
       "      <td>4</td>\n",
       "      <td>0</td>\n",
       "      <td>2</td>\n",
       "      <td>1</td>\n",
       "      <td>2</td>\n",
       "      <td>0.414167</td>\n",
       "      <td>0.398350</td>\n",
       "      <td>0.642083</td>\n",
       "      <td>0.388067</td>\n",
       "      <td>167</td>\n",
       "      <td>1628</td>\n",
       "      <td>1795</td>\n",
       "    </tr>\n",
       "    <tr>\n",
       "      <th>292</th>\n",
       "      <td>293</td>\n",
       "      <td>10/20/2011</td>\n",
       "      <td>4</td>\n",
       "      <td>0</td>\n",
       "      <td>10</td>\n",
       "      <td>0</td>\n",
       "      <td>4</td>\n",
       "      <td>1</td>\n",
       "      <td>1</td>\n",
       "      <td>0.475833</td>\n",
       "      <td>0.466525</td>\n",
       "      <td>0.636250</td>\n",
       "      <td>0.422275</td>\n",
       "      <td>471</td>\n",
       "      <td>3724</td>\n",
       "      <td>4195</td>\n",
       "    </tr>\n",
       "    <tr>\n",
       "      <th>382</th>\n",
       "      <td>383</td>\n",
       "      <td>1/18/2012</td>\n",
       "      <td>1</td>\n",
       "      <td>1</td>\n",
       "      <td>1</td>\n",
       "      <td>0</td>\n",
       "      <td>3</td>\n",
       "      <td>1</td>\n",
       "      <td>1</td>\n",
       "      <td>0.303333</td>\n",
       "      <td>0.275254</td>\n",
       "      <td>0.443333</td>\n",
       "      <td>0.415429</td>\n",
       "      <td>109</td>\n",
       "      <td>3267</td>\n",
       "      <td>3376</td>\n",
       "    </tr>\n",
       "    <tr>\n",
       "      <th>407</th>\n",
       "      <td>408</td>\n",
       "      <td>2/12/2012</td>\n",
       "      <td>1</td>\n",
       "      <td>1</td>\n",
       "      <td>2</td>\n",
       "      <td>0</td>\n",
       "      <td>0</td>\n",
       "      <td>0</td>\n",
       "      <td>1</td>\n",
       "      <td>0.127500</td>\n",
       "      <td>0.101658</td>\n",
       "      <td>0.464583</td>\n",
       "      <td>0.409212</td>\n",
       "      <td>73</td>\n",
       "      <td>1456</td>\n",
       "      <td>1529</td>\n",
       "    </tr>\n",
       "    <tr>\n",
       "      <th>420</th>\n",
       "      <td>421</td>\n",
       "      <td>2/25/2012</td>\n",
       "      <td>1</td>\n",
       "      <td>1</td>\n",
       "      <td>2</td>\n",
       "      <td>0</td>\n",
       "      <td>6</td>\n",
       "      <td>0</td>\n",
       "      <td>1</td>\n",
       "      <td>0.290833</td>\n",
       "      <td>0.255675</td>\n",
       "      <td>0.395833</td>\n",
       "      <td>0.421642</td>\n",
       "      <td>317</td>\n",
       "      <td>2415</td>\n",
       "      <td>2732</td>\n",
       "    </tr>\n",
       "    <tr>\n",
       "      <th>432</th>\n",
       "      <td>433</td>\n",
       "      <td>3/8/2012</td>\n",
       "      <td>1</td>\n",
       "      <td>1</td>\n",
       "      <td>3</td>\n",
       "      <td>0</td>\n",
       "      <td>4</td>\n",
       "      <td>1</td>\n",
       "      <td>1</td>\n",
       "      <td>0.527500</td>\n",
       "      <td>0.524604</td>\n",
       "      <td>0.567500</td>\n",
       "      <td>0.441563</td>\n",
       "      <td>486</td>\n",
       "      <td>4896</td>\n",
       "      <td>5382</td>\n",
       "    </tr>\n",
       "    <tr>\n",
       "      <th>433</th>\n",
       "      <td>434</td>\n",
       "      <td>3/9/2012</td>\n",
       "      <td>1</td>\n",
       "      <td>1</td>\n",
       "      <td>3</td>\n",
       "      <td>0</td>\n",
       "      <td>5</td>\n",
       "      <td>1</td>\n",
       "      <td>2</td>\n",
       "      <td>0.410833</td>\n",
       "      <td>0.397083</td>\n",
       "      <td>0.407083</td>\n",
       "      <td>0.414800</td>\n",
       "      <td>447</td>\n",
       "      <td>4122</td>\n",
       "      <td>4569</td>\n",
       "    </tr>\n",
       "    <tr>\n",
       "      <th>450</th>\n",
       "      <td>451</td>\n",
       "      <td>3/26/2012</td>\n",
       "      <td>2</td>\n",
       "      <td>1</td>\n",
       "      <td>3</td>\n",
       "      <td>0</td>\n",
       "      <td>1</td>\n",
       "      <td>1</td>\n",
       "      <td>1</td>\n",
       "      <td>0.445833</td>\n",
       "      <td>0.438750</td>\n",
       "      <td>0.477917</td>\n",
       "      <td>0.386821</td>\n",
       "      <td>795</td>\n",
       "      <td>4763</td>\n",
       "      <td>5558</td>\n",
       "    </tr>\n",
       "    <tr>\n",
       "      <th>666</th>\n",
       "      <td>667</td>\n",
       "      <td>10/28/2012</td>\n",
       "      <td>4</td>\n",
       "      <td>1</td>\n",
       "      <td>10</td>\n",
       "      <td>0</td>\n",
       "      <td>0</td>\n",
       "      <td>0</td>\n",
       "      <td>2</td>\n",
       "      <td>0.477500</td>\n",
       "      <td>0.467771</td>\n",
       "      <td>0.694583</td>\n",
       "      <td>0.398008</td>\n",
       "      <td>998</td>\n",
       "      <td>3461</td>\n",
       "      <td>4459</td>\n",
       "    </tr>\n",
       "    <tr>\n",
       "      <th>721</th>\n",
       "      <td>722</td>\n",
       "      <td>12/22/2012</td>\n",
       "      <td>1</td>\n",
       "      <td>1</td>\n",
       "      <td>12</td>\n",
       "      <td>0</td>\n",
       "      <td>6</td>\n",
       "      <td>0</td>\n",
       "      <td>1</td>\n",
       "      <td>0.265833</td>\n",
       "      <td>0.236113</td>\n",
       "      <td>0.441250</td>\n",
       "      <td>0.407346</td>\n",
       "      <td>205</td>\n",
       "      <td>1544</td>\n",
       "      <td>1749</td>\n",
       "    </tr>\n",
       "  </tbody>\n",
       "</table>\n",
       "</div>"
      ],
      "text/plain": [
       "     instant      dteday  season  yr  mnth  holiday  weekday  workingday  \\\n",
       "44        45   2/14/2011       1   0     2        0        1           1   \n",
       "93        94    4/4/2011       2   0     4        0        1           1   \n",
       "94        95    4/5/2011       2   0     4        0        2           1   \n",
       "292      293  10/20/2011       4   0    10        0        4           1   \n",
       "382      383   1/18/2012       1   1     1        0        3           1   \n",
       "407      408   2/12/2012       1   1     2        0        0           0   \n",
       "420      421   2/25/2012       1   1     2        0        6           0   \n",
       "432      433    3/8/2012       1   1     3        0        4           1   \n",
       "433      434    3/9/2012       1   1     3        0        5           1   \n",
       "450      451   3/26/2012       2   1     3        0        1           1   \n",
       "666      667  10/28/2012       4   1    10        0        0           0   \n",
       "721      722  12/22/2012       1   1    12        0        6           0   \n",
       "\n",
       "     weathersit      temp     atemp       hum  windspeed  casual  registered  \\\n",
       "44            1  0.415000  0.398350  0.375833   0.417908     208        1705   \n",
       "93            1  0.573333  0.542929  0.426250   0.385571     734        2381   \n",
       "94            2  0.414167  0.398350  0.642083   0.388067     167        1628   \n",
       "292           1  0.475833  0.466525  0.636250   0.422275     471        3724   \n",
       "382           1  0.303333  0.275254  0.443333   0.415429     109        3267   \n",
       "407           1  0.127500  0.101658  0.464583   0.409212      73        1456   \n",
       "420           1  0.290833  0.255675  0.395833   0.421642     317        2415   \n",
       "432           1  0.527500  0.524604  0.567500   0.441563     486        4896   \n",
       "433           2  0.410833  0.397083  0.407083   0.414800     447        4122   \n",
       "450           1  0.445833  0.438750  0.477917   0.386821     795        4763   \n",
       "666           2  0.477500  0.467771  0.694583   0.398008     998        3461   \n",
       "721           1  0.265833  0.236113  0.441250   0.407346     205        1544   \n",
       "\n",
       "      cnt  \n",
       "44   1913  \n",
       "93   3115  \n",
       "94   1795  \n",
       "292  4195  \n",
       "382  3376  \n",
       "407  1529  \n",
       "420  2732  \n",
       "432  5382  \n",
       "433  4569  \n",
       "450  5558  \n",
       "666  4459  \n",
       "721  1749  "
      ]
     },
     "execution_count": 32,
     "metadata": {},
     "output_type": "execute_result"
    }
   ],
   "source": [
    "#Display the outlier vaules\n",
    "bike_df[(bike_df.windspeed < lower_bound) | (bike_df.windspeed > upper_bound)]"
   ]
  },
  {
   "cell_type": "code",
   "execution_count": 33,
   "metadata": {},
   "outputs": [
    {
     "data": {
      "text/plain": [
       "(717, 16)"
      ]
     },
     "execution_count": 33,
     "metadata": {},
     "output_type": "execute_result"
    }
   ],
   "source": [
    "bike_df.drop(bike_df[(bike_df.windspeed < lower_bound) | (bike_df.windspeed > upper_bound)].index, inplace=True)\n",
    "bike_df.shape"
   ]
  },
  {
   "cell_type": "markdown",
   "metadata": {},
   "source": [
    "Number of rows and columns after dropping outliers on columns \"windspeed\" (Wind Speed)"
   ]
  },
  {
   "cell_type": "code",
   "execution_count": 34,
   "metadata": {},
   "outputs": [
    {
     "data": {
      "text/plain": [
       "<matplotlib.axes._subplots.AxesSubplot at 0x25be79db668>"
      ]
     },
     "execution_count": 34,
     "metadata": {},
     "output_type": "execute_result"
    },
    {
     "data": {
      "image/png": "[encoded data removed]",
      "text/plain": [
       "<Figure size 432x288 with 1 Axes>"
      ]
     },
     "metadata": {
      "needs_background": "light"
     },
     "output_type": "display_data"
    }
   ],
   "source": [
    "#view of the outliers in \"windspeed\" using scatter plot after dropping outliers\n",
    "bike_df.plot.scatter('windspeed', 'instant')"
   ]
  },
  {
   "cell_type": "code",
   "execution_count": 35,
   "metadata": {},
   "outputs": [
    {
     "data": {
      "text/plain": [
       "<matplotlib.axes._subplots.AxesSubplot at 0x25be7a437f0>"
      ]
     },
     "execution_count": 35,
     "metadata": {},
     "output_type": "execute_result"
    },
    {
     "data": {
      "image/png": "[encoded data removed]",
      "text/plain": [
       "<Figure size 720x576 with 1 Axes>"
      ]
     },
     "metadata": {
      "needs_background": "light"
     },
     "output_type": "display_data"
    }
   ],
   "source": [
    "#Checking outliers in the dataset on continues variables after dropping outliers\n",
    "plt.figure(figsize=(10,8))\n",
    "sns.boxplot(data=bike_df[['temp', 'atemp', 'hum', 'windspeed']])"
   ]
  },
  {
   "cell_type": "markdown",
   "metadata": {},
   "source": [
    "# Detect multicollinearity"
   ]
  },
  {
   "cell_type": "markdown",
   "metadata": {},
   "source": [
    "We have already verifed that a  relation between \"temp\" and \"atemp\" during bivariate analysis. both are strongly correlated to each other"
   ]
  },
  {
   "cell_type": "markdown",
   "metadata": {},
   "source": [
    "Now, will see if collinearity existence bewtween Continuous variable over target  using VIF method"
   ]
  },
  {
   "cell_type": "code",
   "execution_count": 36,
   "metadata": {},
   "outputs": [],
   "source": [
    "from patsy import dmatrices\n",
    "import statsmodels.api as sm\n",
    "from statsmodels.stats.outliers_influence import variance_inflation_factor"
   ]
  },
  {
   "cell_type": "code",
   "execution_count": 37,
   "metadata": {},
   "outputs": [],
   "source": [
    "temp_df = bike_df[['temp', 'atemp', 'hum', 'windspeed', 'cnt' ]].dropna()\n",
    "\n",
    "#y, X = dmatrices('dep_fea ~ ind_fea', temp_df, return_type='dataframe')\n",
    "y, X = dmatrices('cnt ~ temp + atemp + hum + windspeed', temp_df, return_type='dataframe')"
   ]
  },
  {
   "cell_type": "code",
   "execution_count": 38,
   "metadata": {},
   "outputs": [],
   "source": [
    "vif = pd.DataFrame()\n",
    "vif[\"VIF_Factor\"] = [variance_inflation_factor(X.values,i) for i in range(X.shape[1])]\n",
    "vif[\"features\"] = X.columns"
   ]
  },
  {
   "cell_type": "code",
   "execution_count": 39,
   "metadata": {},
   "outputs": [
    {
     "data": {
      "text/html": [
       "<div>\n",
       "<style scoped>\n",
       "    .dataframe tbody tr th:only-of-type {\n",
       "        vertical-align: middle;\n",
       "    }\n",
       "\n",
       "    .dataframe tbody tr th {\n",
       "        vertical-align: top;\n",
       "    }\n",
       "\n",
       "    .dataframe thead th {\n",
       "        text-align: right;\n",
       "    }\n",
       "</style>\n",
       "<table border=\"1\" class=\"dataframe\">\n",
       "  <thead>\n",
       "    <tr style=\"text-align: right;\">\n",
       "      <th></th>\n",
       "      <th>VIF_Factor</th>\n",
       "      <th>features</th>\n",
       "    </tr>\n",
       "  </thead>\n",
       "  <tbody>\n",
       "    <tr>\n",
       "      <th>0</th>\n",
       "      <td>46.4</td>\n",
       "      <td>Intercept</td>\n",
       "    </tr>\n",
       "    <tr>\n",
       "      <th>1</th>\n",
       "      <td>63.3</td>\n",
       "      <td>temp</td>\n",
       "    </tr>\n",
       "    <tr>\n",
       "      <th>2</th>\n",
       "      <td>63.9</td>\n",
       "      <td>atemp</td>\n",
       "    </tr>\n",
       "    <tr>\n",
       "      <th>3</th>\n",
       "      <td>1.1</td>\n",
       "      <td>hum</td>\n",
       "    </tr>\n",
       "    <tr>\n",
       "      <th>4</th>\n",
       "      <td>1.1</td>\n",
       "      <td>windspeed</td>\n",
       "    </tr>\n",
       "  </tbody>\n",
       "</table>\n",
       "</div>"
      ],
      "text/plain": [
       "   VIF_Factor   features\n",
       "0        46.4  Intercept\n",
       "1        63.3       temp\n",
       "2        63.9      atemp\n",
       "3         1.1        hum\n",
       "4         1.1  windspeed"
      ]
     },
     "execution_count": 39,
     "metadata": {},
     "output_type": "execute_result"
    }
   ],
   "source": [
    "vif.round(1)"
   ]
  },
  {
   "cell_type": "markdown",
   "metadata": {},
   "source": [
    "From the above we can understand that \"temp\" and \"atemp\" have a high Variance inflation factor(VIF), they have almost\n",
    "same variance within the dataset. So, we might need to drop one of the feature before moving to model buliding \n",
    "otherwise will end-up buliding a model with high multicolinearity"
   ]
  },
  {
   "cell_type": "markdown",
   "metadata": {},
   "source": [
    "# Model Buliding"
   ]
  },
  {
   "cell_type": "code",
   "execution_count": 40,
   "metadata": {},
   "outputs": [],
   "source": [
    "#Drop the columns/features which are not needed\n",
    "bike_df = bike_df.drop(columns=['instant', 'dteday', 'atemp', 'casual', 'registered'])"
   ]
  },
  {
   "cell_type": "markdown",
   "metadata": {},
   "source": [
    "Reason for columns dropped:-"
   ]
  },
  {
   "cell_type": "markdown",
   "metadata": {},
   "source": [
    "instant - it's an record index, it won't weight more importance in model prediciton"
   ]
  },
  {
   "cell_type": "markdown",
   "metadata": {},
   "source": [
    " dteday  - it's an date of each row or observation, it won't weight more importance in model prediciton"
   ]
  },
  {
   "cell_type": "markdown",
   "metadata": {},
   "source": [
    "atemp   - we see observe in Bivairate analysis part that temp and atemp both are storngly correlated, same has been seen in the HEAT MAP, that both features have strong correlation of 0.99. \n",
    "Also we see both having high Variance inflation factor(VIF).\n",
    "\n",
    "If we keep both the features it might cause the high multicollinearity issue.\n",
    "so, dropping any one feature won't cause any issue in model predication"
   ]
  },
  {
   "cell_type": "markdown",
   "metadata": {},
   "source": [
    "casual & registered - it is the count of casual users and registered users, the sum of both users were represented as \"cnt\". So we do not need \"casual\" and \"registered\" columns, as our aim is to predicate no. bike rental\n",
    "              count."
   ]
  },
  {
   "cell_type": "code",
   "execution_count": 41,
   "metadata": {},
   "outputs": [
    {
     "data": {
      "text/plain": [
       "Index(['season', 'yr', 'mnth', 'holiday', 'weekday', 'workingday',\n",
       "       'weathersit', 'temp', 'hum', 'windspeed', 'cnt'],\n",
       "      dtype='object')"
      ]
     },
     "execution_count": 41,
     "metadata": {},
     "output_type": "execute_result"
    }
   ],
   "source": [
    "bike_df.columns"
   ]
  },
  {
   "cell_type": "code",
   "execution_count": 42,
   "metadata": {},
   "outputs": [
    {
     "data": {
      "text/plain": [
       "(717, 11)"
      ]
     },
     "execution_count": 42,
     "metadata": {},
     "output_type": "execute_result"
    }
   ],
   "source": [
    "bike_df.shape"
   ]
  },
  {
   "cell_type": "markdown",
   "metadata": {},
   "source": [
    "now we have 717 observation and 12 features for our model training"
   ]
  },
  {
   "cell_type": "markdown",
   "metadata": {},
   "source": [
    "# Liner regression model from stats model library"
   ]
  },
  {
   "cell_type": "code",
   "execution_count": 43,
   "metadata": {},
   "outputs": [],
   "source": [
    "import statsmodels.api as sm\n",
    "from statsmodels.tools.eval_measures import rmse\n",
    "from sklearn.model_selection import train_test_split\n",
    "from sklearn import metrics"
   ]
  },
  {
   "cell_type": "code",
   "execution_count": 44,
   "metadata": {},
   "outputs": [],
   "source": [
    "#split the dataset into Dependent and Independent variables\n",
    "X = bike_df.drop(columns=['cnt'], axis=1)\n",
    "y = bike_df['cnt']"
   ]
  },
  {
   "cell_type": "code",
   "execution_count": 45,
   "metadata": {},
   "outputs": [],
   "source": [
    "#split the X and y for model training and predicting\n",
    "X_train, X_test, y_train, y_test = train_test_split(X,y, test_size=0.2, random_state=86)"
   ]
  },
  {
   "cell_type": "code",
   "execution_count": 46,
   "metadata": {},
   "outputs": [
    {
     "name": "stdout",
     "output_type": "stream",
     "text": [
      "X_train -  (573, 10)\n",
      "y_train -  (573,)\n",
      "X_test  -  (144, 10)\n",
      "y_test -  (144,)\n"
     ]
    }
   ],
   "source": [
    "print (\"X_train - \", X_train.shape)\n",
    "print (\"y_train - \", y_train.shape)\n",
    "print (\"X_test  - \", X_test.shape)\n",
    "print (\"y_test - \", y_test.shape)"
   ]
  },
  {
   "cell_type": "code",
   "execution_count": 47,
   "metadata": {},
   "outputs": [],
   "source": [
    "#Initialize and invoke the Linear regression model OLS (Ordinary Least Squares)\n",
    "smlr_model = sm.OLS(y_train,X_train).fit()"
   ]
  },
  {
   "cell_type": "code",
   "execution_count": 48,
   "metadata": {},
   "outputs": [
    {
     "data": {
      "text/html": [
       "<table class=\"simpletable\">\n",
       "<caption>OLS Regression Results</caption>\n",
       "<tr>\n",
       "  <th>Dep. Variable:</th>           <td>cnt</td>       <th>  R-squared (uncentered):</th>      <td>   0.966</td>\n",
       "</tr>\n",
       "<tr>\n",
       "  <th>Model:</th>                   <td>OLS</td>       <th>  Adj. R-squared (uncentered):</th> <td>   0.966</td>\n",
       "</tr>\n",
       "<tr>\n",
       "  <th>Method:</th>             <td>Least Squares</td>  <th>  F-statistic:       </th>          <td>   1611.</td>\n",
       "</tr>\n",
       "<tr>\n",
       "  <th>Date:</th>             <td>Wed, 06 Nov 2019</td> <th>  Prob (F-statistic):</th>           <td>  0.00</td> \n",
       "</tr>\n",
       "<tr>\n",
       "  <th>Time:</th>                 <td>19:54:06</td>     <th>  Log-Likelihood:    </th>          <td> -4717.4</td>\n",
       "</tr>\n",
       "<tr>\n",
       "  <th>No. Observations:</th>      <td>   573</td>      <th>  AIC:               </th>          <td>   9455.</td>\n",
       "</tr>\n",
       "<tr>\n",
       "  <th>Df Residuals:</th>          <td>   563</td>      <th>  BIC:               </th>          <td>   9498.</td>\n",
       "</tr>\n",
       "<tr>\n",
       "  <th>Df Model:</th>              <td>    10</td>      <th>                     </th>              <td> </td>   \n",
       "</tr>\n",
       "<tr>\n",
       "  <th>Covariance Type:</th>      <td>nonrobust</td>    <th>                     </th>              <td> </td>   \n",
       "</tr>\n",
       "</table>\n",
       "<table class=\"simpletable\">\n",
       "<tr>\n",
       "       <td></td>         <th>coef</th>     <th>std err</th>      <th>t</th>      <th>P>|t|</th>  <th>[0.025</th>    <th>0.975]</th>  \n",
       "</tr>\n",
       "<tr>\n",
       "  <th>season</th>     <td>  612.4684</td> <td>   71.135</td> <td>    8.610</td> <td> 0.000</td> <td>  472.745</td> <td>  752.191</td>\n",
       "</tr>\n",
       "<tr>\n",
       "  <th>yr</th>         <td> 2156.4156</td> <td>   76.055</td> <td>   28.353</td> <td> 0.000</td> <td> 2007.029</td> <td> 2305.802</td>\n",
       "</tr>\n",
       "<tr>\n",
       "  <th>mnth</th>       <td>  -55.5089</td> <td>   22.495</td> <td>   -2.468</td> <td> 0.014</td> <td>  -99.693</td> <td>  -11.325</td>\n",
       "</tr>\n",
       "<tr>\n",
       "  <th>holiday</th>    <td> -289.0369</td> <td>  242.120</td> <td>   -1.194</td> <td> 0.233</td> <td> -764.605</td> <td>  186.531</td>\n",
       "</tr>\n",
       "<tr>\n",
       "  <th>weekday</th>    <td>  109.5736</td> <td>   18.837</td> <td>    5.817</td> <td> 0.000</td> <td>   72.574</td> <td>  146.573</td>\n",
       "</tr>\n",
       "<tr>\n",
       "  <th>workingday</th> <td>  205.6906</td> <td>   84.076</td> <td>    2.446</td> <td> 0.015</td> <td>   40.550</td> <td>  370.831</td>\n",
       "</tr>\n",
       "<tr>\n",
       "  <th>weathersit</th> <td> -734.6931</td> <td>   96.591</td> <td>   -7.606</td> <td> 0.000</td> <td> -924.415</td> <td> -544.971</td>\n",
       "</tr>\n",
       "<tr>\n",
       "  <th>temp</th>       <td> 5291.5533</td> <td>  220.588</td> <td>   23.988</td> <td> 0.000</td> <td> 4858.277</td> <td> 5724.829</td>\n",
       "</tr>\n",
       "<tr>\n",
       "  <th>hum</th>        <td>  420.5327</td> <td>  312.126</td> <td>    1.347</td> <td> 0.178</td> <td> -192.540</td> <td> 1033.606</td>\n",
       "</tr>\n",
       "<tr>\n",
       "  <th>windspeed</th>  <td> -664.6212</td> <td>  467.121</td> <td>   -1.423</td> <td> 0.155</td> <td>-1582.134</td> <td>  252.892</td>\n",
       "</tr>\n",
       "</table>\n",
       "<table class=\"simpletable\">\n",
       "<tr>\n",
       "  <th>Omnibus:</th>       <td>68.588</td> <th>  Durbin-Watson:     </th> <td>   2.015</td>\n",
       "</tr>\n",
       "<tr>\n",
       "  <th>Prob(Omnibus):</th> <td> 0.000</td> <th>  Jarque-Bera (JB):  </th> <td> 134.378</td>\n",
       "</tr>\n",
       "<tr>\n",
       "  <th>Skew:</th>          <td>-0.705</td> <th>  Prob(JB):          </th> <td>6.61e-30</td>\n",
       "</tr>\n",
       "<tr>\n",
       "  <th>Kurtosis:</th>      <td> 4.908</td> <th>  Cond. No.          </th> <td>    105.</td>\n",
       "</tr>\n",
       "</table><br/><br/>Warnings:<br/>[1] Standard Errors assume that the covariance matrix of the errors is correctly specified."
      ],
      "text/plain": [
       "<class 'statsmodels.iolib.summary.Summary'>\n",
       "\"\"\"\n",
       "                                 OLS Regression Results                                \n",
       "=======================================================================================\n",
       "Dep. Variable:                    cnt   R-squared (uncentered):                   0.966\n",
       "Model:                            OLS   Adj. R-squared (uncentered):              0.966\n",
       "Method:                 Least Squares   F-statistic:                              1611.\n",
       "Date:                Wed, 06 Nov 2019   Prob (F-statistic):                        0.00\n",
       "Time:                        19:54:06   Log-Likelihood:                         -4717.4\n",
       "No. Observations:                 573   AIC:                                      9455.\n",
       "Df Residuals:                     563   BIC:                                      9498.\n",
       "Df Model:                          10                                                  \n",
       "Covariance Type:            nonrobust                                                  \n",
       "==============================================================================\n",
       "                 coef    std err          t      P>|t|      [0.025      0.975]\n",
       "------------------------------------------------------------------------------\n",
       "season       612.4684     71.135      8.610      0.000     472.745     752.191\n",
       "yr          2156.4156     76.055     28.353      0.000    2007.029    2305.802\n",
       "mnth         -55.5089     22.495     -2.468      0.014     -99.693     -11.325\n",
       "holiday     -289.0369    242.120     -1.194      0.233    -764.605     186.531\n",
       "weekday      109.5736     18.837      5.817      0.000      72.574     146.573\n",
       "workingday   205.6906     84.076      2.446      0.015      40.550     370.831\n",
       "weathersit  -734.6931     96.591     -7.606      0.000    -924.415    -544.971\n",
       "temp        5291.5533    220.588     23.988      0.000    4858.277    5724.829\n",
       "hum          420.5327    312.126      1.347      0.178    -192.540    1033.606\n",
       "windspeed   -664.6212    467.121     -1.423      0.155   -1582.134     252.892\n",
       "==============================================================================\n",
       "Omnibus:                       68.588   Durbin-Watson:                   2.015\n",
       "Prob(Omnibus):                  0.000   Jarque-Bera (JB):              134.378\n",
       "Skew:                          -0.705   Prob(JB):                     6.61e-30\n",
       "Kurtosis:                       4.908   Cond. No.                         105.\n",
       "==============================================================================\n",
       "\n",
       "Warnings:\n",
       "[1] Standard Errors assume that the covariance matrix of the errors is correctly specified.\n",
       "\"\"\""
      ]
     },
     "execution_count": 48,
     "metadata": {},
     "output_type": "execute_result"
    }
   ],
   "source": [
    "# Display the summary report of OLS model\n",
    "smlr_model.summary()"
   ]
  },
  {
   "cell_type": "code",
   "execution_count": 49,
   "metadata": {},
   "outputs": [],
   "source": [
    "#Predict the model on TEST set\n",
    "smlr_ypred = smlr_model.predict(X_test)"
   ]
  },
  {
   "cell_type": "code",
   "execution_count": 50,
   "metadata": {},
   "outputs": [
    {
     "data": {
      "text/html": [
       "<div>\n",
       "<style scoped>\n",
       "    .dataframe tbody tr th:only-of-type {\n",
       "        vertical-align: middle;\n",
       "    }\n",
       "\n",
       "    .dataframe tbody tr th {\n",
       "        vertical-align: top;\n",
       "    }\n",
       "\n",
       "    .dataframe thead th {\n",
       "        text-align: right;\n",
       "    }\n",
       "</style>\n",
       "<table border=\"1\" class=\"dataframe\">\n",
       "  <thead>\n",
       "    <tr style=\"text-align: right;\">\n",
       "      <th></th>\n",
       "      <th>Actual</th>\n",
       "      <th>Predicted</th>\n",
       "    </tr>\n",
       "  </thead>\n",
       "  <tbody>\n",
       "    <tr>\n",
       "      <th>383</th>\n",
       "      <td>3292</td>\n",
       "      <td>3690.955490</td>\n",
       "    </tr>\n",
       "    <tr>\n",
       "      <th>583</th>\n",
       "      <td>7013</td>\n",
       "      <td>6566.648598</td>\n",
       "    </tr>\n",
       "    <tr>\n",
       "      <th>691</th>\n",
       "      <td>2425</td>\n",
       "      <td>5418.329116</td>\n",
       "    </tr>\n",
       "    <tr>\n",
       "      <th>360</th>\n",
       "      <td>1162</td>\n",
       "      <td>816.976218</td>\n",
       "    </tr>\n",
       "    <tr>\n",
       "      <th>459</th>\n",
       "      <td>6436</td>\n",
       "      <td>5902.490092</td>\n",
       "    </tr>\n",
       "  </tbody>\n",
       "</table>\n",
       "</div>"
      ],
      "text/plain": [
       "     Actual    Predicted\n",
       "383    3292  3690.955490\n",
       "583    7013  6566.648598\n",
       "691    2425  5418.329116\n",
       "360    1162   816.976218\n",
       "459    6436  5902.490092"
      ]
     },
     "execution_count": 50,
     "metadata": {},
     "output_type": "execute_result"
    }
   ],
   "source": [
    "#Displaying the prediction Actual vs Predicted\n",
    "smlr_pred_df = pd.DataFrame({'Actual': y_test, 'Predicted': smlr_ypred})\n",
    "smlr_pred_df.head()"
   ]
  },
  {
   "cell_type": "code",
   "execution_count": 51,
   "metadata": {},
   "outputs": [
    {
     "data": {
      "image/png": "[encoded data removed]",
      "text/plain": [
       "<Figure size 1080x720 with 1 Axes>"
      ]
     },
     "metadata": {
      "needs_background": "light"
     },
     "output_type": "display_data"
    }
   ],
   "source": [
    "#Plot graph on Actual vs Predicted for first 50 observation on TEST set\n",
    "temp_df =smlr_pred_df .head(50)\n",
    "temp_df.plot(kind='bar', figsize=(15,10))\n",
    "plt.grid(which='Major', linestyle='-', linewidth='0.5', color='green')\n",
    "plt.grid(which='Minor', linestyle=':', linewidth='0.5', color='black')\n",
    "plt.xlabel('Observations / Instant')\n",
    "plt.ylabel('Count - Actual vs Predicted')\n",
    "plt.show()"
   ]
  },
  {
   "cell_type": "code",
   "execution_count": 52,
   "metadata": {},
   "outputs": [],
   "source": [
    "#Calclulate MAPE\n",
    "def MAPE(y_true, y_pred):\n",
    "    mape = np.mean(np.abs((y_true - y_pred) / y_true))*100\n",
    "    return mape"
   ]
  },
  {
   "cell_type": "code",
   "execution_count": 53,
   "metadata": {},
   "outputs": [],
   "source": [
    "#MAPE\n",
    "mape = round((MAPE(y_test,smlr_ypred)),3)\n",
    "\n",
    "#accuracy \n",
    "accuracy = round((100 - np.mean(mape)),3)\n",
    "\n",
    "#MAE\n",
    "mae = round((metrics.mean_absolute_error(y_test, smlr_ypred)),3)\n",
    "\n",
    "#MSE\n",
    "mse = round((metrics.mean_squared_error(y_test, smlr_ypred)),3)\n",
    "\n",
    "#RMSE\n",
    "rmse = round((np.sqrt(metrics.mean_squared_error(y_test, smlr_ypred))),3)"
   ]
  },
  {
   "cell_type": "code",
   "execution_count": 54,
   "metadata": {},
   "outputs": [
    {
     "name": "stdout",
     "output_type": "stream",
     "text": [
      "Mean absolute percentage error (MAPE) -  19.594\n",
      "Mean absolute error (MAE) -  657.45\n",
      "Mean squared error (MSE)  -  762919.192\n",
      "Root mean squared error (RMSE) -  873.452\n",
      "Model Accuracy -  80.406 %\n"
     ]
    }
   ],
   "source": [
    "print (\"Mean absolute percentage error (MAPE) - \", mape)\n",
    "print (\"Mean absolute error (MAE) - \", mae)\n",
    "print (\"Mean squared error (MSE)  - \", mse)\n",
    "print (\"Root mean squared error (RMSE) - \", rmse)\n",
    "print (\"Model Accuracy - \", accuracy,\"%\")"
   ]
  },
  {
   "cell_type": "code",
   "execution_count": null,
   "metadata": {},
   "outputs": [],
   "source": []
  },
  {
   "cell_type": "markdown",
   "metadata": {},
   "source": [
    "# Decision Tree regressor model"
   ]
  },
  {
   "cell_type": "code",
   "execution_count": 55,
   "metadata": {},
   "outputs": [],
   "source": [
    "from sklearn.tree import DecisionTreeRegressor\n",
    "from sklearn import metrics\n",
    "from sklearn import tree\n",
    "import pydoc"
   ]
  },
  {
   "cell_type": "code",
   "execution_count": 56,
   "metadata": {},
   "outputs": [],
   "source": [
    "dt_model = DecisionTreeRegressor(max_depth=5)"
   ]
  },
  {
   "cell_type": "code",
   "execution_count": 57,
   "metadata": {},
   "outputs": [
    {
     "data": {
      "text/plain": [
       "DecisionTreeRegressor(criterion='mse', max_depth=5, max_features=None,\n",
       "                      max_leaf_nodes=None, min_impurity_decrease=0.0,\n",
       "                      min_impurity_split=None, min_samples_leaf=1,\n",
       "                      min_samples_split=2, min_weight_fraction_leaf=0.0,\n",
       "                      presort=False, random_state=None, splitter='best')"
      ]
     },
     "execution_count": 57,
     "metadata": {},
     "output_type": "execute_result"
    }
   ],
   "source": [
    "dt_model.fit(X_train,y_train)"
   ]
  },
  {
   "cell_type": "code",
   "execution_count": 58,
   "metadata": {},
   "outputs": [],
   "source": [
    "dt_model_score = dt_model.score(X_train, y_train)"
   ]
  },
  {
   "cell_type": "code",
   "execution_count": 59,
   "metadata": {},
   "outputs": [],
   "source": [
    "dt_ypred = dt_model.predict(X_test)"
   ]
  },
  {
   "cell_type": "code",
   "execution_count": 60,
   "metadata": {},
   "outputs": [
    {
     "data": {
      "text/html": [
       "<div>\n",
       "<style scoped>\n",
       "    .dataframe tbody tr th:only-of-type {\n",
       "        vertical-align: middle;\n",
       "    }\n",
       "\n",
       "    .dataframe tbody tr th {\n",
       "        vertical-align: top;\n",
       "    }\n",
       "\n",
       "    .dataframe thead th {\n",
       "        text-align: right;\n",
       "    }\n",
       "</style>\n",
       "<table border=\"1\" class=\"dataframe\">\n",
       "  <thead>\n",
       "    <tr style=\"text-align: right;\">\n",
       "      <th></th>\n",
       "      <th>Actual</th>\n",
       "      <th>Predicted</th>\n",
       "    </tr>\n",
       "  </thead>\n",
       "  <tbody>\n",
       "    <tr>\n",
       "      <th>383</th>\n",
       "      <td>3292</td>\n",
       "      <td>2488.600000</td>\n",
       "    </tr>\n",
       "    <tr>\n",
       "      <th>583</th>\n",
       "      <td>7013</td>\n",
       "      <td>7326.770492</td>\n",
       "    </tr>\n",
       "    <tr>\n",
       "      <th>691</th>\n",
       "      <td>2425</td>\n",
       "      <td>5240.978261</td>\n",
       "    </tr>\n",
       "    <tr>\n",
       "      <th>360</th>\n",
       "      <td>1162</td>\n",
       "      <td>1968.795918</td>\n",
       "    </tr>\n",
       "    <tr>\n",
       "      <th>459</th>\n",
       "      <td>6436</td>\n",
       "      <td>6723.321839</td>\n",
       "    </tr>\n",
       "  </tbody>\n",
       "</table>\n",
       "</div>"
      ],
      "text/plain": [
       "     Actual    Predicted\n",
       "383    3292  2488.600000\n",
       "583    7013  7326.770492\n",
       "691    2425  5240.978261\n",
       "360    1162  1968.795918\n",
       "459    6436  6723.321839"
      ]
     },
     "execution_count": 60,
     "metadata": {},
     "output_type": "execute_result"
    }
   ],
   "source": [
    "#Displaying the prediction Actual vs Predicted\n",
    "dt_pred_df = pd.DataFrame({'Actual': y_test, 'Predicted': dt_ypred})\n",
    "dt_pred_df.head()"
   ]
  },
  {
   "cell_type": "code",
   "execution_count": 61,
   "metadata": {},
   "outputs": [
    {
     "data": {
      "image/png": "[encoded data removed]",
      "text/plain": [
       "<Figure size 1080x720 with 1 Axes>"
      ]
     },
     "metadata": {
      "needs_background": "light"
     },
     "output_type": "display_data"
    }
   ],
   "source": [
    "#Plot graph on Actual vs Predicted for first 50 observation on TEST set\n",
    "temp_df =dt_pred_df .head(50)\n",
    "temp_df.plot(kind='bar', figsize=(15,10),)\n",
    "plt.grid(which='Major', linestyle='-', linewidth='0.5', color='green')\n",
    "plt.grid(which='Minor', linestyle=':', linewidth='0.5', color='black')\n",
    "plt.xlabel('Observations / Instant')\n",
    "plt.ylabel('Count - Actual vs Predicted')\n",
    "plt.show()"
   ]
  },
  {
   "cell_type": "code",
   "execution_count": 62,
   "metadata": {},
   "outputs": [],
   "source": [
    "#MAPE\n",
    "mape = round((MAPE(y_test,dt_ypred)),3)\n",
    "\n",
    "#accuracy \n",
    "accuracy = round((100 - np.mean(mape)),3)\n",
    "\n",
    "#MAE\n",
    "mae = round((metrics.mean_absolute_error(y_test, dt_ypred)),3)\n",
    "\n",
    "#MSE\n",
    "mse = round((metrics.mean_squared_error(y_test, dt_ypred)),3)\n",
    "\n",
    "#RMSE\n",
    "rmse = round((np.sqrt(metrics.mean_squared_error(y_test, dt_ypred))),3)"
   ]
  },
  {
   "cell_type": "code",
   "execution_count": 63,
   "metadata": {},
   "outputs": [
    {
     "name": "stdout",
     "output_type": "stream",
     "text": [
      "Mean absolute percentage error (MAPE) -  18.529\n",
      "Mean absolute error (MAE) -  610.635\n",
      "Mean squared error (MSE)  -  820767.247\n",
      "Root mean squared error (RMSE) -  905.962\n",
      "Model Accuracy -  81.471 %\n"
     ]
    }
   ],
   "source": [
    "print (\"Mean absolute percentage error (MAPE) - \", mape)\n",
    "print (\"Mean absolute error (MAE) - \", mae)\n",
    "print (\"Mean squared error (MSE)  - \", mse)\n",
    "print (\"Root mean squared error (RMSE) - \", rmse)\n",
    "print (\"Model Accuracy - \", accuracy,\"%\")"
   ]
  },
  {
   "cell_type": "code",
   "execution_count": 64,
   "metadata": {},
   "outputs": [],
   "source": [
    "#Display the decision tree \n",
    "import graphviz\n",
    "from sklearn.tree import DecisionTreeRegressor, export_graphviz\n"
   ]
  },
  {
   "cell_type": "code",
   "execution_count": 65,
   "metadata": {},
   "outputs": [],
   "source": [
    "feature_names = X.columns\n",
    "target_names = bike_df['cnt']"
   ]
  },
  {
   "cell_type": "code",
   "execution_count": 66,
   "metadata": {},
   "outputs": [
    {
     "data": {
      "image/svg+xml": [
       "<?xml version=\"1.0\" encoding=\"UTF-8\" standalone=\"no\"?>\r\n",
       "<!DOCTYPE svg PUBLIC \"-//W3C//DTD SVG 1.1//EN\"\r\n",
       " \"http://www.w3.org/Graphics/SVG/1.1/DTD/svg11.dtd\">\r\n",
       "<!-- Generated by graphviz version 2.38.0 (20140413.2041)\r\n",
       " -->\r\n",
       "<!-- Title: Tree Pages: 1 -->\r\n",
       "<svg width=\"4166pt\" height=\"581pt\"\r\n",
       " viewBox=\"0.00 0.00 4166.00 581.00\" xmlns=\"http://www.w3.org/2000/svg\" xmlns:xlink=\"http://www.w3.org/1999/xlink\">\r\n",
       "<g id=\"graph0\" class=\"graph\" transform=\"scale(1 1) rotate(0) translate(4 577)\">\r\n",
       "<title>Tree</title>\r\n",
       "<polygon fill=\"white\" stroke=\"none\" points=\"-4,4 -4,-577 4162,-577 4162,4 -4,4\"/>\r\n",
       "<!-- 0 -->\r\n",
       "<g id=\"node1\" class=\"node\"><title>0</title>\r\n",
       "<path fill=\"#efb184\" stroke=\"black\" d=\"M2202,-573C2202,-573 2080,-573 2080,-573 2074,-573 2068,-567 2068,-561 2068,-561 2068,-517 2068,-517 2068,-511 2074,-505 2080,-505 2080,-505 2202,-505 2202,-505 2208,-505 2214,-511 2214,-517 2214,-517 2214,-561 2214,-561 2214,-567 2208,-573 2202,-573\"/>\r\n",
       "<text text-anchor=\"start\" x=\"2098.5\" y=\"-557.8\" font-family=\"Helvetica,sans-Serif\" font-size=\"14.00\">temp ≤ 0.433</text>\r\n",
       "<text text-anchor=\"start\" x=\"2076\" y=\"-542.8\" font-family=\"Helvetica,sans-Serif\" font-size=\"14.00\">mse = 3790490.439</text>\r\n",
       "<text text-anchor=\"start\" x=\"2093.5\" y=\"-527.8\" font-family=\"Helvetica,sans-Serif\" font-size=\"14.00\">samples = 573</text>\r\n",
       "<text text-anchor=\"start\" x=\"2085.5\" y=\"-512.8\" font-family=\"Helvetica,sans-Serif\" font-size=\"14.00\">value = 4556.749</text>\r\n",
       "</g>\r\n",
       "<!-- 1 -->\r\n",
       "<g id=\"node2\" class=\"node\"><title>1</title>\r\n",
       "<path fill=\"#f4caab\" stroke=\"black\" d=\"M1758,-469C1758,-469 1636,-469 1636,-469 1630,-469 1624,-463 1624,-457 1624,-457 1624,-413 1624,-413 1624,-407 1630,-401 1636,-401 1636,-401 1758,-401 1758,-401 1764,-401 1770,-407 1770,-413 1770,-413 1770,-457 1770,-457 1770,-463 1764,-469 1758,-469\"/>\r\n",
       "<text text-anchor=\"start\" x=\"1673.5\" y=\"-453.8\" font-family=\"Helvetica,sans-Serif\" font-size=\"14.00\">yr ≤ 0.5</text>\r\n",
       "<text text-anchor=\"start\" x=\"1632\" y=\"-438.8\" font-family=\"Helvetica,sans-Serif\" font-size=\"14.00\">mse = 2323723.724</text>\r\n",
       "<text text-anchor=\"start\" x=\"1649.5\" y=\"-423.8\" font-family=\"Helvetica,sans-Serif\" font-size=\"14.00\">samples = 231</text>\r\n",
       "<text text-anchor=\"start\" x=\"1641.5\" y=\"-408.8\" font-family=\"Helvetica,sans-Serif\" font-size=\"14.00\">value = 3104.857</text>\r\n",
       "</g>\r\n",
       "<!-- 0&#45;&gt;1 -->\r\n",
       "<g id=\"edge1\" class=\"edge\"><title>0&#45;&gt;1</title>\r\n",
       "<path fill=\"none\" stroke=\"black\" d=\"M2067.68,-521.157C1988.51,-502.969 1862.65,-474.055 1779.93,-455.05\"/>\r\n",
       "<polygon fill=\"black\" stroke=\"black\" points=\"1780.59,-451.611 1770.06,-452.783 1779.02,-458.434 1780.59,-451.611\"/>\r\n",
       "<text text-anchor=\"middle\" x=\"1783.33\" y=\"-470.27\" font-family=\"Helvetica,sans-Serif\" font-size=\"14.00\">True</text>\r\n",
       "</g>\r\n",
       "<!-- 30 -->\r\n",
       "<g id=\"node31\" class=\"node\"><title>30</title>\r\n",
       "<path fill=\"#eba06a\" stroke=\"black\" d=\"M2724,-469C2724,-469 2602,-469 2602,-469 2596,-469 2590,-463 2590,-457 2590,-457 2590,-413 2590,-413 2590,-407 2596,-401 2602,-401 2602,-401 2724,-401 2724,-401 2730,-401 2736,-407 2736,-413 2736,-413 2736,-457 2736,-457 2736,-463 2730,-469 2724,-469\"/>\r\n",
       "<text text-anchor=\"start\" x=\"2639.5\" y=\"-453.8\" font-family=\"Helvetica,sans-Serif\" font-size=\"14.00\">yr ≤ 0.5</text>\r\n",
       "<text text-anchor=\"start\" x=\"2598\" y=\"-438.8\" font-family=\"Helvetica,sans-Serif\" font-size=\"14.00\">mse = 2395683.038</text>\r\n",
       "<text text-anchor=\"start\" x=\"2615.5\" y=\"-423.8\" font-family=\"Helvetica,sans-Serif\" font-size=\"14.00\">samples = 342</text>\r\n",
       "<text text-anchor=\"start\" x=\"2607.5\" y=\"-408.8\" font-family=\"Helvetica,sans-Serif\" font-size=\"14.00\">value = 5537.412</text>\r\n",
       "</g>\r\n",
       "<!-- 0&#45;&gt;30 -->\r\n",
       "<g id=\"edge30\" class=\"edge\"><title>0&#45;&gt;30</title>\r\n",
       "<path fill=\"none\" stroke=\"black\" d=\"M2214.13,-523.71C2310.39,-504.9 2479.19,-471.917 2580.09,-452.2\"/>\r\n",
       "<polygon fill=\"black\" stroke=\"black\" points=\"2580.8,-455.628 2589.94,-450.275 2579.46,-448.758 2580.8,-455.628\"/>\r\n",
       "<text text-anchor=\"middle\" x=\"2575.98\" y=\"-467.315\" font-family=\"Helvetica,sans-Serif\" font-size=\"14.00\">False</text>\r\n",
       "</g>\r\n",
       "<!-- 2 -->\r\n",
       "<g id=\"node3\" class=\"node\"><title>2</title>\r\n",
       "<path fill=\"#f7d8c2\" stroke=\"black\" d=\"M943,-365C943,-365 821,-365 821,-365 815,-365 809,-359 809,-353 809,-353 809,-309 809,-309 809,-303 815,-297 821,-297 821,-297 943,-297 943,-297 949,-297 955,-303 955,-309 955,-309 955,-353 955,-353 955,-359 949,-365 943,-365\"/>\r\n",
       "<text text-anchor=\"start\" x=\"841\" y=\"-349.8\" font-family=\"Helvetica,sans-Serif\" font-size=\"14.00\">season ≤ 3.0</text>\r\n",
       "<text text-anchor=\"start\" x=\"817\" y=\"-334.8\" font-family=\"Helvetica,sans-Serif\" font-size=\"14.00\">mse = 1120796.122</text>\r\n",
       "<text text-anchor=\"start\" x=\"834.5\" y=\"-319.8\" font-family=\"Helvetica,sans-Serif\" font-size=\"14.00\">samples = 121</text>\r\n",
       "<text text-anchor=\"start\" x=\"826.5\" y=\"-304.8\" font-family=\"Helvetica,sans-Serif\" font-size=\"14.00\">value = 2281.041</text>\r\n",
       "</g>\r\n",
       "<!-- 1&#45;&gt;2 -->\r\n",
       "<g id=\"edge2\" class=\"edge\"><title>1&#45;&gt;2</title>\r\n",
       "<path fill=\"none\" stroke=\"black\" d=\"M1623.96,-424.858C1472.56,-405.911 1125.35,-362.456 965.431,-342.442\"/>\r\n",
       "<polygon fill=\"black\" stroke=\"black\" points=\"965.53,-338.927 955.172,-341.158 964.66,-345.873 965.53,-338.927\"/>\r\n",
       "</g>\r\n",
       "<!-- 17 -->\r\n",
       "<g id=\"node18\" class=\"node\"><title>17</title>\r\n",
       "<path fill=\"#f1ba93\" stroke=\"black\" d=\"M1758,-365C1758,-365 1636,-365 1636,-365 1630,-365 1624,-359 1624,-353 1624,-353 1624,-309 1624,-309 1624,-303 1630,-297 1636,-297 1636,-297 1758,-297 1758,-297 1764,-297 1770,-303 1770,-309 1770,-309 1770,-353 1770,-353 1770,-359 1764,-365 1758,-365\"/>\r\n",
       "<text text-anchor=\"start\" x=\"1656\" y=\"-349.8\" font-family=\"Helvetica,sans-Serif\" font-size=\"14.00\">season ≤ 1.5</text>\r\n",
       "<text text-anchor=\"start\" x=\"1632\" y=\"-334.8\" font-family=\"Helvetica,sans-Serif\" font-size=\"14.00\">mse = 2079210.597</text>\r\n",
       "<text text-anchor=\"start\" x=\"1649.5\" y=\"-319.8\" font-family=\"Helvetica,sans-Serif\" font-size=\"14.00\">samples = 110</text>\r\n",
       "<text text-anchor=\"start\" x=\"1641.5\" y=\"-304.8\" font-family=\"Helvetica,sans-Serif\" font-size=\"14.00\">value = 4011.055</text>\r\n",
       "</g>\r\n",
       "<!-- 1&#45;&gt;17 -->\r\n",
       "<g id=\"edge17\" class=\"edge\"><title>1&#45;&gt;17</title>\r\n",
       "<path fill=\"none\" stroke=\"black\" d=\"M1697,-400.884C1697,-392.778 1697,-383.982 1697,-375.472\"/>\r\n",
       "<polygon fill=\"black\" stroke=\"black\" points=\"1700.5,-375.299 1697,-365.299 1693.5,-375.299 1700.5,-375.299\"/>\r\n",
       "</g>\r\n",
       "<!-- 3 -->\r\n",
       "<g id=\"node4\" class=\"node\"><title>3</title>\r\n",
       "<path fill=\"#f9e2d2\" stroke=\"black\" d=\"M506,-261C506,-261 392,-261 392,-261 386,-261 380,-255 380,-249 380,-249 380,-205 380,-205 380,-199 386,-193 392,-193 392,-193 506,-193 506,-193 512,-193 518,-199 518,-205 518,-205 518,-249 518,-249 518,-255 512,-261 506,-261\"/>\r\n",
       "<text text-anchor=\"start\" x=\"415.5\" y=\"-245.8\" font-family=\"Helvetica,sans-Serif\" font-size=\"14.00\">mnth ≤ 1.5</text>\r\n",
       "<text text-anchor=\"start\" x=\"388\" y=\"-230.8\" font-family=\"Helvetica,sans-Serif\" font-size=\"14.00\">mse = 339045.748</text>\r\n",
       "<text text-anchor=\"start\" x=\"405.5\" y=\"-215.8\" font-family=\"Helvetica,sans-Serif\" font-size=\"14.00\">samples = 78</text>\r\n",
       "<text text-anchor=\"start\" x=\"397.5\" y=\"-200.8\" font-family=\"Helvetica,sans-Serif\" font-size=\"14.00\">value = 1693.09</text>\r\n",
       "</g>\r\n",
       "<!-- 2&#45;&gt;3 -->\r\n",
       "<g id=\"edge3\" class=\"edge\"><title>2&#45;&gt;3</title>\r\n",
       "<path fill=\"none\" stroke=\"black\" d=\"M808.547,-312.697C730.686,-294.356 608.145,-265.489 528.175,-246.651\"/>\r\n",
       "<polygon fill=\"black\" stroke=\"black\" points=\"528.691,-243.177 518.154,-244.29 527.086,-249.99 528.691,-243.177\"/>\r\n",
       "</g>\r\n",
       "<!-- 10 -->\r\n",
       "<g id=\"node11\" class=\"node\"><title>10</title>\r\n",
       "<path fill=\"#f3c6a5\" stroke=\"black\" d=\"M939,-261C939,-261 825,-261 825,-261 819,-261 813,-255 813,-249 813,-249 813,-205 813,-205 813,-199 819,-193 825,-193 825,-193 939,-193 939,-193 945,-193 951,-199 951,-205 951,-205 951,-249 951,-249 951,-255 945,-261 939,-261\"/>\r\n",
       "<text text-anchor=\"start\" x=\"842.5\" y=\"-245.8\" font-family=\"Helvetica,sans-Serif\" font-size=\"14.00\">hum ≤ 0.855</text>\r\n",
       "<text text-anchor=\"start\" x=\"821\" y=\"-230.8\" font-family=\"Helvetica,sans-Serif\" font-size=\"14.00\">mse = 774336.572</text>\r\n",
       "<text text-anchor=\"start\" x=\"838.5\" y=\"-215.8\" font-family=\"Helvetica,sans-Serif\" font-size=\"14.00\">samples = 43</text>\r\n",
       "<text text-anchor=\"start\" x=\"826.5\" y=\"-200.8\" font-family=\"Helvetica,sans-Serif\" font-size=\"14.00\">value = 3347.558</text>\r\n",
       "</g>\r\n",
       "<!-- 2&#45;&gt;10 -->\r\n",
       "<g id=\"edge10\" class=\"edge\"><title>2&#45;&gt;10</title>\r\n",
       "<path fill=\"none\" stroke=\"black\" d=\"M882,-296.884C882,-288.778 882,-279.982 882,-271.472\"/>\r\n",
       "<polygon fill=\"black\" stroke=\"black\" points=\"885.5,-271.299 882,-261.299 878.5,-271.299 885.5,-271.299\"/>\r\n",
       "</g>\r\n",
       "<!-- 4 -->\r\n",
       "<g id=\"node5\" class=\"node\"><title>4</title>\r\n",
       "<path fill=\"#fbeadd\" stroke=\"black\" d=\"M266,-157C266,-157 168,-157 168,-157 162,-157 156,-151 156,-145 156,-145 156,-101 156,-101 156,-95 162,-89 168,-89 168,-89 266,-89 266,-89 272,-89 278,-95 278,-101 278,-101 278,-145 278,-145 278,-151 272,-157 266,-157\"/>\r\n",
       "<text text-anchor=\"start\" x=\"177.5\" y=\"-141.8\" font-family=\"Helvetica,sans-Serif\" font-size=\"14.00\">hum ≤ 0.687</text>\r\n",
       "<text text-anchor=\"start\" x=\"164\" y=\"-126.8\" font-family=\"Helvetica,sans-Serif\" font-size=\"14.00\">mse = 143946.4</text>\r\n",
       "<text text-anchor=\"start\" x=\"173.5\" y=\"-111.8\" font-family=\"Helvetica,sans-Serif\" font-size=\"14.00\">samples = 25</text>\r\n",
       "<text text-anchor=\"start\" x=\"170\" y=\"-96.8\" font-family=\"Helvetica,sans-Serif\" font-size=\"14.00\">value = 1260.0</text>\r\n",
       "</g>\r\n",
       "<!-- 3&#45;&gt;4 -->\r\n",
       "<g id=\"edge4\" class=\"edge\"><title>3&#45;&gt;4</title>\r\n",
       "<path fill=\"none\" stroke=\"black\" d=\"M379.707,-195.535C350.55,-182.716 316.667,-167.819 287.394,-154.949\"/>\r\n",
       "<polygon fill=\"black\" stroke=\"black\" points=\"288.626,-151.667 278.063,-150.847 285.809,-158.076 288.626,-151.667\"/>\r\n",
       "</g>\r\n",
       "<!-- 7 -->\r\n",
       "<g id=\"node8\" class=\"node\"><title>7</title>\r\n",
       "<path fill=\"#f8dfcc\" stroke=\"black\" d=\"M506,-157C506,-157 392,-157 392,-157 386,-157 380,-151 380,-145 380,-145 380,-101 380,-101 380,-95 386,-89 392,-89 392,-89 506,-89 506,-89 512,-89 518,-95 518,-101 518,-101 518,-145 518,-145 518,-151 512,-157 506,-157\"/>\r\n",
       "<text text-anchor=\"start\" x=\"409.5\" y=\"-141.8\" font-family=\"Helvetica,sans-Serif\" font-size=\"14.00\">hum ≤ 0.883</text>\r\n",
       "<text text-anchor=\"start\" x=\"388\" y=\"-126.8\" font-family=\"Helvetica,sans-Serif\" font-size=\"14.00\">mse = 300865.443</text>\r\n",
       "<text text-anchor=\"start\" x=\"405.5\" y=\"-111.8\" font-family=\"Helvetica,sans-Serif\" font-size=\"14.00\">samples = 53</text>\r\n",
       "<text text-anchor=\"start\" x=\"393.5\" y=\"-96.8\" font-family=\"Helvetica,sans-Serif\" font-size=\"14.00\">value = 1897.377</text>\r\n",
       "</g>\r\n",
       "<!-- 3&#45;&gt;7 -->\r\n",
       "<g id=\"edge7\" class=\"edge\"><title>3&#45;&gt;7</title>\r\n",
       "<path fill=\"none\" stroke=\"black\" d=\"M449,-192.884C449,-184.778 449,-175.982 449,-167.472\"/>\r\n",
       "<polygon fill=\"black\" stroke=\"black\" points=\"452.5,-167.299 449,-157.299 445.5,-167.299 452.5,-167.299\"/>\r\n",
       "</g>\r\n",
       "<!-- 5 -->\r\n",
       "<g id=\"node6\" class=\"node\"><title>5</title>\r\n",
       "<path fill=\"#fae8da\" stroke=\"black\" d=\"M118,-53C118,-53 12,-53 12,-53 6,-53 0,-47 0,-41 0,-41 0,-12 0,-12 0,-6 6,-0 12,-0 12,-0 118,-0 118,-0 124,-0 130,-6 130,-12 130,-12 130,-41 130,-41 130,-47 124,-53 118,-53\"/>\r\n",
       "<text text-anchor=\"start\" x=\"8\" y=\"-37.8\" font-family=\"Helvetica,sans-Serif\" font-size=\"14.00\">mse = 89108.889</text>\r\n",
       "<text text-anchor=\"start\" x=\"21.5\" y=\"-22.8\" font-family=\"Helvetica,sans-Serif\" font-size=\"14.00\">samples = 18</text>\r\n",
       "<text text-anchor=\"start\" x=\"9.5\" y=\"-7.8\" font-family=\"Helvetica,sans-Serif\" font-size=\"14.00\">value = 1381.333</text>\r\n",
       "</g>\r\n",
       "<!-- 4&#45;&gt;5 -->\r\n",
       "<g id=\"edge5\" class=\"edge\"><title>4&#45;&gt;5</title>\r\n",
       "<path fill=\"none\" stroke=\"black\" d=\"M163.838,-88.9485C147.946,-79.0686 130.586,-68.2758 114.911,-58.5305\"/>\r\n",
       "<polygon fill=\"black\" stroke=\"black\" points=\"116.737,-55.5443 106.397,-53.2367 113.041,-61.489 116.737,-55.5443\"/>\r\n",
       "</g>\r\n",
       "<!-- 6 -->\r\n",
       "<g id=\"node7\" class=\"node\"><title>6</title>\r\n",
       "<path fill=\"#fcefe6\" stroke=\"black\" d=\"M274,-53C274,-53 160,-53 160,-53 154,-53 148,-47 148,-41 148,-41 148,-12 148,-12 148,-6 154,-0 160,-0 160,-0 274,-0 274,-0 280,-0 286,-6 286,-12 286,-12 286,-41 286,-41 286,-47 280,-53 274,-53\"/>\r\n",
       "<text text-anchor=\"start\" x=\"156\" y=\"-37.8\" font-family=\"Helvetica,sans-Serif\" font-size=\"14.00\">mse = 149757.143</text>\r\n",
       "<text text-anchor=\"start\" x=\"177.5\" y=\"-22.8\" font-family=\"Helvetica,sans-Serif\" font-size=\"14.00\">samples = 7</text>\r\n",
       "<text text-anchor=\"start\" x=\"174\" y=\"-7.8\" font-family=\"Helvetica,sans-Serif\" font-size=\"14.00\">value = 948.0</text>\r\n",
       "</g>\r\n",
       "<!-- 4&#45;&gt;6 -->\r\n",
       "<g id=\"edge6\" class=\"edge\"><title>4&#45;&gt;6</title>\r\n",
       "<path fill=\"none\" stroke=\"black\" d=\"M217,-88.9485C217,-80.7153 217,-71.848 217,-63.4814\"/>\r\n",
       "<polygon fill=\"black\" stroke=\"black\" points=\"220.5,-63.2367 217,-53.2367 213.5,-63.2367 220.5,-63.2367\"/>\r\n",
       "</g>\r\n",
       "<!-- 8 -->\r\n",
       "<g id=\"node9\" class=\"node\"><title>8</title>\r\n",
       "<path fill=\"#f8ddca\" stroke=\"black\" d=\"M430,-53C430,-53 316,-53 316,-53 310,-53 304,-47 304,-41 304,-41 304,-12 304,-12 304,-6 310,-0 316,-0 316,-0 430,-0 430,-0 436,-0 442,-6 442,-12 442,-12 442,-41 442,-41 442,-47 436,-53 430,-53\"/>\r\n",
       "<text text-anchor=\"start\" x=\"312\" y=\"-37.8\" font-family=\"Helvetica,sans-Serif\" font-size=\"14.00\">mse = 244265.754</text>\r\n",
       "<text text-anchor=\"start\" x=\"329.5\" y=\"-22.8\" font-family=\"Helvetica,sans-Serif\" font-size=\"14.00\">samples = 49</text>\r\n",
       "<text text-anchor=\"start\" x=\"317.5\" y=\"-7.8\" font-family=\"Helvetica,sans-Serif\" font-size=\"14.00\">value = 1968.796</text>\r\n",
       "</g>\r\n",
       "<!-- 7&#45;&gt;8 -->\r\n",
       "<g id=\"edge8\" class=\"edge\"><title>7&#45;&gt;8</title>\r\n",
       "<path fill=\"none\" stroke=\"black\" d=\"M422.419,-88.9485C415.209,-79.9834 407.394,-70.2666 400.153,-61.2629\"/>\r\n",
       "<polygon fill=\"black\" stroke=\"black\" points=\"402.693,-58.8358 393.698,-53.2367 397.238,-63.2228 402.693,-58.8358\"/>\r\n",
       "</g>\r\n",
       "<!-- 9 -->\r\n",
       "<g id=\"node10\" class=\"node\"><title>9</title>\r\n",
       "<path fill=\"#fbeee4\" stroke=\"black\" d=\"M578,-53C578,-53 472,-53 472,-53 466,-53 460,-47 460,-41 460,-41 460,-12 460,-12 460,-6 466,-0 472,-0 472,-0 578,-0 578,-0 584,-0 590,-6 590,-12 590,-12 590,-41 590,-41 590,-47 584,-53 578,-53\"/>\r\n",
       "<text text-anchor=\"start\" x=\"468\" y=\"-37.8\" font-family=\"Helvetica,sans-Serif\" font-size=\"14.00\">mse = 166318.75</text>\r\n",
       "<text text-anchor=\"start\" x=\"485.5\" y=\"-22.8\" font-family=\"Helvetica,sans-Serif\" font-size=\"14.00\">samples = 4</text>\r\n",
       "<text text-anchor=\"start\" x=\"478\" y=\"-7.8\" font-family=\"Helvetica,sans-Serif\" font-size=\"14.00\">value = 1022.5</text>\r\n",
       "</g>\r\n",
       "<!-- 7&#45;&gt;9 -->\r\n",
       "<g id=\"edge9\" class=\"edge\"><title>7&#45;&gt;9</title>\r\n",
       "<path fill=\"none\" stroke=\"black\" d=\"M475.581,-88.9485C482.791,-79.9834 490.606,-70.2666 497.847,-61.2629\"/>\r\n",
       "<polygon fill=\"black\" stroke=\"black\" points=\"500.762,-63.2228 504.302,-53.2367 495.307,-58.8358 500.762,-63.2228\"/>\r\n",
       "</g>\r\n",
       "<!-- 11 -->\r\n",
       "<g id=\"node12\" class=\"node\"><title>11</title>\r\n",
       "<path fill=\"#f3c3a0\" stroke=\"black\" d=\"M861,-157C861,-157 747,-157 747,-157 741,-157 735,-151 735,-145 735,-145 735,-101 735,-101 735,-95 741,-89 747,-89 747,-89 861,-89 861,-89 867,-89 873,-95 873,-101 873,-101 873,-145 873,-145 873,-151 867,-157 861,-157\"/>\r\n",
       "<text text-anchor=\"start\" x=\"764\" y=\"-141.8\" font-family=\"Helvetica,sans-Serif\" font-size=\"14.00\">holiday ≤ 0.5</text>\r\n",
       "<text text-anchor=\"start\" x=\"743\" y=\"-126.8\" font-family=\"Helvetica,sans-Serif\" font-size=\"14.00\">mse = 365520.627</text>\r\n",
       "<text text-anchor=\"start\" x=\"760.5\" y=\"-111.8\" font-family=\"Helvetica,sans-Serif\" font-size=\"14.00\">samples = 40</text>\r\n",
       "<text text-anchor=\"start\" x=\"752.5\" y=\"-96.8\" font-family=\"Helvetica,sans-Serif\" font-size=\"14.00\">value = 3525.15</text>\r\n",
       "</g>\r\n",
       "<!-- 10&#45;&gt;11 -->\r\n",
       "<g id=\"edge11\" class=\"edge\"><title>10&#45;&gt;11</title>\r\n",
       "<path fill=\"none\" stroke=\"black\" d=\"M856.676,-192.884C850,-184.154 842.713,-174.625 835.746,-165.514\"/>\r\n",
       "<polygon fill=\"black\" stroke=\"black\" points=\"838.319,-163.117 829.464,-157.299 832.758,-167.369 838.319,-163.117\"/>\r\n",
       "</g>\r\n",
       "<!-- 14 -->\r\n",
       "<g id=\"node15\" class=\"node\"><title>14</title>\r\n",
       "<path fill=\"#fceee5\" stroke=\"black\" d=\"M1017,-157C1017,-157 903,-157 903,-157 897,-157 891,-151 891,-145 891,-145 891,-101 891,-101 891,-95 897,-89 903,-89 903,-89 1017,-89 1017,-89 1023,-89 1029,-95 1029,-101 1029,-101 1029,-145 1029,-145 1029,-151 1023,-157 1017,-157\"/>\r\n",
       "<text text-anchor=\"start\" x=\"917.5\" y=\"-141.8\" font-family=\"Helvetica,sans-Serif\" font-size=\"14.00\">temp ≤ 0.413</text>\r\n",
       "<text text-anchor=\"start\" x=\"899\" y=\"-126.8\" font-family=\"Helvetica,sans-Serif\" font-size=\"14.00\">mse = 197787.556</text>\r\n",
       "<text text-anchor=\"start\" x=\"920.5\" y=\"-111.8\" font-family=\"Helvetica,sans-Serif\" font-size=\"14.00\">samples = 3</text>\r\n",
       "<text text-anchor=\"start\" x=\"908.5\" y=\"-96.8\" font-family=\"Helvetica,sans-Serif\" font-size=\"14.00\">value = 979.667</text>\r\n",
       "</g>\r\n",
       "<!-- 10&#45;&gt;14 -->\r\n",
       "<g id=\"edge14\" class=\"edge\"><title>10&#45;&gt;14</title>\r\n",
       "<path fill=\"none\" stroke=\"black\" d=\"M907.324,-192.884C914,-184.154 921.287,-174.625 928.254,-165.514\"/>\r\n",
       "<polygon fill=\"black\" stroke=\"black\" points=\"931.242,-167.369 934.536,-157.299 925.681,-163.117 931.242,-167.369\"/>\r\n",
       "</g>\r\n",
       "<!-- 12 -->\r\n",
       "<g id=\"node13\" class=\"node\"><title>12</title>\r\n",
       "<path fill=\"#f2c29f\" stroke=\"black\" d=\"M734,-53C734,-53 620,-53 620,-53 614,-53 608,-47 608,-41 608,-41 608,-12 608,-12 608,-6 614,-0 620,-0 620,-0 734,-0 734,-0 740,-0 746,-6 746,-12 746,-12 746,-41 746,-41 746,-47 740,-53 734,-53\"/>\r\n",
       "<text text-anchor=\"start\" x=\"616\" y=\"-37.8\" font-family=\"Helvetica,sans-Serif\" font-size=\"14.00\">mse = 266503.496</text>\r\n",
       "<text text-anchor=\"start\" x=\"633.5\" y=\"-22.8\" font-family=\"Helvetica,sans-Serif\" font-size=\"14.00\">samples = 39</text>\r\n",
       "<text text-anchor=\"start\" x=\"621.5\" y=\"-7.8\" font-family=\"Helvetica,sans-Serif\" font-size=\"14.00\">value = 3577.205</text>\r\n",
       "</g>\r\n",
       "<!-- 11&#45;&gt;12 -->\r\n",
       "<g id=\"edge12\" class=\"edge\"><title>11&#45;&gt;12</title>\r\n",
       "<path fill=\"none\" stroke=\"black\" d=\"M759.582,-88.9485C746.673,-79.3431 732.604,-68.8747 719.797,-59.345\"/>\r\n",
       "<polygon fill=\"black\" stroke=\"black\" points=\"721.7,-56.3984 711.588,-53.2367 717.521,-62.0143 721.7,-56.3984\"/>\r\n",
       "</g>\r\n",
       "<!-- 13 -->\r\n",
       "<g id=\"node14\" class=\"node\"><title>13</title>\r\n",
       "<path fill=\"#fae6d7\" stroke=\"black\" d=\"M862,-53C862,-53 776,-53 776,-53 770,-53 764,-47 764,-41 764,-41 764,-12 764,-12 764,-6 770,-0 776,-0 776,-0 862,-0 862,-0 868,-0 874,-6 874,-12 874,-12 874,-41 874,-41 874,-47 868,-53 862,-53\"/>\r\n",
       "<text text-anchor=\"start\" x=\"787\" y=\"-37.8\" font-family=\"Helvetica,sans-Serif\" font-size=\"14.00\">mse = 0.0</text>\r\n",
       "<text text-anchor=\"start\" x=\"779.5\" y=\"-22.8\" font-family=\"Helvetica,sans-Serif\" font-size=\"14.00\">samples = 1</text>\r\n",
       "<text text-anchor=\"start\" x=\"772\" y=\"-7.8\" font-family=\"Helvetica,sans-Serif\" font-size=\"14.00\">value = 1495.0</text>\r\n",
       "</g>\r\n",
       "<!-- 11&#45;&gt;13 -->\r\n",
       "<g id=\"edge13\" class=\"edge\"><title>11&#45;&gt;13</title>\r\n",
       "<path fill=\"none\" stroke=\"black\" d=\"M809.246,-88.9485C810.568,-80.6238 811.992,-71.6509 813.333,-63.2027\"/>\r\n",
       "<polygon fill=\"black\" stroke=\"black\" points=\"816.804,-63.6618 814.915,-53.2367 809.89,-62.5643 816.804,-63.6618\"/>\r\n",
       "</g>\r\n",
       "<!-- 15 -->\r\n",
       "<g id=\"node16\" class=\"node\"><title>15</title>\r\n",
       "<path fill=\"#fdf4ee\" stroke=\"black\" d=\"M985.5,-53C985.5,-53 904.5,-53 904.5,-53 898.5,-53 892.5,-47 892.5,-41 892.5,-41 892.5,-12 892.5,-12 892.5,-6 898.5,-0 904.5,-0 904.5,-0 985.5,-0 985.5,-0 991.5,-0 997.5,-6 997.5,-12 997.5,-12 997.5,-41 997.5,-41 997.5,-47 991.5,-53 985.5,-53\"/>\r\n",
       "<text text-anchor=\"start\" x=\"900.5\" y=\"-37.8\" font-family=\"Helvetica,sans-Serif\" font-size=\"14.00\">mse = 1521.0</text>\r\n",
       "<text text-anchor=\"start\" x=\"905.5\" y=\"-22.8\" font-family=\"Helvetica,sans-Serif\" font-size=\"14.00\">samples = 2</text>\r\n",
       "<text text-anchor=\"start\" x=\"902\" y=\"-7.8\" font-family=\"Helvetica,sans-Serif\" font-size=\"14.00\">value = 666.0</text>\r\n",
       "</g>\r\n",
       "<!-- 14&#45;&gt;15 -->\r\n",
       "<g id=\"edge15\" class=\"edge\"><title>14&#45;&gt;15</title>\r\n",
       "<path fill=\"none\" stroke=\"black\" d=\"M954.754,-88.9485C953.432,-80.6238 952.008,-71.6509 950.667,-63.2027\"/>\r\n",
       "<polygon fill=\"black\" stroke=\"black\" points=\"954.11,-62.5643 949.085,-53.2367 947.196,-63.6618 954.11,-62.5643\"/>\r\n",
       "</g>\r\n",
       "<!-- 16 -->\r\n",
       "<g id=\"node17\" class=\"node\"><title>16</title>\r\n",
       "<path fill=\"#f9e4d4\" stroke=\"black\" d=\"M1114,-53C1114,-53 1028,-53 1028,-53 1022,-53 1016,-47 1016,-41 1016,-41 1016,-12 1016,-12 1016,-6 1022,-0 1028,-0 1028,-0 1114,-0 1114,-0 1120,-0 1126,-6 1126,-12 1126,-12 1126,-41 1126,-41 1126,-47 1120,-53 1114,-53\"/>\r\n",
       "<text text-anchor=\"start\" x=\"1039\" y=\"-37.8\" font-family=\"Helvetica,sans-Serif\" font-size=\"14.00\">mse = 0.0</text>\r\n",
       "<text text-anchor=\"start\" x=\"1031.5\" y=\"-22.8\" font-family=\"Helvetica,sans-Serif\" font-size=\"14.00\">samples = 1</text>\r\n",
       "<text text-anchor=\"start\" x=\"1024\" y=\"-7.8\" font-family=\"Helvetica,sans-Serif\" font-size=\"14.00\">value = 1607.0</text>\r\n",
       "</g>\r\n",
       "<!-- 14&#45;&gt;16 -->\r\n",
       "<g id=\"edge16\" class=\"edge\"><title>14&#45;&gt;16</title>\r\n",
       "<path fill=\"none\" stroke=\"black\" d=\"M998.822,-88.9485C1009.89,-79.526 1021.93,-69.2731 1032.95,-59.8906\"/>\r\n",
       "<polygon fill=\"black\" stroke=\"black\" points=\"1035.42,-62.3842 1040.77,-53.2367 1030.89,-57.0542 1035.42,-62.3842\"/>\r\n",
       "</g>\r\n",
       "<!-- 18 -->\r\n",
       "<g id=\"node19\" class=\"node\"><title>18</title>\r\n",
       "<path fill=\"#f4c9aa\" stroke=\"black\" d=\"M1638,-261C1638,-261 1516,-261 1516,-261 1510,-261 1504,-255 1504,-249 1504,-249 1504,-205 1504,-205 1504,-199 1510,-193 1516,-193 1516,-193 1638,-193 1638,-193 1644,-193 1650,-199 1650,-205 1650,-205 1650,-249 1650,-249 1650,-255 1644,-261 1638,-261\"/>\r\n",
       "<text text-anchor=\"start\" x=\"1534.5\" y=\"-245.8\" font-family=\"Helvetica,sans-Serif\" font-size=\"14.00\">temp ≤ 0.261</text>\r\n",
       "<text text-anchor=\"start\" x=\"1512\" y=\"-230.8\" font-family=\"Helvetica,sans-Serif\" font-size=\"14.00\">mse = 1107715.682</text>\r\n",
       "<text text-anchor=\"start\" x=\"1533.5\" y=\"-215.8\" font-family=\"Helvetica,sans-Serif\" font-size=\"14.00\">samples = 60</text>\r\n",
       "<text text-anchor=\"start\" x=\"1521.5\" y=\"-200.8\" font-family=\"Helvetica,sans-Serif\" font-size=\"14.00\">value = 3150.467</text>\r\n",
       "</g>\r\n",
       "<!-- 17&#45;&gt;18 -->\r\n",
       "<g id=\"edge18\" class=\"edge\"><title>17&#45;&gt;18</title>\r\n",
       "<path fill=\"none\" stroke=\"black\" d=\"M1658.04,-296.884C1647.14,-287.62 1635.18,-277.455 1623.88,-267.845\"/>\r\n",
       "<polygon fill=\"black\" stroke=\"black\" points=\"1626.06,-265.109 1616.18,-261.299 1621.53,-270.443 1626.06,-265.109\"/>\r\n",
       "</g>\r\n",
       "<!-- 25 -->\r\n",
       "<g id=\"node26\" class=\"node\"><title>25</title>\r\n",
       "<path fill=\"#eda877\" stroke=\"black\" d=\"M1878,-261C1878,-261 1756,-261 1756,-261 1750,-261 1744,-255 1744,-249 1744,-249 1744,-205 1744,-205 1744,-199 1750,-193 1756,-193 1756,-193 1878,-193 1878,-193 1884,-193 1890,-199 1890,-205 1890,-205 1890,-249 1890,-249 1890,-255 1884,-261 1878,-261\"/>\r\n",
       "<text text-anchor=\"start\" x=\"1767\" y=\"-245.8\" font-family=\"Helvetica,sans-Serif\" font-size=\"14.00\">weathersit ≤ 2.5</text>\r\n",
       "<text text-anchor=\"start\" x=\"1752\" y=\"-230.8\" font-family=\"Helvetica,sans-Serif\" font-size=\"14.00\">mse = 1289790.142</text>\r\n",
       "<text text-anchor=\"start\" x=\"1773.5\" y=\"-215.8\" font-family=\"Helvetica,sans-Serif\" font-size=\"14.00\">samples = 50</text>\r\n",
       "<text text-anchor=\"start\" x=\"1765.5\" y=\"-200.8\" font-family=\"Helvetica,sans-Serif\" font-size=\"14.00\">value = 5043.76</text>\r\n",
       "</g>\r\n",
       "<!-- 17&#45;&gt;25 -->\r\n",
       "<g id=\"edge25\" class=\"edge\"><title>17&#45;&gt;25</title>\r\n",
       "<path fill=\"none\" stroke=\"black\" d=\"M1735.96,-296.884C1746.86,-287.62 1758.82,-277.455 1770.12,-267.845\"/>\r\n",
       "<polygon fill=\"black\" stroke=\"black\" points=\"1772.47,-270.443 1777.82,-261.299 1767.94,-265.109 1772.47,-270.443\"/>\r\n",
       "</g>\r\n",
       "<!-- 19 -->\r\n",
       "<g id=\"node20\" class=\"node\"><title>19</title>\r\n",
       "<path fill=\"#f7dac4\" stroke=\"black\" d=\"M1406,-157C1406,-157 1300,-157 1300,-157 1294,-157 1288,-151 1288,-145 1288,-145 1288,-101 1288,-101 1288,-95 1294,-89 1300,-89 1300,-89 1406,-89 1406,-89 1412,-89 1418,-95 1418,-101 1418,-101 1418,-145 1418,-145 1418,-151 1412,-157 1406,-157\"/>\r\n",
       "<text text-anchor=\"start\" x=\"1313.5\" y=\"-141.8\" font-family=\"Helvetica,sans-Serif\" font-size=\"14.00\">hum ≤ 0.742</text>\r\n",
       "<text text-anchor=\"start\" x=\"1296\" y=\"-126.8\" font-family=\"Helvetica,sans-Serif\" font-size=\"14.00\">mse = 553012.86</text>\r\n",
       "<text text-anchor=\"start\" x=\"1309.5\" y=\"-111.8\" font-family=\"Helvetica,sans-Serif\" font-size=\"14.00\">samples = 20</text>\r\n",
       "<text text-anchor=\"start\" x=\"1306\" y=\"-96.8\" font-family=\"Helvetica,sans-Serif\" font-size=\"14.00\">value = 2188.2</text>\r\n",
       "</g>\r\n",
       "<!-- 18&#45;&gt;19 -->\r\n",
       "<g id=\"edge19\" class=\"edge\"><title>18&#45;&gt;19</title>\r\n",
       "<path fill=\"none\" stroke=\"black\" d=\"M1504.27,-192.884C1479.69,-181.69 1452.22,-169.181 1427.51,-157.927\"/>\r\n",
       "<polygon fill=\"black\" stroke=\"black\" points=\"1428.73,-154.639 1418.18,-153.68 1425.83,-161.009 1428.73,-154.639\"/>\r\n",
       "</g>\r\n",
       "<!-- 22 -->\r\n",
       "<g id=\"node23\" class=\"node\"><title>22</title>\r\n",
       "<path fill=\"#f2c19d\" stroke=\"black\" d=\"M1630,-157C1630,-157 1524,-157 1524,-157 1518,-157 1512,-151 1512,-145 1512,-145 1512,-101 1512,-101 1512,-95 1518,-89 1524,-89 1524,-89 1630,-89 1630,-89 1636,-89 1642,-95 1642,-101 1642,-101 1642,-145 1642,-145 1642,-151 1636,-157 1630,-157\"/>\r\n",
       "<text text-anchor=\"start\" x=\"1537.5\" y=\"-141.8\" font-family=\"Helvetica,sans-Serif\" font-size=\"14.00\">hum ≤ 0.652</text>\r\n",
       "<text text-anchor=\"start\" x=\"1520\" y=\"-126.8\" font-family=\"Helvetica,sans-Serif\" font-size=\"14.00\">mse = 690599.24</text>\r\n",
       "<text text-anchor=\"start\" x=\"1533.5\" y=\"-111.8\" font-family=\"Helvetica,sans-Serif\" font-size=\"14.00\">samples = 40</text>\r\n",
       "<text text-anchor=\"start\" x=\"1530\" y=\"-96.8\" font-family=\"Helvetica,sans-Serif\" font-size=\"14.00\">value = 3631.6</text>\r\n",
       "</g>\r\n",
       "<!-- 18&#45;&gt;22 -->\r\n",
       "<g id=\"edge22\" class=\"edge\"><title>18&#45;&gt;22</title>\r\n",
       "<path fill=\"none\" stroke=\"black\" d=\"M1577,-192.884C1577,-184.778 1577,-175.982 1577,-167.472\"/>\r\n",
       "<polygon fill=\"black\" stroke=\"black\" points=\"1580.5,-167.299 1577,-157.299 1573.5,-167.299 1580.5,-167.299\"/>\r\n",
       "</g>\r\n",
       "<!-- 20 -->\r\n",
       "<g id=\"node21\" class=\"node\"><title>20</title>\r\n",
       "<path fill=\"#f6d4bc\" stroke=\"black\" d=\"M1262,-53C1262,-53 1156,-53 1156,-53 1150,-53 1144,-47 1144,-41 1144,-41 1144,-12 1144,-12 1144,-6 1150,-0 1156,-0 1156,-0 1262,-0 1262,-0 1268,-0 1274,-6 1274,-12 1274,-12 1274,-41 1274,-41 1274,-47 1268,-53 1262,-53\"/>\r\n",
       "<text text-anchor=\"start\" x=\"1152\" y=\"-37.8\" font-family=\"Helvetica,sans-Serif\" font-size=\"14.00\">mse = 232087.04</text>\r\n",
       "<text text-anchor=\"start\" x=\"1165.5\" y=\"-22.8\" font-family=\"Helvetica,sans-Serif\" font-size=\"14.00\">samples = 15</text>\r\n",
       "<text text-anchor=\"start\" x=\"1162\" y=\"-7.8\" font-family=\"Helvetica,sans-Serif\" font-size=\"14.00\">value = 2488.6</text>\r\n",
       "</g>\r\n",
       "<!-- 19&#45;&gt;20 -->\r\n",
       "<g id=\"edge20\" class=\"edge\"><title>19&#45;&gt;20</title>\r\n",
       "<path fill=\"none\" stroke=\"black\" d=\"M1302.64,-88.9485C1287.72,-79.1601 1271.44,-68.4756 1256.7,-58.8015\"/>\r\n",
       "<polygon fill=\"black\" stroke=\"black\" points=\"1258.5,-55.7971 1248.22,-53.2367 1254.66,-61.6495 1258.5,-55.7971\"/>\r\n",
       "</g>\r\n",
       "<!-- 21 -->\r\n",
       "<g id=\"node22\" class=\"node\"><title>21</title>\r\n",
       "<path fill=\"#fae9dd\" stroke=\"black\" d=\"M1402,-53C1402,-53 1304,-53 1304,-53 1298,-53 1292,-47 1292,-41 1292,-41 1292,-12 1292,-12 1292,-6 1298,-0 1304,-0 1304,-0 1402,-0 1402,-0 1408,-0 1414,-6 1414,-12 1414,-12 1414,-41 1414,-41 1414,-47 1408,-53 1402,-53\"/>\r\n",
       "<text text-anchor=\"start\" x=\"1300\" y=\"-37.8\" font-family=\"Helvetica,sans-Serif\" font-size=\"14.00\">mse = 432908.4</text>\r\n",
       "<text text-anchor=\"start\" x=\"1313.5\" y=\"-22.8\" font-family=\"Helvetica,sans-Serif\" font-size=\"14.00\">samples = 5</text>\r\n",
       "<text text-anchor=\"start\" x=\"1306\" y=\"-7.8\" font-family=\"Helvetica,sans-Serif\" font-size=\"14.00\">value = 1287.0</text>\r\n",
       "</g>\r\n",
       "<!-- 19&#45;&gt;21 -->\r\n",
       "<g id=\"edge21\" class=\"edge\"><title>19&#45;&gt;21</title>\r\n",
       "<path fill=\"none\" stroke=\"black\" d=\"M1353,-88.9485C1353,-80.7153 1353,-71.848 1353,-63.4814\"/>\r\n",
       "<polygon fill=\"black\" stroke=\"black\" points=\"1356.5,-63.2367 1353,-53.2367 1349.5,-63.2367 1356.5,-63.2367\"/>\r\n",
       "</g>\r\n",
       "<!-- 23 -->\r\n",
       "<g id=\"node24\" class=\"node\"><title>23</title>\r\n",
       "<path fill=\"#f1bb95\" stroke=\"black\" d=\"M1558,-53C1558,-53 1444,-53 1444,-53 1438,-53 1432,-47 1432,-41 1432,-41 1432,-12 1432,-12 1432,-6 1438,-0 1444,-0 1444,-0 1558,-0 1558,-0 1564,-0 1570,-6 1570,-12 1570,-12 1570,-41 1570,-41 1570,-47 1564,-53 1558,-53\"/>\r\n",
       "<text text-anchor=\"start\" x=\"1440\" y=\"-37.8\" font-family=\"Helvetica,sans-Serif\" font-size=\"14.00\">mse = 316294.497</text>\r\n",
       "<text text-anchor=\"start\" x=\"1457.5\" y=\"-22.8\" font-family=\"Helvetica,sans-Serif\" font-size=\"14.00\">samples = 27</text>\r\n",
       "<text text-anchor=\"start\" x=\"1445.5\" y=\"-7.8\" font-family=\"Helvetica,sans-Serif\" font-size=\"14.00\">value = 3941.148</text>\r\n",
       "</g>\r\n",
       "<!-- 22&#45;&gt;23 -->\r\n",
       "<g id=\"edge23\" class=\"edge\"><title>22&#45;&gt;23</title>\r\n",
       "<path fill=\"none\" stroke=\"black\" d=\"M1550.42,-88.9485C1543.21,-79.9834 1535.39,-70.2666 1528.15,-61.2629\"/>\r\n",
       "<polygon fill=\"black\" stroke=\"black\" points=\"1530.69,-58.8358 1521.7,-53.2367 1525.24,-63.2228 1530.69,-58.8358\"/>\r\n",
       "</g>\r\n",
       "<!-- 24 -->\r\n",
       "<g id=\"node25\" class=\"node\"><title>24</title>\r\n",
       "<path fill=\"#f4ccaf\" stroke=\"black\" d=\"M1714,-53C1714,-53 1600,-53 1600,-53 1594,-53 1588,-47 1588,-41 1588,-41 1588,-12 1588,-12 1588,-6 1594,-0 1600,-0 1600,-0 1714,-0 1714,-0 1720,-0 1726,-6 1726,-12 1726,-12 1726,-41 1726,-41 1726,-47 1720,-53 1714,-53\"/>\r\n",
       "<text text-anchor=\"start\" x=\"1596\" y=\"-37.8\" font-family=\"Helvetica,sans-Serif\" font-size=\"14.00\">mse = 855660.213</text>\r\n",
       "<text text-anchor=\"start\" x=\"1613.5\" y=\"-22.8\" font-family=\"Helvetica,sans-Serif\" font-size=\"14.00\">samples = 13</text>\r\n",
       "<text text-anchor=\"start\" x=\"1601.5\" y=\"-7.8\" font-family=\"Helvetica,sans-Serif\" font-size=\"14.00\">value = 2988.692</text>\r\n",
       "</g>\r\n",
       "<!-- 22&#45;&gt;24 -->\r\n",
       "<g id=\"edge24\" class=\"edge\"><title>22&#45;&gt;24</title>\r\n",
       "<path fill=\"none\" stroke=\"black\" d=\"M1604.98,-88.9485C1612.65,-79.892 1620.96,-70.0682 1628.65,-60.9875\"/>\r\n",
       "<polygon fill=\"black\" stroke=\"black\" points=\"1631.42,-63.1305 1635.21,-53.2367 1626.08,-58.6076 1631.42,-63.1305\"/>\r\n",
       "</g>\r\n",
       "<!-- 26 -->\r\n",
       "<g id=\"node27\" class=\"node\"><title>26</title>\r\n",
       "<path fill=\"#eda775\" stroke=\"black\" d=\"M1874,-157C1874,-157 1760,-157 1760,-157 1754,-157 1748,-151 1748,-145 1748,-145 1748,-101 1748,-101 1748,-95 1754,-89 1760,-89 1760,-89 1874,-89 1874,-89 1880,-89 1886,-95 1886,-101 1886,-101 1886,-145 1886,-145 1886,-151 1880,-157 1874,-157\"/>\r\n",
       "<text text-anchor=\"start\" x=\"1779\" y=\"-141.8\" font-family=\"Helvetica,sans-Serif\" font-size=\"14.00\">temp ≤ 0.28</text>\r\n",
       "<text text-anchor=\"start\" x=\"1756\" y=\"-126.8\" font-family=\"Helvetica,sans-Serif\" font-size=\"14.00\">mse = 980119.868</text>\r\n",
       "<text text-anchor=\"start\" x=\"1773.5\" y=\"-111.8\" font-family=\"Helvetica,sans-Serif\" font-size=\"14.00\">samples = 49</text>\r\n",
       "<text text-anchor=\"start\" x=\"1761.5\" y=\"-96.8\" font-family=\"Helvetica,sans-Serif\" font-size=\"14.00\">value = 5125.735</text>\r\n",
       "</g>\r\n",
       "<!-- 25&#45;&gt;26 -->\r\n",
       "<g id=\"edge26\" class=\"edge\"><title>25&#45;&gt;26</title>\r\n",
       "<path fill=\"none\" stroke=\"black\" d=\"M1817,-192.884C1817,-184.778 1817,-175.982 1817,-167.472\"/>\r\n",
       "<polygon fill=\"black\" stroke=\"black\" points=\"1820.5,-167.299 1817,-157.299 1813.5,-167.299 1820.5,-167.299\"/>\r\n",
       "</g>\r\n",
       "<!-- 29 -->\r\n",
       "<g id=\"node30\" class=\"node\"><title>29</title>\r\n",
       "<path fill=\"#fbeee4\" stroke=\"black\" d=\"M2002,-149.5C2002,-149.5 1916,-149.5 1916,-149.5 1910,-149.5 1904,-143.5 1904,-137.5 1904,-137.5 1904,-108.5 1904,-108.5 1904,-102.5 1910,-96.5 1916,-96.5 1916,-96.5 2002,-96.5 2002,-96.5 2008,-96.5 2014,-102.5 2014,-108.5 2014,-108.5 2014,-137.5 2014,-137.5 2014,-143.5 2008,-149.5 2002,-149.5\"/>\r\n",
       "<text text-anchor=\"start\" x=\"1927\" y=\"-134.3\" font-family=\"Helvetica,sans-Serif\" font-size=\"14.00\">mse = 0.0</text>\r\n",
       "<text text-anchor=\"start\" x=\"1919.5\" y=\"-119.3\" font-family=\"Helvetica,sans-Serif\" font-size=\"14.00\">samples = 1</text>\r\n",
       "<text text-anchor=\"start\" x=\"1912\" y=\"-104.3\" font-family=\"Helvetica,sans-Serif\" font-size=\"14.00\">value = 1027.0</text>\r\n",
       "</g>\r\n",
       "<!-- 25&#45;&gt;29 -->\r\n",
       "<g id=\"edge29\" class=\"edge\"><title>25&#45;&gt;29</title>\r\n",
       "<path fill=\"none\" stroke=\"black\" d=\"M1863.1,-192.884C1879.79,-180.896 1898.58,-167.399 1915.08,-155.549\"/>\r\n",
       "<polygon fill=\"black\" stroke=\"black\" points=\"1917.39,-158.197 1923.47,-149.52 1913.31,-152.511 1917.39,-158.197\"/>\r\n",
       "</g>\r\n",
       "<!-- 27 -->\r\n",
       "<g id=\"node28\" class=\"node\"><title>27</title>\r\n",
       "<path fill=\"#f3c5a5\" stroke=\"black\" d=\"M1878,-53C1878,-53 1756,-53 1756,-53 1750,-53 1744,-47 1744,-41 1744,-41 1744,-12 1744,-12 1744,-6 1750,-0 1756,-0 1756,-0 1878,-0 1878,-0 1884,-0 1890,-6 1890,-12 1890,-12 1890,-41 1890,-41 1890,-47 1884,-53 1878,-53\"/>\r\n",
       "<text text-anchor=\"start\" x=\"1752\" y=\"-37.8\" font-family=\"Helvetica,sans-Serif\" font-size=\"14.00\">mse = 2036401.556</text>\r\n",
       "<text text-anchor=\"start\" x=\"1777.5\" y=\"-22.8\" font-family=\"Helvetica,sans-Serif\" font-size=\"14.00\">samples = 3</text>\r\n",
       "<text text-anchor=\"start\" x=\"1761.5\" y=\"-7.8\" font-family=\"Helvetica,sans-Serif\" font-size=\"14.00\">value = 3358.667</text>\r\n",
       "</g>\r\n",
       "<!-- 26&#45;&gt;27 -->\r\n",
       "<g id=\"edge27\" class=\"edge\"><title>26&#45;&gt;27</title>\r\n",
       "<path fill=\"none\" stroke=\"black\" d=\"M1817,-88.9485C1817,-80.7153 1817,-71.848 1817,-63.4814\"/>\r\n",
       "<polygon fill=\"black\" stroke=\"black\" points=\"1820.5,-63.2367 1817,-53.2367 1813.5,-63.2367 1820.5,-63.2367\"/>\r\n",
       "</g>\r\n",
       "<!-- 28 -->\r\n",
       "<g id=\"node29\" class=\"node\"><title>28</title>\r\n",
       "<path fill=\"#eca572\" stroke=\"black\" d=\"M2026,-53C2026,-53 1920,-53 1920,-53 1914,-53 1908,-47 1908,-41 1908,-41 1908,-12 1908,-12 1908,-6 1914,-0 1920,-0 1920,-0 2026,-0 2026,-0 2032,-0 2038,-6 2038,-12 2038,-12 2038,-41 2038,-41 2038,-47 2032,-53 2026,-53\"/>\r\n",
       "<text text-anchor=\"start\" x=\"1916\" y=\"-37.8\" font-family=\"Helvetica,sans-Serif\" font-size=\"14.00\">mse = 694307.63</text>\r\n",
       "<text text-anchor=\"start\" x=\"1929.5\" y=\"-22.8\" font-family=\"Helvetica,sans-Serif\" font-size=\"14.00\">samples = 46</text>\r\n",
       "<text text-anchor=\"start\" x=\"1917.5\" y=\"-7.8\" font-family=\"Helvetica,sans-Serif\" font-size=\"14.00\">value = 5240.978</text>\r\n",
       "</g>\r\n",
       "<!-- 26&#45;&gt;28 -->\r\n",
       "<g id=\"edge28\" class=\"edge\"><title>26&#45;&gt;28</title>\r\n",
       "<path fill=\"none\" stroke=\"black\" d=\"M1871.56,-88.9485C1887.87,-79.0686 1905.69,-68.2758 1921.78,-58.5305\"/>\r\n",
       "<polygon fill=\"black\" stroke=\"black\" points=\"1923.77,-61.4115 1930.51,-53.2367 1920.15,-55.4244 1923.77,-61.4115\"/>\r\n",
       "</g>\r\n",
       "<!-- 31 -->\r\n",
       "<g id=\"node32\" class=\"node\"><title>31</title>\r\n",
       "<path fill=\"#f0b68c\" stroke=\"black\" d=\"M2720,-365C2720,-365 2606,-365 2606,-365 2600,-365 2594,-359 2594,-353 2594,-353 2594,-309 2594,-309 2594,-303 2600,-297 2606,-297 2606,-297 2720,-297 2720,-297 2726,-297 2732,-303 2732,-309 2732,-309 2732,-353 2732,-353 2732,-359 2726,-365 2720,-365\"/>\r\n",
       "<text text-anchor=\"start\" x=\"2623.5\" y=\"-349.8\" font-family=\"Helvetica,sans-Serif\" font-size=\"14.00\">hum ≤ 0.758</text>\r\n",
       "<text text-anchor=\"start\" x=\"2602\" y=\"-334.8\" font-family=\"Helvetica,sans-Serif\" font-size=\"14.00\">mse = 726678.863</text>\r\n",
       "<text text-anchor=\"start\" x=\"2615.5\" y=\"-319.8\" font-family=\"Helvetica,sans-Serif\" font-size=\"14.00\">samples = 159</text>\r\n",
       "<text text-anchor=\"start\" x=\"2607.5\" y=\"-304.8\" font-family=\"Helvetica,sans-Serif\" font-size=\"14.00\">value = 4274.553</text>\r\n",
       "</g>\r\n",
       "<!-- 30&#45;&gt;31 -->\r\n",
       "<g id=\"edge31\" class=\"edge\"><title>30&#45;&gt;31</title>\r\n",
       "<path fill=\"none\" stroke=\"black\" d=\"M2663,-400.884C2663,-392.778 2663,-383.982 2663,-375.472\"/>\r\n",
       "<polygon fill=\"black\" stroke=\"black\" points=\"2666.5,-375.299 2663,-365.299 2659.5,-375.299 2666.5,-375.299\"/>\r\n",
       "</g>\r\n",
       "<!-- 46 -->\r\n",
       "<g id=\"node47\" class=\"node\"><title>46</title>\r\n",
       "<path fill=\"#e78d4c\" stroke=\"black\" d=\"M3612,-365C3612,-365 3490,-365 3490,-365 3484,-365 3478,-359 3478,-353 3478,-353 3478,-309 3478,-309 3478,-303 3484,-297 3490,-297 3490,-297 3612,-297 3612,-297 3618,-297 3624,-303 3624,-309 3624,-309 3624,-353 3624,-353 3624,-359 3618,-365 3612,-365\"/>\r\n",
       "<text text-anchor=\"start\" x=\"3511.5\" y=\"-349.8\" font-family=\"Helvetica,sans-Serif\" font-size=\"14.00\">hum ≤ 0.771</text>\r\n",
       "<text text-anchor=\"start\" x=\"3486\" y=\"-334.8\" font-family=\"Helvetica,sans-Serif\" font-size=\"14.00\">mse = 1256213.528</text>\r\n",
       "<text text-anchor=\"start\" x=\"3503.5\" y=\"-319.8\" font-family=\"Helvetica,sans-Serif\" font-size=\"14.00\">samples = 183</text>\r\n",
       "<text text-anchor=\"start\" x=\"3499.5\" y=\"-304.8\" font-family=\"Helvetica,sans-Serif\" font-size=\"14.00\">value = 6634.65</text>\r\n",
       "</g>\r\n",
       "<!-- 30&#45;&gt;46 -->\r\n",
       "<g id=\"edge46\" class=\"edge\"><title>30&#45;&gt;46</title>\r\n",
       "<path fill=\"none\" stroke=\"black\" d=\"M2736.05,-425.61C2899.67,-406.815 3294.78,-361.431 3467.66,-341.573\"/>\r\n",
       "<polygon fill=\"black\" stroke=\"black\" points=\"3468.19,-345.036 3477.72,-340.417 3467.39,-338.081 3468.19,-345.036\"/>\r\n",
       "</g>\r\n",
       "<!-- 32 -->\r\n",
       "<g id=\"node33\" class=\"node\"><title>32</title>\r\n",
       "<path fill=\"#efb286\" stroke=\"black\" d=\"M2564,-261C2564,-261 2450,-261 2450,-261 2444,-261 2438,-255 2438,-249 2438,-249 2438,-205 2438,-205 2438,-199 2444,-193 2450,-193 2450,-193 2564,-193 2564,-193 2570,-193 2576,-199 2576,-205 2576,-205 2576,-249 2576,-249 2576,-255 2570,-261 2564,-261\"/>\r\n",
       "<text text-anchor=\"start\" x=\"2473.5\" y=\"-245.8\" font-family=\"Helvetica,sans-Serif\" font-size=\"14.00\">mnth ≤ 4.5</text>\r\n",
       "<text text-anchor=\"start\" x=\"2446\" y=\"-230.8\" font-family=\"Helvetica,sans-Serif\" font-size=\"14.00\">mse = 477316.342</text>\r\n",
       "<text text-anchor=\"start\" x=\"2459.5\" y=\"-215.8\" font-family=\"Helvetica,sans-Serif\" font-size=\"14.00\">samples = 124</text>\r\n",
       "<text text-anchor=\"start\" x=\"2451.5\" y=\"-200.8\" font-family=\"Helvetica,sans-Serif\" font-size=\"14.00\">value = 4490.306</text>\r\n",
       "</g>\r\n",
       "<!-- 31&#45;&gt;32 -->\r\n",
       "<g id=\"edge32\" class=\"edge\"><title>31&#45;&gt;32</title>\r\n",
       "<path fill=\"none\" stroke=\"black\" d=\"M2612.35,-296.884C2597.7,-287.304 2581.58,-276.761 2566.44,-266.864\"/>\r\n",
       "<polygon fill=\"black\" stroke=\"black\" points=\"2567.95,-263.668 2557.66,-261.125 2564.12,-269.527 2567.95,-263.668\"/>\r\n",
       "</g>\r\n",
       "<!-- 39 -->\r\n",
       "<g id=\"node40\" class=\"node\"><title>39</title>\r\n",
       "<path fill=\"#f3c3a0\" stroke=\"black\" d=\"M2870,-261C2870,-261 2756,-261 2756,-261 2750,-261 2744,-255 2744,-249 2744,-249 2744,-205 2744,-205 2744,-199 2750,-193 2756,-193 2756,-193 2870,-193 2870,-193 2876,-193 2882,-199 2882,-205 2882,-205 2882,-249 2882,-249 2882,-255 2876,-261 2870,-261\"/>\r\n",
       "<text text-anchor=\"start\" x=\"2763\" y=\"-245.8\" font-family=\"Helvetica,sans-Serif\" font-size=\"14.00\">weathersit ≤ 2.5</text>\r\n",
       "<text text-anchor=\"start\" x=\"2752\" y=\"-230.8\" font-family=\"Helvetica,sans-Serif\" font-size=\"14.00\">mse = 860937.056</text>\r\n",
       "<text text-anchor=\"start\" x=\"2769.5\" y=\"-215.8\" font-family=\"Helvetica,sans-Serif\" font-size=\"14.00\">samples = 35</text>\r\n",
       "<text text-anchor=\"start\" x=\"2757.5\" y=\"-200.8\" font-family=\"Helvetica,sans-Serif\" font-size=\"14.00\">value = 3510.171</text>\r\n",
       "</g>\r\n",
       "<!-- 31&#45;&gt;39 -->\r\n",
       "<g id=\"edge39\" class=\"edge\"><title>31&#45;&gt;39</title>\r\n",
       "<path fill=\"none\" stroke=\"black\" d=\"M2711.7,-296.884C2725.79,-287.304 2741.29,-276.761 2755.85,-266.864\"/>\r\n",
       "<polygon fill=\"black\" stroke=\"black\" points=\"2757.99,-269.642 2764.29,-261.125 2754.05,-263.854 2757.99,-269.642\"/>\r\n",
       "</g>\r\n",
       "<!-- 33 -->\r\n",
       "<g id=\"node34\" class=\"node\"><title>33</title>\r\n",
       "<path fill=\"#f3c3a0\" stroke=\"black\" d=\"M2330,-157C2330,-157 2216,-157 2216,-157 2210,-157 2204,-151 2204,-145 2204,-145 2204,-101 2204,-101 2204,-95 2210,-89 2216,-89 2216,-89 2330,-89 2330,-89 2336,-89 2342,-95 2342,-101 2342,-101 2342,-145 2342,-145 2342,-151 2336,-157 2330,-157\"/>\r\n",
       "<text text-anchor=\"start\" x=\"2233.5\" y=\"-141.8\" font-family=\"Helvetica,sans-Serif\" font-size=\"14.00\">hum ≤ 0.504</text>\r\n",
       "<text text-anchor=\"start\" x=\"2212\" y=\"-126.8\" font-family=\"Helvetica,sans-Serif\" font-size=\"14.00\">mse = 690769.688</text>\r\n",
       "<text text-anchor=\"start\" x=\"2229.5\" y=\"-111.8\" font-family=\"Helvetica,sans-Serif\" font-size=\"14.00\">samples = 16</text>\r\n",
       "<text text-anchor=\"start\" x=\"2221.5\" y=\"-96.8\" font-family=\"Helvetica,sans-Serif\" font-size=\"14.00\">value = 3514.75</text>\r\n",
       "</g>\r\n",
       "<!-- 32&#45;&gt;33 -->\r\n",
       "<g id=\"edge33\" class=\"edge\"><title>32&#45;&gt;33</title>\r\n",
       "<path fill=\"none\" stroke=\"black\" d=\"M2437.74,-195.811C2410.62,-183.988 2379.37,-170.365 2351.42,-158.183\"/>\r\n",
       "<polygon fill=\"black\" stroke=\"black\" points=\"2352.65,-154.899 2342.08,-154.112 2349.85,-161.316 2352.65,-154.899\"/>\r\n",
       "</g>\r\n",
       "<!-- 36 -->\r\n",
       "<g id=\"node37\" class=\"node\"><title>36</title>\r\n",
       "<path fill=\"#efaf82\" stroke=\"black\" d=\"M2564,-157C2564,-157 2450,-157 2450,-157 2444,-157 2438,-151 2438,-145 2438,-145 2438,-101 2438,-101 2438,-95 2444,-89 2450,-89 2450,-89 2564,-89 2564,-89 2570,-89 2576,-95 2576,-101 2576,-101 2576,-145 2576,-145 2576,-151 2570,-157 2564,-157\"/>\r\n",
       "<text text-anchor=\"start\" x=\"2469\" y=\"-141.8\" font-family=\"Helvetica,sans-Serif\" font-size=\"14.00\">temp ≤ 0.74</text>\r\n",
       "<text text-anchor=\"start\" x=\"2446\" y=\"-126.8\" font-family=\"Helvetica,sans-Serif\" font-size=\"14.00\">mse = 283811.472</text>\r\n",
       "<text text-anchor=\"start\" x=\"2459.5\" y=\"-111.8\" font-family=\"Helvetica,sans-Serif\" font-size=\"14.00\">samples = 108</text>\r\n",
       "<text text-anchor=\"start\" x=\"2451.5\" y=\"-96.8\" font-family=\"Helvetica,sans-Serif\" font-size=\"14.00\">value = 4634.833</text>\r\n",
       "</g>\r\n",
       "<!-- 32&#45;&gt;36 -->\r\n",
       "<g id=\"edge36\" class=\"edge\"><title>32&#45;&gt;36</title>\r\n",
       "<path fill=\"none\" stroke=\"black\" d=\"M2507,-192.884C2507,-184.778 2507,-175.982 2507,-167.472\"/>\r\n",
       "<polygon fill=\"black\" stroke=\"black\" points=\"2510.5,-167.299 2507,-157.299 2503.5,-167.299 2510.5,-167.299\"/>\r\n",
       "</g>\r\n",
       "<!-- 34 -->\r\n",
       "<g id=\"node35\" class=\"node\"><title>34</title>\r\n",
       "<path fill=\"#f0b78e\" stroke=\"black\" d=\"M2174,-53C2174,-53 2068,-53 2068,-53 2062,-53 2056,-47 2056,-41 2056,-41 2056,-12 2056,-12 2056,-6 2062,-0 2068,-0 2068,-0 2174,-0 2174,-0 2180,-0 2186,-6 2186,-12 2186,-12 2186,-41 2186,-41 2186,-47 2180,-53 2174,-53\"/>\r\n",
       "<text text-anchor=\"start\" x=\"2064\" y=\"-37.8\" font-family=\"Helvetica,sans-Serif\" font-size=\"14.00\">mse = 554629.04</text>\r\n",
       "<text text-anchor=\"start\" x=\"2081.5\" y=\"-22.8\" font-family=\"Helvetica,sans-Serif\" font-size=\"14.00\">samples = 5</text>\r\n",
       "<text text-anchor=\"start\" x=\"2074\" y=\"-7.8\" font-family=\"Helvetica,sans-Serif\" font-size=\"14.00\">value = 4191.4</text>\r\n",
       "</g>\r\n",
       "<!-- 33&#45;&gt;34 -->\r\n",
       "<g id=\"edge34\" class=\"edge\"><title>33&#45;&gt;34</title>\r\n",
       "<path fill=\"none\" stroke=\"black\" d=\"M2219.84,-88.9485C2203.95,-79.0686 2186.59,-68.2758 2170.91,-58.5305\"/>\r\n",
       "<polygon fill=\"black\" stroke=\"black\" points=\"2172.74,-55.5443 2162.4,-53.2367 2169.04,-61.489 2172.74,-55.5443\"/>\r\n",
       "</g>\r\n",
       "<!-- 35 -->\r\n",
       "<g id=\"node36\" class=\"node\"><title>35</title>\r\n",
       "<path fill=\"#f4c8a9\" stroke=\"black\" d=\"M2330,-53C2330,-53 2216,-53 2216,-53 2210,-53 2204,-47 2204,-41 2204,-41 2204,-12 2204,-12 2204,-6 2210,-0 2216,-0 2216,-0 2330,-0 2330,-0 2336,-0 2342,-6 2342,-12 2342,-12 2342,-41 2342,-41 2342,-47 2336,-53 2330,-53\"/>\r\n",
       "<text text-anchor=\"start\" x=\"2212\" y=\"-37.8\" font-family=\"Helvetica,sans-Serif\" font-size=\"14.00\">mse = 449937.603</text>\r\n",
       "<text text-anchor=\"start\" x=\"2229.5\" y=\"-22.8\" font-family=\"Helvetica,sans-Serif\" font-size=\"14.00\">samples = 11</text>\r\n",
       "<text text-anchor=\"start\" x=\"2217.5\" y=\"-7.8\" font-family=\"Helvetica,sans-Serif\" font-size=\"14.00\">value = 3207.182</text>\r\n",
       "</g>\r\n",
       "<!-- 33&#45;&gt;35 -->\r\n",
       "<g id=\"edge35\" class=\"edge\"><title>33&#45;&gt;35</title>\r\n",
       "<path fill=\"none\" stroke=\"black\" d=\"M2273,-88.9485C2273,-80.7153 2273,-71.848 2273,-63.4814\"/>\r\n",
       "<polygon fill=\"black\" stroke=\"black\" points=\"2276.5,-63.2367 2273,-53.2367 2269.5,-63.2367 2276.5,-63.2367\"/>\r\n",
       "</g>\r\n",
       "<!-- 37 -->\r\n",
       "<g id=\"node38\" class=\"node\"><title>37</title>\r\n",
       "<path fill=\"#eead7e\" stroke=\"black\" d=\"M2486,-53C2486,-53 2372,-53 2372,-53 2366,-53 2360,-47 2360,-41 2360,-41 2360,-12 2360,-12 2360,-6 2366,-0 2372,-0 2372,-0 2486,-0 2486,-0 2492,-0 2498,-6 2498,-12 2498,-12 2498,-41 2498,-41 2498,-47 2492,-53 2486,-53\"/>\r\n",
       "<text text-anchor=\"start\" x=\"2368\" y=\"-37.8\" font-family=\"Helvetica,sans-Serif\" font-size=\"14.00\">mse = 247472.656</text>\r\n",
       "<text text-anchor=\"start\" x=\"2385.5\" y=\"-22.8\" font-family=\"Helvetica,sans-Serif\" font-size=\"14.00\">samples = 82</text>\r\n",
       "<text text-anchor=\"start\" x=\"2373.5\" y=\"-7.8\" font-family=\"Helvetica,sans-Serif\" font-size=\"14.00\">value = 4768.317</text>\r\n",
       "</g>\r\n",
       "<!-- 36&#45;&gt;37 -->\r\n",
       "<g id=\"edge37\" class=\"edge\"><title>36&#45;&gt;37</title>\r\n",
       "<path fill=\"none\" stroke=\"black\" d=\"M2479.72,-88.9485C2472.24,-79.892 2464.14,-70.0682 2456.64,-60.9875\"/>\r\n",
       "<polygon fill=\"black\" stroke=\"black\" points=\"2459.31,-58.721 2450.24,-53.2367 2453.91,-63.1769 2459.31,-58.721\"/>\r\n",
       "</g>\r\n",
       "<!-- 38 -->\r\n",
       "<g id=\"node39\" class=\"node\"><title>38</title>\r\n",
       "<path fill=\"#f0b78d\" stroke=\"black\" d=\"M2642,-53C2642,-53 2528,-53 2528,-53 2522,-53 2516,-47 2516,-41 2516,-41 2516,-12 2516,-12 2516,-6 2522,-0 2528,-0 2528,-0 2642,-0 2642,-0 2648,-0 2654,-6 2654,-12 2654,-12 2654,-41 2654,-41 2654,-47 2648,-53 2642,-53\"/>\r\n",
       "<text text-anchor=\"start\" x=\"2524\" y=\"-37.8\" font-family=\"Helvetica,sans-Serif\" font-size=\"14.00\">mse = 164993.361</text>\r\n",
       "<text text-anchor=\"start\" x=\"2541.5\" y=\"-22.8\" font-family=\"Helvetica,sans-Serif\" font-size=\"14.00\">samples = 26</text>\r\n",
       "<text text-anchor=\"start\" x=\"2529.5\" y=\"-7.8\" font-family=\"Helvetica,sans-Serif\" font-size=\"14.00\">value = 4213.846</text>\r\n",
       "</g>\r\n",
       "<!-- 36&#45;&gt;38 -->\r\n",
       "<g id=\"edge38\" class=\"edge\"><title>36&#45;&gt;38</title>\r\n",
       "<path fill=\"none\" stroke=\"black\" d=\"M2534.28,-88.9485C2541.76,-79.892 2549.86,-70.0682 2557.36,-60.9875\"/>\r\n",
       "<polygon fill=\"black\" stroke=\"black\" points=\"2560.09,-63.1769 2563.76,-53.2367 2554.69,-58.721 2560.09,-63.1769\"/>\r\n",
       "</g>\r\n",
       "<!-- 40 -->\r\n",
       "<g id=\"node41\" class=\"node\"><title>40</title>\r\n",
       "<path fill=\"#f2bf9a\" stroke=\"black\" d=\"M2870,-157C2870,-157 2756,-157 2756,-157 2750,-157 2744,-151 2744,-145 2744,-145 2744,-101 2744,-101 2744,-95 2750,-89 2756,-89 2756,-89 2870,-89 2870,-89 2876,-89 2882,-95 2882,-101 2882,-101 2882,-145 2882,-145 2882,-151 2876,-157 2870,-157\"/>\r\n",
       "<text text-anchor=\"start\" x=\"2752.5\" y=\"-141.8\" font-family=\"Helvetica,sans-Serif\" font-size=\"14.00\">windspeed ≤ 0.324</text>\r\n",
       "<text text-anchor=\"start\" x=\"2752\" y=\"-126.8\" font-family=\"Helvetica,sans-Serif\" font-size=\"14.00\">mse = 680801.356</text>\r\n",
       "<text text-anchor=\"start\" x=\"2769.5\" y=\"-111.8\" font-family=\"Helvetica,sans-Serif\" font-size=\"14.00\">samples = 29</text>\r\n",
       "<text text-anchor=\"start\" x=\"2757.5\" y=\"-96.8\" font-family=\"Helvetica,sans-Serif\" font-size=\"14.00\">value = 3749.241</text>\r\n",
       "</g>\r\n",
       "<!-- 39&#45;&gt;40 -->\r\n",
       "<g id=\"edge40\" class=\"edge\"><title>39&#45;&gt;40</title>\r\n",
       "<path fill=\"none\" stroke=\"black\" d=\"M2813,-192.884C2813,-184.778 2813,-175.982 2813,-167.472\"/>\r\n",
       "<polygon fill=\"black\" stroke=\"black\" points=\"2816.5,-167.299 2813,-157.299 2809.5,-167.299 2816.5,-167.299\"/>\r\n",
       "</g>\r\n",
       "<!-- 43 -->\r\n",
       "<g id=\"node44\" class=\"node\"><title>43</title>\r\n",
       "<path fill=\"#f7d7c0\" stroke=\"black\" d=\"M3098,-157C3098,-157 2984,-157 2984,-157 2978,-157 2972,-151 2972,-145 2972,-145 2972,-101 2972,-101 2972,-95 2978,-89 2984,-89 2984,-89 3098,-89 3098,-89 3104,-89 3110,-95 3110,-101 3110,-101 3110,-145 3110,-145 3110,-151 3104,-157 3098,-157\"/>\r\n",
       "<text text-anchor=\"start\" x=\"3001.5\" y=\"-141.8\" font-family=\"Helvetica,sans-Serif\" font-size=\"14.00\">hum ≤ 0.914</text>\r\n",
       "<text text-anchor=\"start\" x=\"2980\" y=\"-126.8\" font-family=\"Helvetica,sans-Serif\" font-size=\"14.00\">mse = 120155.222</text>\r\n",
       "<text text-anchor=\"start\" x=\"3001.5\" y=\"-111.8\" font-family=\"Helvetica,sans-Serif\" font-size=\"14.00\">samples = 6</text>\r\n",
       "<text text-anchor=\"start\" x=\"2985.5\" y=\"-96.8\" font-family=\"Helvetica,sans-Serif\" font-size=\"14.00\">value = 2354.667</text>\r\n",
       "</g>\r\n",
       "<!-- 39&#45;&gt;43 -->\r\n",
       "<g id=\"edge43\" class=\"edge\"><title>39&#45;&gt;43</title>\r\n",
       "<path fill=\"none\" stroke=\"black\" d=\"M2882.03,-195.12C2907.47,-183.738 2936.47,-170.764 2962.67,-159.041\"/>\r\n",
       "<polygon fill=\"black\" stroke=\"black\" points=\"2964.12,-162.23 2971.82,-154.951 2961.26,-155.84 2964.12,-162.23\"/>\r\n",
       "</g>\r\n",
       "<!-- 41 -->\r\n",
       "<g id=\"node42\" class=\"node\"><title>41</title>\r\n",
       "<path fill=\"#f1bc96\" stroke=\"black\" d=\"M2798,-53C2798,-53 2684,-53 2684,-53 2678,-53 2672,-47 2672,-41 2672,-41 2672,-12 2672,-12 2672,-6 2678,-0 2684,-0 2684,-0 2798,-0 2798,-0 2804,-0 2810,-6 2810,-12 2810,-12 2810,-41 2810,-41 2810,-47 2804,-53 2798,-53\"/>\r\n",
       "<text text-anchor=\"start\" x=\"2680\" y=\"-37.8\" font-family=\"Helvetica,sans-Serif\" font-size=\"14.00\">mse = 402377.937</text>\r\n",
       "<text text-anchor=\"start\" x=\"2697.5\" y=\"-22.8\" font-family=\"Helvetica,sans-Serif\" font-size=\"14.00\">samples = 27</text>\r\n",
       "<text text-anchor=\"start\" x=\"2689.5\" y=\"-7.8\" font-family=\"Helvetica,sans-Serif\" font-size=\"14.00\">value = 3890.63</text>\r\n",
       "</g>\r\n",
       "<!-- 40&#45;&gt;41 -->\r\n",
       "<g id=\"edge41\" class=\"edge\"><title>40&#45;&gt;41</title>\r\n",
       "<path fill=\"none\" stroke=\"black\" d=\"M2787.82,-88.9485C2780.99,-79.9834 2773.58,-70.2666 2766.72,-61.2629\"/>\r\n",
       "<polygon fill=\"black\" stroke=\"black\" points=\"2769.45,-59.0699 2760.61,-53.2367 2763.89,-63.3122 2769.45,-59.0699\"/>\r\n",
       "</g>\r\n",
       "<!-- 42 -->\r\n",
       "<g id=\"node43\" class=\"node\"><title>42</title>\r\n",
       "<path fill=\"#f9e0ce\" stroke=\"black\" d=\"M2946,-53C2946,-53 2840,-53 2840,-53 2834,-53 2828,-47 2828,-41 2828,-41 2828,-12 2828,-12 2828,-6 2834,-0 2840,-0 2840,-0 2946,-0 2946,-0 2952,-0 2958,-6 2958,-12 2958,-12 2958,-41 2958,-41 2958,-47 2952,-53 2946,-53\"/>\r\n",
       "<text text-anchor=\"start\" x=\"2836\" y=\"-37.8\" font-family=\"Helvetica,sans-Serif\" font-size=\"14.00\">mse = 526350.25</text>\r\n",
       "<text text-anchor=\"start\" x=\"2853.5\" y=\"-22.8\" font-family=\"Helvetica,sans-Serif\" font-size=\"14.00\">samples = 2</text>\r\n",
       "<text text-anchor=\"start\" x=\"2846\" y=\"-7.8\" font-family=\"Helvetica,sans-Serif\" font-size=\"14.00\">value = 1840.5</text>\r\n",
       "</g>\r\n",
       "<!-- 40&#45;&gt;42 -->\r\n",
       "<g id=\"edge42\" class=\"edge\"><title>40&#45;&gt;42</title>\r\n",
       "<path fill=\"none\" stroke=\"black\" d=\"M2840.98,-88.9485C2848.65,-79.892 2856.96,-70.0682 2864.65,-60.9875\"/>\r\n",
       "<polygon fill=\"black\" stroke=\"black\" points=\"2867.42,-63.1305 2871.21,-53.2367 2862.08,-58.6076 2867.42,-63.1305\"/>\r\n",
       "</g>\r\n",
       "<!-- 44 -->\r\n",
       "<g id=\"node45\" class=\"node\"><title>44</title>\r\n",
       "<path fill=\"#f6d3ba\" stroke=\"black\" d=\"M3094,-53C3094,-53 2988,-53 2988,-53 2982,-53 2976,-47 2976,-41 2976,-41 2976,-12 2976,-12 2976,-6 2982,-0 2988,-0 2988,-0 3094,-0 3094,-0 3100,-0 3106,-6 3106,-12 3106,-12 3106,-41 3106,-41 3106,-47 3100,-53 3094,-53\"/>\r\n",
       "<text text-anchor=\"start\" x=\"2984\" y=\"-37.8\" font-family=\"Helvetica,sans-Serif\" font-size=\"14.00\">mse = 25587.688</text>\r\n",
       "<text text-anchor=\"start\" x=\"3001.5\" y=\"-22.8\" font-family=\"Helvetica,sans-Serif\" font-size=\"14.00\">samples = 4</text>\r\n",
       "<text text-anchor=\"start\" x=\"2989.5\" y=\"-7.8\" font-family=\"Helvetica,sans-Serif\" font-size=\"14.00\">value = 2578.75</text>\r\n",
       "</g>\r\n",
       "<!-- 43&#45;&gt;44 -->\r\n",
       "<g id=\"edge44\" class=\"edge\"><title>43&#45;&gt;44</title>\r\n",
       "<path fill=\"none\" stroke=\"black\" d=\"M3041,-88.9485C3041,-80.7153 3041,-71.848 3041,-63.4814\"/>\r\n",
       "<polygon fill=\"black\" stroke=\"black\" points=\"3044.5,-63.2367 3041,-53.2367 3037.5,-63.2367 3044.5,-63.2367\"/>\r\n",
       "</g>\r\n",
       "<!-- 45 -->\r\n",
       "<g id=\"node46\" class=\"node\"><title>45</title>\r\n",
       "<path fill=\"#f8decc\" stroke=\"black\" d=\"M3225.5,-53C3225.5,-53 3136.5,-53 3136.5,-53 3130.5,-53 3124.5,-47 3124.5,-41 3124.5,-41 3124.5,-12 3124.5,-12 3124.5,-6 3130.5,-0 3136.5,-0 3136.5,-0 3225.5,-0 3225.5,-0 3231.5,-0 3237.5,-6 3237.5,-12 3237.5,-12 3237.5,-41 3237.5,-41 3237.5,-47 3231.5,-53 3225.5,-53\"/>\r\n",
       "<text text-anchor=\"start\" x=\"3132.5\" y=\"-37.8\" font-family=\"Helvetica,sans-Serif\" font-size=\"14.00\">mse = 8010.25</text>\r\n",
       "<text text-anchor=\"start\" x=\"3141.5\" y=\"-22.8\" font-family=\"Helvetica,sans-Serif\" font-size=\"14.00\">samples = 2</text>\r\n",
       "<text text-anchor=\"start\" x=\"3134\" y=\"-7.8\" font-family=\"Helvetica,sans-Serif\" font-size=\"14.00\">value = 1906.5</text>\r\n",
       "</g>\r\n",
       "<!-- 43&#45;&gt;45 -->\r\n",
       "<g id=\"edge45\" class=\"edge\"><title>43&#45;&gt;45</title>\r\n",
       "<path fill=\"none\" stroke=\"black\" d=\"M3089.97,-88.9485C3104.33,-79.2516 3120,-68.6752 3134.23,-59.073\"/>\r\n",
       "<polygon fill=\"black\" stroke=\"black\" points=\"3136.54,-61.7325 3142.87,-53.2367 3132.62,-55.9305 3136.54,-61.7325\"/>\r\n",
       "</g>\r\n",
       "<!-- 47 -->\r\n",
       "<g id=\"node48\" class=\"node\"><title>47</title>\r\n",
       "<path fill=\"#e78945\" stroke=\"black\" d=\"M3608,-261C3608,-261 3494,-261 3494,-261 3488,-261 3482,-255 3482,-249 3482,-249 3482,-205 3482,-205 3482,-199 3488,-193 3494,-193 3494,-193 3608,-193 3608,-193 3614,-193 3620,-199 3620,-205 3620,-205 3620,-249 3620,-249 3620,-255 3614,-261 3608,-261\"/>\r\n",
       "<text text-anchor=\"start\" x=\"3517.5\" y=\"-245.8\" font-family=\"Helvetica,sans-Serif\" font-size=\"14.00\">mnth ≤ 7.5</text>\r\n",
       "<text text-anchor=\"start\" x=\"3490\" y=\"-230.8\" font-family=\"Helvetica,sans-Serif\" font-size=\"14.00\">mse = 692131.435</text>\r\n",
       "<text text-anchor=\"start\" x=\"3503.5\" y=\"-215.8\" font-family=\"Helvetica,sans-Serif\" font-size=\"14.00\">samples = 160</text>\r\n",
       "<text text-anchor=\"start\" x=\"3504\" y=\"-200.8\" font-family=\"Helvetica,sans-Serif\" font-size=\"14.00\">value = 6876.8</text>\r\n",
       "</g>\r\n",
       "<!-- 46&#45;&gt;47 -->\r\n",
       "<g id=\"edge47\" class=\"edge\"><title>46&#45;&gt;47</title>\r\n",
       "<path fill=\"none\" stroke=\"black\" d=\"M3551,-296.884C3551,-288.778 3551,-279.982 3551,-271.472\"/>\r\n",
       "<polygon fill=\"black\" stroke=\"black\" points=\"3554.5,-271.299 3551,-261.299 3547.5,-271.299 3554.5,-271.299\"/>\r\n",
       "</g>\r\n",
       "<!-- 54 -->\r\n",
       "<g id=\"node55\" class=\"node\"><title>54</title>\r\n",
       "<path fill=\"#edaa79\" stroke=\"black\" d=\"M3994,-261C3994,-261 3872,-261 3872,-261 3866,-261 3860,-255 3860,-249 3860,-249 3860,-205 3860,-205 3860,-199 3866,-193 3872,-193 3872,-193 3994,-193 3994,-193 4000,-193 4006,-199 4006,-205 4006,-205 4006,-249 4006,-249 4006,-255 4000,-261 3994,-261\"/>\r\n",
       "<text text-anchor=\"start\" x=\"3872.5\" y=\"-245.8\" font-family=\"Helvetica,sans-Serif\" font-size=\"14.00\">windspeed ≤ 0.358</text>\r\n",
       "<text text-anchor=\"start\" x=\"3868\" y=\"-230.8\" font-family=\"Helvetica,sans-Serif\" font-size=\"14.00\">mse = 1934749.766</text>\r\n",
       "<text text-anchor=\"start\" x=\"3889.5\" y=\"-215.8\" font-family=\"Helvetica,sans-Serif\" font-size=\"14.00\">samples = 23</text>\r\n",
       "<text text-anchor=\"start\" x=\"3881.5\" y=\"-200.8\" font-family=\"Helvetica,sans-Serif\" font-size=\"14.00\">value = 4950.13</text>\r\n",
       "</g>\r\n",
       "<!-- 46&#45;&gt;54 -->\r\n",
       "<g id=\"edge54\" class=\"edge\"><title>46&#45;&gt;54</title>\r\n",
       "<path fill=\"none\" stroke=\"black\" d=\"M3624.2,-310.454C3688.73,-293.224 3782.68,-268.137 3849.99,-250.165\"/>\r\n",
       "<polygon fill=\"black\" stroke=\"black\" points=\"3850.96,-253.528 3859.72,-247.567 3849.16,-246.765 3850.96,-253.528\"/>\r\n",
       "</g>\r\n",
       "<!-- 48 -->\r\n",
       "<g id=\"node49\" class=\"node\"><title>48</title>\r\n",
       "<path fill=\"#e78d4c\" stroke=\"black\" d=\"M3530,-157C3530,-157 3416,-157 3416,-157 3410,-157 3404,-151 3404,-145 3404,-145 3404,-101 3404,-101 3404,-95 3410,-89 3416,-89 3416,-89 3530,-89 3530,-89 3536,-89 3542,-95 3542,-101 3542,-101 3542,-145 3542,-145 3542,-151 3536,-157 3530,-157\"/>\r\n",
       "<text text-anchor=\"start\" x=\"3430.5\" y=\"-141.8\" font-family=\"Helvetica,sans-Serif\" font-size=\"14.00\">temp ≤ 0.791</text>\r\n",
       "<text text-anchor=\"start\" x=\"3412\" y=\"-126.8\" font-family=\"Helvetica,sans-Serif\" font-size=\"14.00\">mse = 699774.739</text>\r\n",
       "<text text-anchor=\"start\" x=\"3429.5\" y=\"-111.8\" font-family=\"Helvetica,sans-Serif\" font-size=\"14.00\">samples = 96</text>\r\n",
       "<text text-anchor=\"start\" x=\"3421.5\" y=\"-96.8\" font-family=\"Helvetica,sans-Serif\" font-size=\"14.00\">value = 6627.99</text>\r\n",
       "</g>\r\n",
       "<!-- 47&#45;&gt;48 -->\r\n",
       "<g id=\"edge48\" class=\"edge\"><title>47&#45;&gt;48</title>\r\n",
       "<path fill=\"none\" stroke=\"black\" d=\"M3525.68,-192.884C3519,-184.154 3511.71,-174.625 3504.75,-165.514\"/>\r\n",
       "<polygon fill=\"black\" stroke=\"black\" points=\"3507.32,-163.117 3498.46,-157.299 3501.76,-167.369 3507.32,-163.117\"/>\r\n",
       "</g>\r\n",
       "<!-- 51 -->\r\n",
       "<g id=\"node52\" class=\"node\"><title>51</title>\r\n",
       "<path fill=\"#e5823b\" stroke=\"black\" d=\"M3685.5,-157C3685.5,-157 3572.5,-157 3572.5,-157 3566.5,-157 3560.5,-151 3560.5,-145 3560.5,-145 3560.5,-101 3560.5,-101 3560.5,-95 3566.5,-89 3572.5,-89 3572.5,-89 3685.5,-89 3685.5,-89 3691.5,-89 3697.5,-95 3697.5,-101 3697.5,-101 3697.5,-145 3697.5,-145 3697.5,-151 3691.5,-157 3685.5,-157\"/>\r\n",
       "<text text-anchor=\"start\" x=\"3568.5\" y=\"-141.8\" font-family=\"Helvetica,sans-Serif\" font-size=\"14.00\">windspeed ≤ 0.287</text>\r\n",
       "<text text-anchor=\"start\" x=\"3572\" y=\"-126.8\" font-family=\"Helvetica,sans-Serif\" font-size=\"14.00\">mse = 448516.64</text>\r\n",
       "<text text-anchor=\"start\" x=\"3585.5\" y=\"-111.8\" font-family=\"Helvetica,sans-Serif\" font-size=\"14.00\">samples = 64</text>\r\n",
       "<text text-anchor=\"start\" x=\"3573.5\" y=\"-96.8\" font-family=\"Helvetica,sans-Serif\" font-size=\"14.00\">value = 7250.016</text>\r\n",
       "</g>\r\n",
       "<!-- 47&#45;&gt;51 -->\r\n",
       "<g id=\"edge51\" class=\"edge\"><title>47&#45;&gt;51</title>\r\n",
       "<path fill=\"none\" stroke=\"black\" d=\"M3576.32,-192.884C3583,-184.154 3590.29,-174.625 3597.25,-165.514\"/>\r\n",
       "<polygon fill=\"black\" stroke=\"black\" points=\"3600.24,-167.369 3603.54,-157.299 3594.68,-163.117 3600.24,-167.369\"/>\r\n",
       "</g>\r\n",
       "<!-- 49 -->\r\n",
       "<g id=\"node50\" class=\"node\"><title>49</title>\r\n",
       "<path fill=\"#e78b49\" stroke=\"black\" d=\"M3374,-53C3374,-53 3268,-53 3268,-53 3262,-53 3256,-47 3256,-41 3256,-41 3256,-12 3256,-12 3256,-6 3262,-0 3268,-0 3268,-0 3374,-0 3374,-0 3380,-0 3386,-6 3386,-12 3386,-12 3386,-41 3386,-41 3386,-47 3380,-53 3374,-53\"/>\r\n",
       "<text text-anchor=\"start\" x=\"3264\" y=\"-37.8\" font-family=\"Helvetica,sans-Serif\" font-size=\"14.00\">mse = 633246.31</text>\r\n",
       "<text text-anchor=\"start\" x=\"3277.5\" y=\"-22.8\" font-family=\"Helvetica,sans-Serif\" font-size=\"14.00\">samples = 87</text>\r\n",
       "<text text-anchor=\"start\" x=\"3265.5\" y=\"-7.8\" font-family=\"Helvetica,sans-Serif\" font-size=\"14.00\">value = 6723.322</text>\r\n",
       "</g>\r\n",
       "<!-- 48&#45;&gt;49 -->\r\n",
       "<g id=\"edge49\" class=\"edge\"><title>48&#45;&gt;49</title>\r\n",
       "<path fill=\"none\" stroke=\"black\" d=\"M3419.84,-88.9485C3403.95,-79.0686 3386.59,-68.2758 3370.91,-58.5305\"/>\r\n",
       "<polygon fill=\"black\" stroke=\"black\" points=\"3372.74,-55.5443 3362.4,-53.2367 3369.04,-61.489 3372.74,-55.5443\"/>\r\n",
       "</g>\r\n",
       "<!-- 50 -->\r\n",
       "<g id=\"node51\" class=\"node\"><title>50</title>\r\n",
       "<path fill=\"#eb9d65\" stroke=\"black\" d=\"M3530,-53C3530,-53 3416,-53 3416,-53 3410,-53 3404,-47 3404,-41 3404,-41 3404,-12 3404,-12 3404,-6 3410,-0 3416,-0 3416,-0 3530,-0 3530,-0 3536,-0 3542,-6 3542,-12 3542,-12 3542,-41 3542,-41 3542,-47 3536,-53 3530,-53\"/>\r\n",
       "<text text-anchor=\"start\" x=\"3412\" y=\"-37.8\" font-family=\"Helvetica,sans-Serif\" font-size=\"14.00\">mse = 405784.469</text>\r\n",
       "<text text-anchor=\"start\" x=\"3433.5\" y=\"-22.8\" font-family=\"Helvetica,sans-Serif\" font-size=\"14.00\">samples = 9</text>\r\n",
       "<text text-anchor=\"start\" x=\"3417.5\" y=\"-7.8\" font-family=\"Helvetica,sans-Serif\" font-size=\"14.00\">value = 5706.444</text>\r\n",
       "</g>\r\n",
       "<!-- 48&#45;&gt;50 -->\r\n",
       "<g id=\"edge50\" class=\"edge\"><title>48&#45;&gt;50</title>\r\n",
       "<path fill=\"none\" stroke=\"black\" d=\"M3473,-88.9485C3473,-80.7153 3473,-71.848 3473,-63.4814\"/>\r\n",
       "<polygon fill=\"black\" stroke=\"black\" points=\"3476.5,-63.2367 3473,-53.2367 3469.5,-63.2367 3476.5,-63.2367\"/>\r\n",
       "</g>\r\n",
       "<!-- 52 -->\r\n",
       "<g id=\"node53\" class=\"node\"><title>52</title>\r\n",
       "<path fill=\"#e58139\" stroke=\"black\" d=\"M3686,-53C3686,-53 3572,-53 3572,-53 3566,-53 3560,-47 3560,-41 3560,-41 3560,-12 3560,-12 3560,-6 3566,-0 3572,-0 3572,-0 3686,-0 3686,-0 3692,-0 3698,-6 3698,-12 3698,-12 3698,-41 3698,-41 3698,-47 3692,-53 3686,-53\"/>\r\n",
       "<text text-anchor=\"start\" x=\"3568\" y=\"-37.8\" font-family=\"Helvetica,sans-Serif\" font-size=\"14.00\">mse = 343470.275</text>\r\n",
       "<text text-anchor=\"start\" x=\"3585.5\" y=\"-22.8\" font-family=\"Helvetica,sans-Serif\" font-size=\"14.00\">samples = 61</text>\r\n",
       "<text text-anchor=\"start\" x=\"3577.5\" y=\"-7.8\" font-family=\"Helvetica,sans-Serif\" font-size=\"14.00\">value = 7326.77</text>\r\n",
       "</g>\r\n",
       "<!-- 51&#45;&gt;52 -->\r\n",
       "<g id=\"edge52\" class=\"edge\"><title>51&#45;&gt;52</title>\r\n",
       "<path fill=\"none\" stroke=\"black\" d=\"M3629,-88.9485C3629,-80.7153 3629,-71.848 3629,-63.4814\"/>\r\n",
       "<polygon fill=\"black\" stroke=\"black\" points=\"3632.5,-63.2367 3629,-53.2367 3625.5,-63.2367 3632.5,-63.2367\"/>\r\n",
       "</g>\r\n",
       "<!-- 53 -->\r\n",
       "<g id=\"node54\" class=\"node\"><title>53</title>\r\n",
       "<path fill=\"#eb9d65\" stroke=\"black\" d=\"M3834,-53C3834,-53 3728,-53 3728,-53 3722,-53 3716,-47 3716,-41 3716,-41 3716,-12 3716,-12 3716,-6 3722,-0 3728,-0 3728,-0 3834,-0 3834,-0 3840,-0 3846,-6 3846,-12 3846,-12 3846,-41 3846,-41 3846,-47 3840,-53 3834,-53\"/>\r\n",
       "<text text-anchor=\"start\" x=\"3724\" y=\"-37.8\" font-family=\"Helvetica,sans-Serif\" font-size=\"14.00\">mse = 28940.222</text>\r\n",
       "<text text-anchor=\"start\" x=\"3741.5\" y=\"-22.8\" font-family=\"Helvetica,sans-Serif\" font-size=\"14.00\">samples = 3</text>\r\n",
       "<text text-anchor=\"start\" x=\"3725.5\" y=\"-7.8\" font-family=\"Helvetica,sans-Serif\" font-size=\"14.00\">value = 5689.333</text>\r\n",
       "</g>\r\n",
       "<!-- 51&#45;&gt;53 -->\r\n",
       "<g id=\"edge53\" class=\"edge\"><title>51&#45;&gt;53</title>\r\n",
       "<path fill=\"none\" stroke=\"black\" d=\"M3682.16,-88.9485C3698.05,-79.0686 3715.41,-68.2758 3731.09,-58.5305\"/>\r\n",
       "<polygon fill=\"black\" stroke=\"black\" points=\"3732.96,-61.489 3739.6,-53.2367 3729.26,-55.5443 3732.96,-61.489\"/>\r\n",
       "</g>\r\n",
       "<!-- 55 -->\r\n",
       "<g id=\"node56\" class=\"node\"><title>55</title>\r\n",
       "<path fill=\"#eda673\" stroke=\"black\" d=\"M3990,-157C3990,-157 3876,-157 3876,-157 3870,-157 3864,-151 3864,-145 3864,-145 3864,-101 3864,-101 3864,-95 3870,-89 3876,-89 3876,-89 3990,-89 3990,-89 3996,-89 4002,-95 4002,-101 4002,-101 4002,-145 4002,-145 4002,-151 3996,-157 3990,-157\"/>\r\n",
       "<text text-anchor=\"start\" x=\"3883\" y=\"-141.8\" font-family=\"Helvetica,sans-Serif\" font-size=\"14.00\">weathersit ≤ 1.5</text>\r\n",
       "<text text-anchor=\"start\" x=\"3872\" y=\"-126.8\" font-family=\"Helvetica,sans-Serif\" font-size=\"14.00\">mse = 868583.845</text>\r\n",
       "<text text-anchor=\"start\" x=\"3889.5\" y=\"-111.8\" font-family=\"Helvetica,sans-Serif\" font-size=\"14.00\">samples = 22</text>\r\n",
       "<text text-anchor=\"start\" x=\"3877.5\" y=\"-96.8\" font-family=\"Helvetica,sans-Serif\" font-size=\"14.00\">value = 5174.136</text>\r\n",
       "</g>\r\n",
       "<!-- 54&#45;&gt;55 -->\r\n",
       "<g id=\"edge55\" class=\"edge\"><title>54&#45;&gt;55</title>\r\n",
       "<path fill=\"none\" stroke=\"black\" d=\"M3933,-192.884C3933,-184.778 3933,-175.982 3933,-167.472\"/>\r\n",
       "<polygon fill=\"black\" stroke=\"black\" points=\"3936.5,-167.299 3933,-157.299 3929.5,-167.299 3936.5,-167.299\"/>\r\n",
       "</g>\r\n",
       "<!-- 58 -->\r\n",
       "<g id=\"node59\" class=\"node\"><title>58</title>\r\n",
       "<path fill=\"#ffffff\" stroke=\"black\" d=\"M4103.5,-149.5C4103.5,-149.5 4032.5,-149.5 4032.5,-149.5 4026.5,-149.5 4020.5,-143.5 4020.5,-137.5 4020.5,-137.5 4020.5,-108.5 4020.5,-108.5 4020.5,-102.5 4026.5,-96.5 4032.5,-96.5 4032.5,-96.5 4103.5,-96.5 4103.5,-96.5 4109.5,-96.5 4115.5,-102.5 4115.5,-108.5 4115.5,-108.5 4115.5,-137.5 4115.5,-137.5 4115.5,-143.5 4109.5,-149.5 4103.5,-149.5\"/>\r\n",
       "<text text-anchor=\"start\" x=\"4036\" y=\"-134.3\" font-family=\"Helvetica,sans-Serif\" font-size=\"14.00\">mse = 0.0</text>\r\n",
       "<text text-anchor=\"start\" x=\"4028.5\" y=\"-119.3\" font-family=\"Helvetica,sans-Serif\" font-size=\"14.00\">samples = 1</text>\r\n",
       "<text text-anchor=\"start\" x=\"4029\" y=\"-104.3\" font-family=\"Helvetica,sans-Serif\" font-size=\"14.00\">value = 22.0</text>\r\n",
       "</g>\r\n",
       "<!-- 54&#45;&gt;58 -->\r\n",
       "<g id=\"edge58\" class=\"edge\"><title>54&#45;&gt;58</title>\r\n",
       "<path fill=\"none\" stroke=\"black\" d=\"M3976.83,-192.884C3992.7,-180.896 4010.56,-167.399 4026.24,-155.549\"/>\r\n",
       "<polygon fill=\"black\" stroke=\"black\" points=\"4028.35,-158.341 4034.22,-149.52 4024.13,-152.756 4028.35,-158.341\"/>\r\n",
       "</g>\r\n",
       "<!-- 56 -->\r\n",
       "<g id=\"node57\" class=\"node\"><title>56</title>\r\n",
       "<path fill=\"#e99254\" stroke=\"black\" d=\"M3990,-53C3990,-53 3876,-53 3876,-53 3870,-53 3864,-47 3864,-41 3864,-41 3864,-12 3864,-12 3864,-6 3870,-0 3876,-0 3876,-0 3990,-0 3990,-0 3996,-0 4002,-6 4002,-12 4002,-12 4002,-41 4002,-41 4002,-47 3996,-53 3990,-53\"/>\r\n",
       "<text text-anchor=\"start\" x=\"3872\" y=\"-37.8\" font-family=\"Helvetica,sans-Serif\" font-size=\"14.00\">mse = 145481.556</text>\r\n",
       "<text text-anchor=\"start\" x=\"3893.5\" y=\"-22.8\" font-family=\"Helvetica,sans-Serif\" font-size=\"14.00\">samples = 3</text>\r\n",
       "<text text-anchor=\"start\" x=\"3877.5\" y=\"-7.8\" font-family=\"Helvetica,sans-Serif\" font-size=\"14.00\">value = 6332.667</text>\r\n",
       "</g>\r\n",
       "<!-- 55&#45;&gt;56 -->\r\n",
       "<g id=\"edge56\" class=\"edge\"><title>55&#45;&gt;56</title>\r\n",
       "<path fill=\"none\" stroke=\"black\" d=\"M3933,-88.9485C3933,-80.7153 3933,-71.848 3933,-63.4814\"/>\r\n",
       "<polygon fill=\"black\" stroke=\"black\" points=\"3936.5,-63.2367 3933,-53.2367 3929.5,-63.2367 3936.5,-63.2367\"/>\r\n",
       "</g>\r\n",
       "<!-- 57 -->\r\n",
       "<g id=\"node58\" class=\"node\"><title>57</title>\r\n",
       "<path fill=\"#eda978\" stroke=\"black\" d=\"M4146,-53C4146,-53 4032,-53 4032,-53 4026,-53 4020,-47 4020,-41 4020,-41 4020,-12 4020,-12 4020,-6 4026,-0 4032,-0 4032,-0 4146,-0 4146,-0 4152,-0 4158,-6 4158,-12 4158,-12 4158,-41 4158,-41 4158,-47 4152,-53 4146,-53\"/>\r\n",
       "<text text-anchor=\"start\" x=\"4028\" y=\"-37.8\" font-family=\"Helvetica,sans-Serif\" font-size=\"14.00\">mse = 737370.903</text>\r\n",
       "<text text-anchor=\"start\" x=\"4045.5\" y=\"-22.8\" font-family=\"Helvetica,sans-Serif\" font-size=\"14.00\">samples = 19</text>\r\n",
       "<text text-anchor=\"start\" x=\"4033.5\" y=\"-7.8\" font-family=\"Helvetica,sans-Serif\" font-size=\"14.00\">value = 4991.211</text>\r\n",
       "</g>\r\n",
       "<!-- 55&#45;&gt;57 -->\r\n",
       "<g id=\"edge57\" class=\"edge\"><title>55&#45;&gt;57</title>\r\n",
       "<path fill=\"none\" stroke=\"black\" d=\"M3987.56,-88.9485C4003.87,-79.0686 4021.69,-68.2758 4037.78,-58.5305\"/>\r\n",
       "<polygon fill=\"black\" stroke=\"black\" points=\"4039.77,-61.4115 4046.51,-53.2367 4036.15,-55.4244 4039.77,-61.4115\"/>\r\n",
       "</g>\r\n",
       "</g>\r\n",
       "</svg>\r\n"
      ],
      "text/plain": [
       "<graphviz.files.Source at 0x25bea7bdb70>"
      ]
     },
     "execution_count": 66,
     "metadata": {},
     "output_type": "execute_result"
    }
   ],
   "source": [
    "data=export_graphviz(dt_model,out_file=None,feature_names=feature_names,class_names=target_names,   \n",
    "                         filled=True, rounded=True,  \n",
    "                         special_characters=True)\n",
    "\n",
    "\n",
    "\n",
    "graph = graphviz.Source(data)\n",
    "graph\n",
    "\n"
   ]
  },
  {
   "cell_type": "code",
   "execution_count": null,
   "metadata": {},
   "outputs": [],
   "source": []
  },
  {
   "cell_type": "code",
   "execution_count": null,
   "metadata": {},
   "outputs": [],
   "source": []
  },
  {
   "cell_type": "markdown",
   "metadata": {},
   "source": [
    "# Random Forest Regressor model"
   ]
  },
  {
   "cell_type": "code",
   "execution_count": 67,
   "metadata": {},
   "outputs": [],
   "source": [
    "from sklearn.ensemble import RandomForestRegressor"
   ]
  },
  {
   "cell_type": "code",
   "execution_count": 68,
   "metadata": {},
   "outputs": [],
   "source": [
    "rf_model = RandomForestRegressor(max_depth=7)"
   ]
  },
  {
   "cell_type": "code",
   "execution_count": 69,
   "metadata": {},
   "outputs": [
    {
     "name": "stderr",
     "output_type": "stream",
     "text": [
      "C:\\Users\\rnp\\AppData\\Local\\Continuum\\anaconda3\\lib\\site-packages\\sklearn\\ensemble\\forest.py:245: FutureWarning: The default value of n_estimators will change from 10 in version 0.20 to 100 in 0.22.\n",
      "  \"10 in version 0.20 to 100 in 0.22.\", FutureWarning)\n"
     ]
    },
    {
     "data": {
      "text/plain": [
       "RandomForestRegressor(bootstrap=True, criterion='mse', max_depth=7,\n",
       "                      max_features='auto', max_leaf_nodes=None,\n",
       "                      min_impurity_decrease=0.0, min_impurity_split=None,\n",
       "                      min_samples_leaf=1, min_samples_split=2,\n",
       "                      min_weight_fraction_leaf=0.0, n_estimators=10,\n",
       "                      n_jobs=None, oob_score=False, random_state=None,\n",
       "                      verbose=0, warm_start=False)"
      ]
     },
     "execution_count": 69,
     "metadata": {},
     "output_type": "execute_result"
    }
   ],
   "source": [
    "rf_model.fit(X_train, y_train)"
   ]
  },
  {
   "cell_type": "code",
   "execution_count": 70,
   "metadata": {},
   "outputs": [],
   "source": [
    "rf_ypred = rf_model.predict(X_test)"
   ]
  },
  {
   "cell_type": "code",
   "execution_count": 71,
   "metadata": {},
   "outputs": [
    {
     "data": {
      "text/html": [
       "<div>\n",
       "<style scoped>\n",
       "    .dataframe tbody tr th:only-of-type {\n",
       "        vertical-align: middle;\n",
       "    }\n",
       "\n",
       "    .dataframe tbody tr th {\n",
       "        vertical-align: top;\n",
       "    }\n",
       "\n",
       "    .dataframe thead th {\n",
       "        text-align: right;\n",
       "    }\n",
       "</style>\n",
       "<table border=\"1\" class=\"dataframe\">\n",
       "  <thead>\n",
       "    <tr style=\"text-align: right;\">\n",
       "      <th></th>\n",
       "      <th>Actual</th>\n",
       "      <th>Predicated</th>\n",
       "    </tr>\n",
       "  </thead>\n",
       "  <tbody>\n",
       "    <tr>\n",
       "      <th>383</th>\n",
       "      <td>3292</td>\n",
       "      <td>2667.097698</td>\n",
       "    </tr>\n",
       "    <tr>\n",
       "      <th>583</th>\n",
       "      <td>7013</td>\n",
       "      <td>6796.876323</td>\n",
       "    </tr>\n",
       "    <tr>\n",
       "      <th>691</th>\n",
       "      <td>2425</td>\n",
       "      <td>5288.844927</td>\n",
       "    </tr>\n",
       "    <tr>\n",
       "      <th>360</th>\n",
       "      <td>1162</td>\n",
       "      <td>1895.283434</td>\n",
       "    </tr>\n",
       "    <tr>\n",
       "      <th>459</th>\n",
       "      <td>6436</td>\n",
       "      <td>6678.756637</td>\n",
       "    </tr>\n",
       "  </tbody>\n",
       "</table>\n",
       "</div>"
      ],
      "text/plain": [
       "     Actual   Predicated\n",
       "383    3292  2667.097698\n",
       "583    7013  6796.876323\n",
       "691    2425  5288.844927\n",
       "360    1162  1895.283434\n",
       "459    6436  6678.756637"
      ]
     },
     "execution_count": 71,
     "metadata": {},
     "output_type": "execute_result"
    }
   ],
   "source": [
    "#Displaying the prediction Actual vs Predicted\n",
    "rf_pred_df = pd.DataFrame({'Actual': y_test, 'Predicated': rf_ypred})\n",
    "rf_pred_df.head()"
   ]
  },
  {
   "cell_type": "code",
   "execution_count": 72,
   "metadata": {},
   "outputs": [
    {
     "data": {
      "image/png": "[encoded data removed]",
      "text/plain": [
       "<Figure size 1080x720 with 1 Axes>"
      ]
     },
     "metadata": {
      "needs_background": "light"
     },
     "output_type": "display_data"
    }
   ],
   "source": [
    "#Plot graph on Actual vs Predicated for first 50 observation on TEST set\n",
    "temp_df =rf_pred_df .head(50)\n",
    "temp_df.plot(kind='bar', figsize=(15,10))\n",
    "plt.grid(which='Major', linestyle='-', linewidth='0.5', color='green')\n",
    "plt.grid(which='Minor', linestyle=':', linewidth='0.5', color='black')\n",
    "plt.xlabel('Observations / Instant')\n",
    "plt.ylabel('Count - Actual vs Predicted')\n",
    "plt.show()"
   ]
  },
  {
   "cell_type": "code",
   "execution_count": 73,
   "metadata": {},
   "outputs": [],
   "source": [
    "#MAPE\n",
    "mape = round((MAPE(y_test,rf_ypred)),3)\n",
    "\n",
    "#accuracy \n",
    "accuracy = round((100 - np.mean(mape)),3)\n",
    "\n",
    "#MAE\n",
    "mae = round((metrics.mean_absolute_error(y_test, rf_ypred)),3)\n",
    "\n",
    "#MSE\n",
    "mse = round((metrics.mean_squared_error(y_test, rf_ypred)),3)\n",
    "\n",
    "#RMSE\n",
    "rmse = round((np.sqrt(metrics.mean_squared_error(y_test, rf_ypred))),3)"
   ]
  },
  {
   "cell_type": "code",
   "execution_count": 74,
   "metadata": {},
   "outputs": [
    {
     "name": "stdout",
     "output_type": "stream",
     "text": [
      "Mean absolute percentage error (MAPE) -  14.811\n",
      "Mean absolute error (MAE) -  484.832\n",
      "Mean squared error (MSE)  -  547641.351\n",
      "Root mean squared error (RMSE) -  740.028\n",
      "Model Accuracy -  85.189 %\n"
     ]
    }
   ],
   "source": [
    "print (\"Mean absolute percentage error (MAPE) - \", mape)\n",
    "print (\"Mean absolute error (MAE) - \", mae)\n",
    "print (\"Mean squared error (MSE)  - \", mse)\n",
    "print (\"Root mean squared error (RMSE) - \", rmse)\n",
    "print (\"Model Accuracy - \", accuracy,\"%\")"
   ]
  },
  {
   "cell_type": "markdown",
   "metadata": {},
   "source": [
    "# Finding feature importance from the Random Forest regressor  model and apply the model again on important features"
   ]
  },
  {
   "cell_type": "code",
   "execution_count": 75,
   "metadata": {},
   "outputs": [
    {
     "data": {
      "text/plain": [
       "[0.06696466323048597,\n",
       " 0.29993644575264494,\n",
       " 0.01950263730635584,\n",
       " 0.0024785792933839177,\n",
       " 0.012610208223872914,\n",
       " 0.002325303512283184,\n",
       " 0.02448576406528922,\n",
       " 0.47386020139695695,\n",
       " 0.07466818175977948,\n",
       " 0.023168015458947557]"
      ]
     },
     "execution_count": 75,
     "metadata": {},
     "output_type": "execute_result"
    }
   ],
   "source": [
    "importances = list(rf_model.feature_importances_)\n",
    "importances"
   ]
  },
  {
   "cell_type": "code",
   "execution_count": 76,
   "metadata": {},
   "outputs": [
    {
     "data": {
      "text/plain": [
       "[('season', 0.07),\n",
       " ('yr', 0.3),\n",
       " ('mnth', 0.02),\n",
       " ('holiday', 0.0),\n",
       " ('weekday', 0.01),\n",
       " ('workingday', 0.0),\n",
       " ('weathersit', 0.02),\n",
       " ('temp', 0.47),\n",
       " ('hum', 0.07),\n",
       " ('windspeed', 0.02)]"
      ]
     },
     "execution_count": 76,
     "metadata": {},
     "output_type": "execute_result"
    }
   ],
   "source": [
    "feature_list = X.columns\n",
    "feature_importance = [(feature, round(importance,2)) for feature, importance in zip(feature_list, importances)]\n",
    "feature_importance"
   ]
  },
  {
   "cell_type": "code",
   "execution_count": 77,
   "metadata": {},
   "outputs": [],
   "source": [
    "X = bike_df[['season', 'yr', 'mnth', 'weekday', 'weathersit', 'temp', 'hum', 'windspeed']]"
   ]
  },
  {
   "cell_type": "code",
   "execution_count": 78,
   "metadata": {},
   "outputs": [],
   "source": [
    "X_train, X_test, y_train, y_test = train_test_split(X,y, test_size=0.3, random_state=86)"
   ]
  },
  {
   "cell_type": "code",
   "execution_count": 79,
   "metadata": {},
   "outputs": [],
   "source": [
    "rf_imp_feature = RandomForestRegressor(n_estimators=80, max_depth=10)"
   ]
  },
  {
   "cell_type": "code",
   "execution_count": 80,
   "metadata": {},
   "outputs": [
    {
     "data": {
      "text/plain": [
       "RandomForestRegressor(bootstrap=True, criterion='mse', max_depth=10,\n",
       "                      max_features='auto', max_leaf_nodes=None,\n",
       "                      min_impurity_decrease=0.0, min_impurity_split=None,\n",
       "                      min_samples_leaf=1, min_samples_split=2,\n",
       "                      min_weight_fraction_leaf=0.0, n_estimators=80,\n",
       "                      n_jobs=None, oob_score=False, random_state=None,\n",
       "                      verbose=0, warm_start=False)"
      ]
     },
     "execution_count": 80,
     "metadata": {},
     "output_type": "execute_result"
    }
   ],
   "source": [
    "rf_imp_feature.fit(X_train, y_train)"
   ]
  },
  {
   "cell_type": "code",
   "execution_count": 81,
   "metadata": {},
   "outputs": [],
   "source": [
    "rf_imp_ypred = rf_imp_feature.predict(X_test)"
   ]
  },
  {
   "cell_type": "code",
   "execution_count": 82,
   "metadata": {},
   "outputs": [
    {
     "data": {
      "text/html": [
       "<div>\n",
       "<style scoped>\n",
       "    .dataframe tbody tr th:only-of-type {\n",
       "        vertical-align: middle;\n",
       "    }\n",
       "\n",
       "    .dataframe tbody tr th {\n",
       "        vertical-align: top;\n",
       "    }\n",
       "\n",
       "    .dataframe thead th {\n",
       "        text-align: right;\n",
       "    }\n",
       "</style>\n",
       "<table border=\"1\" class=\"dataframe\">\n",
       "  <thead>\n",
       "    <tr style=\"text-align: right;\">\n",
       "      <th></th>\n",
       "      <th>Actual</th>\n",
       "      <th>Predicated</th>\n",
       "    </tr>\n",
       "  </thead>\n",
       "  <tbody>\n",
       "    <tr>\n",
       "      <th>383</th>\n",
       "      <td>3292</td>\n",
       "      <td>2705.802153</td>\n",
       "    </tr>\n",
       "    <tr>\n",
       "      <th>583</th>\n",
       "      <td>7013</td>\n",
       "      <td>6881.301753</td>\n",
       "    </tr>\n",
       "    <tr>\n",
       "      <th>691</th>\n",
       "      <td>2425</td>\n",
       "      <td>5311.711330</td>\n",
       "    </tr>\n",
       "    <tr>\n",
       "      <th>360</th>\n",
       "      <td>1162</td>\n",
       "      <td>2031.666548</td>\n",
       "    </tr>\n",
       "    <tr>\n",
       "      <th>459</th>\n",
       "      <td>6436</td>\n",
       "      <td>6749.399369</td>\n",
       "    </tr>\n",
       "  </tbody>\n",
       "</table>\n",
       "</div>"
      ],
      "text/plain": [
       "     Actual   Predicated\n",
       "383    3292  2705.802153\n",
       "583    7013  6881.301753\n",
       "691    2425  5311.711330\n",
       "360    1162  2031.666548\n",
       "459    6436  6749.399369"
      ]
     },
     "execution_count": 82,
     "metadata": {},
     "output_type": "execute_result"
    }
   ],
   "source": [
    "#Displaying the prediction Actual vs Predicted\n",
    "rf_pred_df = pd.DataFrame({'Actual': y_test, 'Predicated': rf_imp_ypred})\n",
    "rf_pred_df.head()"
   ]
  },
  {
   "cell_type": "code",
   "execution_count": 83,
   "metadata": {},
   "outputs": [],
   "source": [
    "#MAPE\n",
    "mape = round((MAPE(y_test,rf_imp_ypred)),3)\n",
    "\n",
    "#accuracy \n",
    "accuracy = round((100 - np.mean(mape)),3)\n",
    "\n",
    "#MAE\n",
    "mae = round((metrics.mean_absolute_error(y_test, rf_imp_ypred)),3)\n",
    "\n",
    "#MSE\n",
    "mse = round((metrics.mean_squared_error(y_test, rf_imp_ypred)),3)\n",
    "\n",
    "#RMSE\n",
    "rmse = round((np.sqrt(metrics.mean_squared_error(y_test, rf_imp_ypred))),3)"
   ]
  },
  {
   "cell_type": "code",
   "execution_count": 84,
   "metadata": {},
   "outputs": [
    {
     "name": "stdout",
     "output_type": "stream",
     "text": [
      "Mean absolute percentage error (MAPE) -  14.859\n",
      "Mean absolute error (MAE) -  473.44\n",
      "Mean squared error (MSE)  -  499622.548\n",
      "Root mean squared error (RMSE) -  706.84\n",
      "Model Accuracy -  85.141 %\n"
     ]
    }
   ],
   "source": [
    "print (\"Mean absolute percentage error (MAPE) - \", mape)\n",
    "print (\"Mean absolute error (MAE) - \", mae)\n",
    "print (\"Mean squared error (MSE)  - \", mse)\n",
    "print (\"Root mean squared error (RMSE) - \", rmse)\n",
    "print (\"Model Accuracy - \", accuracy,\"%\")"
   ]
  },
  {
   "cell_type": "code",
   "execution_count": null,
   "metadata": {},
   "outputs": [],
   "source": []
  },
  {
   "cell_type": "code",
   "execution_count": null,
   "metadata": {},
   "outputs": [],
   "source": []
  },
  {
   "cell_type": "code",
   "execution_count": null,
   "metadata": {},
   "outputs": [],
   "source": []
  }
 ],
 "metadata": {
  "kernelspec": {
   "display_name": "Python 3",
   "language": "python",
   "name": "python3"
  },
  "language_info": {
   "codemirror_mode": {
    "name": "ipython",
    "version": 3
   },
   "file_extension": ".py",
   "mimetype": "text/x-python",
   "name": "python",
   "nbconvert_exporter": "python",
   "pygments_lexer": "ipython3",
   "version": "3.7.3"
  }
 },
 "nbformat": 4,
 "nbformat_minor": 2
}
